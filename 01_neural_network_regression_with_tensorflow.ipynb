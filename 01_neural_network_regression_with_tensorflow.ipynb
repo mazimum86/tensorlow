{
 "cells": [
  {
   "cell_type": "code",
   "execution_count": 1,
   "id": "3a81dcc4",
   "metadata": {},
   "outputs": [
    {
     "name": "stdout",
     "output_type": "stream",
     "text": [
      "2.13.0\n"
     ]
    }
   ],
   "source": [
    "# Import TensorFlow\n",
    "import tensorflow as tf\n",
    "print(tf.__version__)"
   ]
  },
  {
   "cell_type": "markdown",
   "id": "a5933599",
   "metadata": {},
   "source": [
    "## Creating Some Data to View and Fit"
   ]
  },
  {
   "cell_type": "code",
   "execution_count": 94,
   "id": "db9e5f75",
   "metadata": {},
   "outputs": [
    {
     "data": {
      "image/png": "[encoded data removed]",
      "text/plain": [
       "<Figure size 640x480 with 1 Axes>"
      ]
     },
     "metadata": {},
     "output_type": "display_data"
    }
   ],
   "source": [
    "import numpy as np\n",
    "import matplotlib.pyplot as plt\n",
    "\n",
    "# Create features\n",
    "X = np.array([[-7.0,-4,-1,2,5,8,11,14]])\n",
    "\n",
    "# Create labels\n",
    "y = np.array([3.0,6,9,12,15,18,21,24])\n",
    "\n",
    "# Visualize it\n",
    "plt.scatter(X,y);"
   ]
  },
  {
   "cell_type": "code",
   "execution_count": 95,
   "id": "86bd9560",
   "metadata": {},
   "outputs": [
    {
     "data": {
      "text/plain": [
       "array([[ True,  True,  True,  True,  True,  True,  True,  True]])"
      ]
     },
     "execution_count": 95,
     "metadata": {},
     "output_type": "execute_result"
    }
   ],
   "source": [
    "y == X + 10"
   ]
  },
  {
   "cell_type": "markdown",
   "id": "bde8d49d",
   "metadata": {},
   "source": [
    "## Input and output shapes\n"
   ]
  },
  {
   "cell_type": "code",
   "execution_count": 96,
   "id": "90eec966",
   "metadata": {},
   "outputs": [
    {
     "data": {
      "text/plain": [
       "(<tf.Tensor: shape=(3,), dtype=string, numpy=array([b'bedroom', b'bathroom', b'garagge'], dtype=object)>,\n",
       " <tf.Tensor: shape=(1,), dtype=int32, numpy=array([939700])>)"
      ]
     },
     "execution_count": 96,
     "metadata": {},
     "output_type": "execute_result"
    }
   ],
   "source": [
    "# Creat a demo tensor for our housing price prediction problem\n",
    "\n",
    "house_info = tf.constant(['bedroom','bathroom','garagge'])\n",
    "house_price = tf.constant([939700])\n",
    "house_info, house_price"
   ]
  },
  {
   "cell_type": "code",
   "execution_count": 97,
   "id": "0460dc8b",
   "metadata": {},
   "outputs": [
    {
     "data": {
      "text/plain": [
       "((8,), ())"
      ]
     },
     "execution_count": 97,
     "metadata": {},
     "output_type": "execute_result"
    }
   ],
   "source": [
    "input_shape = X[0].shape\n",
    "output_shape = y[0].shape\n",
    "\n",
    "input_shape, output_shape"
   ]
  },
  {
   "cell_type": "code",
   "execution_count": 98,
   "id": "b85c3f6d",
   "metadata": {},
   "outputs": [
    {
     "data": {
      "text/plain": [
       "(array([-7., -4., -1.,  2.,  5.,  8., 11., 14.]), 3.0)"
      ]
     },
     "execution_count": 98,
     "metadata": {},
     "output_type": "execute_result"
    }
   ],
   "source": [
    "X[0], y[0]"
   ]
  },
  {
   "cell_type": "code",
   "execution_count": 118,
   "id": "96ef8764",
   "metadata": {},
   "outputs": [
    {
     "data": {
      "text/plain": [
       "(<tf.Tensor: shape=(1,), dtype=float32, numpy=array([-4.], dtype=float32)>,\n",
       " <tf.Tensor: shape=(), dtype=float32, numpy=6.0>)"
      ]
     },
     "execution_count": 118,
     "metadata": {},
     "output_type": "execute_result"
    }
   ],
   "source": [
    "X[1], y[1]"
   ]
  },
  {
   "cell_type": "code",
   "execution_count": 100,
   "id": "ea2dfbf8",
   "metadata": {},
   "outputs": [
    {
     "data": {
      "text/plain": [
       "1"
      ]
     },
     "execution_count": 100,
     "metadata": {},
     "output_type": "execute_result"
    }
   ],
   "source": [
    "X[0].ndim"
   ]
  },
  {
   "cell_type": "code",
   "execution_count": 106,
   "id": "1fc7d96c",
   "metadata": {},
   "outputs": [
    {
     "data": {
      "text/plain": [
       "(<tf.Tensor: shape=(8, 1), dtype=float32, numpy=\n",
       " array([[-7.],\n",
       "        [-4.],\n",
       "        [-1.],\n",
       "        [ 2.],\n",
       "        [ 5.],\n",
       "        [ 8.],\n",
       "        [11.],\n",
       "        [14.]], dtype=float32)>,\n",
       " <tf.Tensor: shape=(8,), dtype=float32, numpy=array([ 3.,  6.,  9., 12., 15., 18., 21., 24.], dtype=float32)>)"
      ]
     },
     "execution_count": 106,
     "metadata": {},
     "output_type": "execute_result"
    }
   ],
   "source": [
    "## Turn our Numpy arrays into tensors\n",
    "X = tf.transpose(tf.cast(tf.constant(X),dtype=tf.float32))\n",
    "y = tf.cast(tf.constant(y),dtype=tf.float32)\n",
    "X,y"
   ]
  },
  {
   "cell_type": "code",
   "execution_count": 107,
   "id": "c2d5f97d",
   "metadata": {},
   "outputs": [
    {
     "data": {
      "text/plain": [
       "(TensorShape([1]), TensorShape([]))"
      ]
     },
     "execution_count": 107,
     "metadata": {},
     "output_type": "execute_result"
    }
   ],
   "source": [
    "input_shape = X[0].shape\n",
    "output_shape = y[0].shape\n",
    "\n",
    "input_shape, output_shape"
   ]
  },
  {
   "cell_type": "code",
   "execution_count": null,
   "id": "46f8f09f",
   "metadata": {},
   "outputs": [],
   "source": []
  },
  {
   "cell_type": "code",
   "execution_count": 108,
   "id": "30b74716",
   "metadata": {},
   "outputs": [
    {
     "data": {
      "text/plain": [
       "<matplotlib.collections.PathCollection at 0x277aa57edc0>"
      ]
     },
     "execution_count": 108,
     "metadata": {},
     "output_type": "execute_result"
    },
    {
     "data": {
      "image/png": "[encoded data removed]",
      "text/plain": [
       "<Figure size 640x480 with 1 Axes>"
      ]
     },
     "metadata": {},
     "output_type": "display_data"
    }
   ],
   "source": [
    "plt.scatter(X,y)"
   ]
  },
  {
   "cell_type": "code",
   "execution_count": 109,
   "id": "4f357077",
   "metadata": {},
   "outputs": [],
   "source": [
    "#model = tf.keras.Sequential()\n",
    "#model.add(tf.keras.layers.Dense(1))"
   ]
  },
  {
   "cell_type": "code",
   "execution_count": 113,
   "id": "a98e8400",
   "metadata": {},
   "outputs": [
    {
     "name": "stdout",
     "output_type": "stream",
     "text": [
      "Epoch 1/5\n",
      "1/1 [==============================] - 0s 387ms/step - loss: 9.1434 - mae: 9.1434\n",
      "Epoch 2/5\n",
      "1/1 [==============================] - 0s 16ms/step - loss: 9.0109 - mae: 9.0109\n",
      "Epoch 3/5\n",
      "1/1 [==============================] - 0s 16ms/step - loss: 8.8784 - mae: 8.8784\n",
      "Epoch 4/5\n",
      "1/1 [==============================] - 0s 16ms/step - loss: 8.7459 - mae: 8.7459\n",
      "Epoch 5/5\n",
      "1/1 [==============================] - 0s 16ms/step - loss: 8.6134 - mae: 8.6134\n"
     ]
    },
    {
     "data": {
      "text/plain": [
       "<keras.src.callbacks.History at 0x277a647f280>"
      ]
     },
     "execution_count": 113,
     "metadata": {},
     "output_type": "execute_result"
    }
   ],
   "source": [
    "## Set random seed\n",
    "tf.random.set_seed(42)\n",
    "\n",
    "# 1. Create a model using Sequential API\n",
    "\n",
    "model = tf.keras.Sequential([\n",
    "    tf.keras.layers.Dense(1)\n",
    "    \n",
    "])\n",
    "\n",
    "\n",
    "# 2. Compile the model\n",
    "model.compile( loss=tf.keras.losses.mae, # mea is short for mean absolute error\n",
    "     optimizer=tf.keras.optimizers.SGD(), # sgd is short for stochastic gradient descent\n",
    "             metrics = ['mae']\n",
    ")\n",
    "\n",
    "# 3. Fit the model\n",
    "model.fit(X,y, epochs=5)"
   ]
  },
  {
   "cell_type": "code",
   "execution_count": 114,
   "id": "0cc62811",
   "metadata": {},
   "outputs": [
    {
     "data": {
      "text/plain": [
       "(<tf.Tensor: shape=(8, 1), dtype=float32, numpy=\n",
       " array([[-7.],\n",
       "        [-4.],\n",
       "        [-1.],\n",
       "        [ 2.],\n",
       "        [ 5.],\n",
       "        [ 8.],\n",
       "        [11.],\n",
       "        [14.]], dtype=float32)>,\n",
       " <tf.Tensor: shape=(8,), dtype=float32, numpy=array([ 3.,  6.,  9., 12., 15., 18., 21., 24.], dtype=float32)>)"
      ]
     },
     "execution_count": 114,
     "metadata": {},
     "output_type": "execute_result"
    }
   ],
   "source": [
    "# Check ouit X and y\n",
    "X,y"
   ]
  },
  {
   "cell_type": "code",
   "execution_count": 115,
   "id": "14b9f809",
   "metadata": {},
   "outputs": [
    {
     "name": "stdout",
     "output_type": "stream",
     "text": [
      "1/1 [==============================] - 0s 85ms/step\n"
     ]
    },
    {
     "data": {
      "text/plain": [
       "array([[24.185432]], dtype=float32)"
      ]
     },
     "execution_count": 115,
     "metadata": {},
     "output_type": "execute_result"
    }
   ],
   "source": [
    "# Try and make a prediction using our model\n",
    "y_pred = model.predict([17.0])\n",
    "y_pred"
   ]
  },
  {
   "cell_type": "markdown",
   "id": "63ca9278",
   "metadata": {},
   "source": [
    "## Improving our model\n",
    "\n",
    "We can improve our model, by altering the steps we took to create a model.\n",
    "\n",
    "1. **Creating a model** - Here we might add more layers, increase the number of hidden units (also called neurons) within each of the hidden layers, change the activation function of each layer.\n",
    "2. **Compiling a model** - here we might change the optimization function or perhaps the **learning rate** of  the optimization function.\n",
    "3. **Fitting a model** - Here we might fit a model for more **epochs** (leave it training for longer) or on more data (give the model more examples to learn from)."
   ]
  },
  {
   "cell_type": "code",
   "execution_count": 117,
   "id": "c1e51c8c",
   "metadata": {
    "scrolled": false
   },
   "outputs": [
    {
     "name": "stdout",
     "output_type": "stream",
     "text": [
      "Epoch 1/100\n",
      "1/1 [==============================] - 0s 435ms/step - loss: 14.2839 - mae: 14.2839\n",
      "Epoch 2/100\n",
      "1/1 [==============================] - 0s 10ms/step - loss: 14.1514 - mae: 14.1514\n",
      "Epoch 3/100\n",
      "1/1 [==============================] - 0s 16ms/step - loss: 14.0189 - mae: 14.0189\n",
      "Epoch 4/100\n",
      "1/1 [==============================] - 0s 16ms/step - loss: 13.8864 - mae: 13.8864\n",
      "Epoch 5/100\n",
      "1/1 [==============================] - 0s 16ms/step - loss: 13.7539 - mae: 13.7539\n",
      "Epoch 6/100\n",
      "1/1 [==============================] - 0s 16ms/step - loss: 13.6214 - mae: 13.6214\n",
      "Epoch 7/100\n",
      "1/1 [==============================] - 0s 16ms/step - loss: 13.4889 - mae: 13.4889\n",
      "Epoch 8/100\n",
      "1/1 [==============================] - 0s 7ms/step - loss: 13.3564 - mae: 13.3564\n",
      "Epoch 9/100\n",
      "1/1 [==============================] - 0s 16ms/step - loss: 13.2239 - mae: 13.2239\n",
      "Epoch 10/100\n",
      "1/1 [==============================] - 0s 16ms/step - loss: 13.0914 - mae: 13.0914\n",
      "Epoch 11/100\n",
      "1/1 [==============================] - 0s 16ms/step - loss: 12.9589 - mae: 12.9589\n",
      "Epoch 12/100\n",
      "1/1 [==============================] - 0s 19ms/step - loss: 12.8264 - mae: 12.8264\n",
      "Epoch 13/100\n",
      "1/1 [==============================] - 0s 28ms/step - loss: 12.6939 - mae: 12.6939\n",
      "Epoch 14/100\n",
      "1/1 [==============================] - 0s 18ms/step - loss: 12.5614 - mae: 12.5614\n",
      "Epoch 15/100\n",
      "1/1 [==============================] - 0s 8ms/step - loss: 12.4289 - mae: 12.4289\n",
      "Epoch 16/100\n",
      "1/1 [==============================] - 0s 16ms/step - loss: 12.2964 - mae: 12.2964\n",
      "Epoch 17/100\n",
      "1/1 [==============================] - 0s 16ms/step - loss: 12.1639 - mae: 12.1639\n",
      "Epoch 18/100\n",
      "1/1 [==============================] - 0s 16ms/step - loss: 12.0314 - mae: 12.0314\n",
      "Epoch 19/100\n",
      "1/1 [==============================] - 0s 16ms/step - loss: 11.8989 - mae: 11.8989\n",
      "Epoch 20/100\n",
      "1/1 [==============================] - 0s 16ms/step - loss: 11.7664 - mae: 11.7664\n",
      "Epoch 21/100\n",
      "1/1 [==============================] - 0s 16ms/step - loss: 11.6339 - mae: 11.6339\n",
      "Epoch 22/100\n",
      "1/1 [==============================] - 0s 16ms/step - loss: 11.5014 - mae: 11.5014\n",
      "Epoch 23/100\n",
      "1/1 [==============================] - 0s 16ms/step - loss: 11.3689 - mae: 11.3689\n",
      "Epoch 24/100\n",
      "1/1 [==============================] - 0s 16ms/step - loss: 11.2364 - mae: 11.2364\n",
      "Epoch 25/100\n",
      "1/1 [==============================] - 0s 16ms/step - loss: 11.1039 - mae: 11.1039\n",
      "Epoch 26/100\n",
      "1/1 [==============================] - 0s 22ms/step - loss: 10.9714 - mae: 10.9714\n",
      "Epoch 27/100\n",
      "1/1 [==============================] - 0s 16ms/step - loss: 10.8389 - mae: 10.8389\n",
      "Epoch 28/100\n",
      "1/1 [==============================] - 0s 16ms/step - loss: 10.7064 - mae: 10.7064\n",
      "Epoch 29/100\n",
      "1/1 [==============================] - 0s 0s/step - loss: 10.5739 - mae: 10.5739\n",
      "Epoch 30/100\n",
      "1/1 [==============================] - 0s 0s/step - loss: 10.4414 - mae: 10.4414\n",
      "Epoch 31/100\n",
      "1/1 [==============================] - 0s 0s/step - loss: 10.3089 - mae: 10.3089\n",
      "Epoch 32/100\n",
      "1/1 [==============================] - 0s 7ms/step - loss: 10.1764 - mae: 10.1764\n",
      "Epoch 33/100\n",
      "1/1 [==============================] - 0s 16ms/step - loss: 10.0439 - mae: 10.0439\n",
      "Epoch 34/100\n",
      "1/1 [==============================] - 0s 16ms/step - loss: 9.9114 - mae: 9.9114\n",
      "Epoch 35/100\n",
      "1/1 [==============================] - 0s 16ms/step - loss: 9.7789 - mae: 9.7789\n",
      "Epoch 36/100\n",
      "1/1 [==============================] - 0s 0s/step - loss: 9.6464 - mae: 9.6464\n",
      "Epoch 37/100\n",
      "1/1 [==============================] - 0s 0s/step - loss: 9.5139 - mae: 9.5139\n",
      "Epoch 38/100\n",
      "1/1 [==============================] - 0s 0s/step - loss: 9.3814 - mae: 9.3814\n",
      "Epoch 39/100\n",
      "1/1 [==============================] - 0s 7ms/step - loss: 9.2489 - mae: 9.2489\n",
      "Epoch 40/100\n",
      "1/1 [==============================] - 0s 16ms/step - loss: 9.1164 - mae: 9.1164\n",
      "Epoch 41/100\n",
      "1/1 [==============================] - 0s 16ms/step - loss: 8.9839 - mae: 8.9839\n",
      "Epoch 42/100\n",
      "1/1 [==============================] - 0s 16ms/step - loss: 8.8514 - mae: 8.8514\n",
      "Epoch 43/100\n",
      "1/1 [==============================] - 0s 16ms/step - loss: 8.7189 - mae: 8.7189\n",
      "Epoch 44/100\n",
      "1/1 [==============================] - 0s 16ms/step - loss: 8.5864 - mae: 8.5864\n",
      "Epoch 45/100\n",
      "1/1 [==============================] - 0s 16ms/step - loss: 8.4539 - mae: 8.4539\n",
      "Epoch 46/100\n",
      "1/1 [==============================] - 0s 0s/step - loss: 8.3214 - mae: 8.3214\n",
      "Epoch 47/100\n",
      "1/1 [==============================] - 0s 16ms/step - loss: 8.1889 - mae: 8.1889\n",
      "Epoch 48/100\n",
      "1/1 [==============================] - 0s 16ms/step - loss: 8.0564 - mae: 8.0564\n",
      "Epoch 49/100\n",
      "1/1 [==============================] - 0s 16ms/step - loss: 7.9239 - mae: 7.9239\n",
      "Epoch 50/100\n",
      "1/1 [==============================] - 0s 16ms/step - loss: 7.7914 - mae: 7.7914\n",
      "Epoch 51/100\n",
      "1/1 [==============================] - 0s 16ms/step - loss: 7.6589 - mae: 7.6589\n",
      "Epoch 52/100\n",
      "1/1 [==============================] - 0s 16ms/step - loss: 7.5264 - mae: 7.5264\n",
      "Epoch 53/100\n",
      "1/1 [==============================] - 0s 0s/step - loss: 7.3939 - mae: 7.3939\n",
      "Epoch 54/100\n",
      "1/1 [==============================] - 0s 0s/step - loss: 7.2614 - mae: 7.2614\n",
      "Epoch 55/100\n",
      "1/1 [==============================] - 0s 16ms/step - loss: 7.1289 - mae: 7.1289\n",
      "Epoch 56/100\n",
      "1/1 [==============================] - 0s 16ms/step - loss: 7.0875 - mae: 7.0875\n",
      "Epoch 57/100\n",
      "1/1 [==============================] - 0s 16ms/step - loss: 7.0819 - mae: 7.0819\n",
      "Epoch 58/100\n",
      "1/1 [==============================] - 0s 16ms/step - loss: 7.0763 - mae: 7.0763\n",
      "Epoch 59/100\n",
      "1/1 [==============================] - 0s 22ms/step - loss: 7.0706 - mae: 7.0706\n",
      "Epoch 60/100\n",
      "1/1 [==============================] - 0s 16ms/step - loss: 7.0650 - mae: 7.0650\n",
      "Epoch 61/100\n",
      "1/1 [==============================] - 0s 0s/step - loss: 7.0594 - mae: 7.0594\n",
      "Epoch 62/100\n",
      "1/1 [==============================] - 0s 0s/step - loss: 7.0538 - mae: 7.0538\n",
      "Epoch 63/100\n",
      "1/1 [==============================] - 0s 0s/step - loss: 7.0481 - mae: 7.0481\n",
      "Epoch 64/100\n",
      "1/1 [==============================] - 0s 16ms/step - loss: 7.0425 - mae: 7.0425\n",
      "Epoch 65/100\n",
      "1/1 [==============================] - 0s 16ms/step - loss: 7.0369 - mae: 7.0369\n",
      "Epoch 66/100\n",
      "1/1 [==============================] - 0s 22ms/step - loss: 7.0312 - mae: 7.0312\n",
      "Epoch 67/100\n",
      "1/1 [==============================] - 0s 16ms/step - loss: 7.0256 - mae: 7.0256\n",
      "Epoch 68/100\n",
      "1/1 [==============================] - 0s 16ms/step - loss: 7.0200 - mae: 7.0200\n",
      "Epoch 69/100\n",
      "1/1 [==============================] - 0s 16ms/step - loss: 7.0144 - mae: 7.0144\n",
      "Epoch 70/100\n",
      "1/1 [==============================] - 0s 16ms/step - loss: 7.0087 - mae: 7.0087\n",
      "Epoch 71/100\n",
      "1/1 [==============================] - 0s 16ms/step - loss: 7.0031 - mae: 7.0031\n",
      "Epoch 72/100\n",
      "1/1 [==============================] - 0s 16ms/step - loss: 6.9975 - mae: 6.9975\n",
      "Epoch 73/100\n",
      "1/1 [==============================] - 0s 16ms/step - loss: 6.9919 - mae: 6.9919\n",
      "Epoch 74/100\n",
      "1/1 [==============================] - 0s 16ms/step - loss: 6.9863 - mae: 6.9863\n",
      "Epoch 75/100\n",
      "1/1 [==============================] - 0s 16ms/step - loss: 6.9806 - mae: 6.9806\n",
      "Epoch 76/100\n",
      "1/1 [==============================] - 0s 16ms/step - loss: 6.9750 - mae: 6.9750\n",
      "Epoch 77/100\n",
      "1/1 [==============================] - 0s 16ms/step - loss: 6.9694 - mae: 6.9694\n",
      "Epoch 78/100\n",
      "1/1 [==============================] - 0s 22ms/step - loss: 6.9638 - mae: 6.9638\n",
      "Epoch 79/100\n",
      "1/1 [==============================] - 0s 16ms/step - loss: 6.9581 - mae: 6.9581\n",
      "Epoch 80/100\n",
      "1/1 [==============================] - 0s 16ms/step - loss: 6.9525 - mae: 6.9525\n",
      "Epoch 81/100\n",
      "1/1 [==============================] - 0s 16ms/step - loss: 6.9469 - mae: 6.9469\n",
      "Epoch 82/100\n",
      "1/1 [==============================] - 0s 16ms/step - loss: 6.9413 - mae: 6.9413\n",
      "Epoch 83/100\n",
      "1/1 [==============================] - 0s 16ms/step - loss: 6.9356 - mae: 6.9356\n",
      "Epoch 84/100\n",
      "1/1 [==============================] - 0s 0s/step - loss: 6.9300 - mae: 6.9300\n",
      "Epoch 85/100\n",
      "1/1 [==============================] - 0s 7ms/step - loss: 6.9244 - mae: 6.9244\n",
      "Epoch 86/100\n",
      "1/1 [==============================] - 0s 16ms/step - loss: 6.9188 - mae: 6.9188\n",
      "Epoch 87/100\n"
     ]
    },
    {
     "name": "stdout",
     "output_type": "stream",
     "text": [
      "1/1 [==============================] - 0s 16ms/step - loss: 6.9131 - mae: 6.9131\n",
      "Epoch 88/100\n",
      "1/1 [==============================] - 0s 16ms/step - loss: 6.9075 - mae: 6.9075\n",
      "Epoch 89/100\n",
      "1/1 [==============================] - 0s 16ms/step - loss: 6.9019 - mae: 6.9019\n",
      "Epoch 90/100\n",
      "1/1 [==============================] - 0s 16ms/step - loss: 6.8963 - mae: 6.8963\n",
      "Epoch 91/100\n",
      "1/1 [==============================] - 0s 16ms/step - loss: 6.8906 - mae: 6.8906\n",
      "Epoch 92/100\n",
      "1/1 [==============================] - 0s 7ms/step - loss: 6.8850 - mae: 6.8850\n",
      "Epoch 93/100\n",
      "1/1 [==============================] - 0s 16ms/step - loss: 6.8794 - mae: 6.8794\n",
      "Epoch 94/100\n",
      "1/1 [==============================] - 0s 16ms/step - loss: 6.8738 - mae: 6.8738\n",
      "Epoch 95/100\n",
      "1/1 [==============================] - 0s 0s/step - loss: 6.8681 - mae: 6.8681\n",
      "Epoch 96/100\n",
      "1/1 [==============================] - 0s 0s/step - loss: 6.8625 - mae: 6.8625\n",
      "Epoch 97/100\n",
      "1/1 [==============================] - 0s 16ms/step - loss: 6.8569 - mae: 6.8569\n",
      "Epoch 98/100\n",
      "1/1 [==============================] - 0s 16ms/step - loss: 6.8513 - mae: 6.8513\n",
      "Epoch 99/100\n",
      "1/1 [==============================] - 0s 9ms/step - loss: 6.8456 - mae: 6.8456\n",
      "Epoch 100/100\n",
      "1/1 [==============================] - 0s 9ms/step - loss: 6.8400 - mae: 6.8400\n"
     ]
    },
    {
     "data": {
      "text/plain": [
       "<keras.src.callbacks.History at 0x277a9c0e880>"
      ]
     },
     "execution_count": 117,
     "metadata": {},
     "output_type": "execute_result"
    }
   ],
   "source": [
    "# Let's rebuild our model\n",
    "\n",
    "# 1. Create the model\n",
    "model = tf.keras.Sequential([\n",
    "    tf.keras.layers.Dense(1)\n",
    "])\n",
    "\n",
    "# 2. Compile the model\n",
    "model.compile(loss=tf.keras.losses.mae,\n",
    "             optimizer=tf.keras.optimizers.SGD(),\n",
    "             metrics=[\"mae\"])\n",
    "\n",
    "# 3. Fit the model (this time we'll train for longer)\n",
    "model.fit(X, y, epochs=100)"
   ]
  },
  {
   "cell_type": "code",
   "execution_count": 119,
   "id": "4b345480",
   "metadata": {},
   "outputs": [
    {
     "data": {
      "text/plain": [
       "(<tf.Tensor: shape=(8, 1), dtype=float32, numpy=\n",
       " array([[-7.],\n",
       "        [-4.],\n",
       "        [-1.],\n",
       "        [ 2.],\n",
       "        [ 5.],\n",
       "        [ 8.],\n",
       "        [11.],\n",
       "        [14.]], dtype=float32)>,\n",
       " <tf.Tensor: shape=(8,), dtype=float32, numpy=array([ 3.,  6.,  9., 12., 15., 18., 21., 24.], dtype=float32)>)"
      ]
     },
     "execution_count": 119,
     "metadata": {},
     "output_type": "execute_result"
    }
   ],
   "source": [
    "# Remind ourselves of the data\n",
    "X, y"
   ]
  },
  {
   "cell_type": "code",
   "execution_count": 120,
   "id": "139539be",
   "metadata": {},
   "outputs": [
    {
     "name": "stdout",
     "output_type": "stream",
     "text": [
      "1/1 [==============================] - 0s 100ms/step\n"
     ]
    },
    {
     "data": {
      "text/plain": [
       "array([[29.805058]], dtype=float32)"
      ]
     },
     "execution_count": 120,
     "metadata": {},
     "output_type": "execute_result"
    }
   ],
   "source": [
    "# Let's see if our model prediction has improved\n",
    "\n",
    "model.predict([17.0])"
   ]
  },
  {
   "cell_type": "code",
   "execution_count": 233,
   "id": "d4158ed4",
   "metadata": {},
   "outputs": [
    {
     "name": "stdout",
     "output_type": "stream",
     "text": [
      "Epoch 1/100\n",
      "2/2 [==============================] - 2s 0s/step - loss: 88.1236 - mean_absolute_error: 88.1236\n",
      "Epoch 2/100\n",
      "2/2 [==============================] - 0s 7ms/step - loss: 48.2561 - mean_absolute_error: 48.2561\n",
      "Epoch 3/100\n",
      "2/2 [==============================] - 0s 16ms/step - loss: 29.4239 - mean_absolute_error: 29.4239\n",
      "Epoch 4/100\n",
      "2/2 [==============================] - 0s 0s/step - loss: 39.5628 - mean_absolute_error: 39.5628\n",
      "Epoch 5/100\n",
      "2/2 [==============================] - 0s 16ms/step - loss: 35.7600 - mean_absolute_error: 35.7600\n",
      "Epoch 6/100\n",
      "2/2 [==============================] - 0s 22ms/step - loss: 44.9515 - mean_absolute_error: 44.9515\n",
      "Epoch 7/100\n",
      "2/2 [==============================] - 0s 16ms/step - loss: 25.0937 - mean_absolute_error: 25.0937\n",
      "Epoch 8/100\n",
      "2/2 [==============================] - 0s 16ms/step - loss: 59.7785 - mean_absolute_error: 59.7785\n",
      "Epoch 9/100\n",
      "2/2 [==============================] - 0s 16ms/step - loss: 34.0736 - mean_absolute_error: 34.0736\n",
      "Epoch 10/100\n",
      "2/2 [==============================] - 0s 0s/step - loss: 23.4977 - mean_absolute_error: 23.4977\n",
      "Epoch 11/100\n",
      "2/2 [==============================] - 0s 0s/step - loss: 25.0125 - mean_absolute_error: 25.0125\n",
      "Epoch 12/100\n",
      "2/2 [==============================] - 0s 16ms/step - loss: 10.3678 - mean_absolute_error: 10.3678\n",
      "Epoch 13/100\n",
      "2/2 [==============================] - 0s 0s/step - loss: 9.8277 - mean_absolute_error: 9.8277\n",
      "Epoch 14/100\n",
      "2/2 [==============================] - 0s 16ms/step - loss: 19.1356 - mean_absolute_error: 19.1356\n",
      "Epoch 15/100\n",
      "2/2 [==============================] - 0s 16ms/step - loss: 40.0326 - mean_absolute_error: 40.0326\n",
      "Epoch 16/100\n",
      "2/2 [==============================] - 0s 16ms/step - loss: 24.9590 - mean_absolute_error: 24.9590\n",
      "Epoch 17/100\n",
      "2/2 [==============================] - 0s 0s/step - loss: 35.7111 - mean_absolute_error: 35.7111\n",
      "Epoch 18/100\n",
      "2/2 [==============================] - 0s 16ms/step - loss: 18.2292 - mean_absolute_error: 18.2292\n",
      "Epoch 19/100\n",
      "2/2 [==============================] - 0s 16ms/step - loss: 27.9531 - mean_absolute_error: 27.9531\n",
      "Epoch 20/100\n",
      "2/2 [==============================] - 0s 7ms/step - loss: 36.2191 - mean_absolute_error: 36.2191\n",
      "Epoch 21/100\n",
      "2/2 [==============================] - 0s 16ms/step - loss: 21.7002 - mean_absolute_error: 21.7002\n",
      "Epoch 22/100\n",
      "2/2 [==============================] - 0s 0s/step - loss: 23.5352 - mean_absolute_error: 23.5352\n",
      "Epoch 23/100\n",
      "2/2 [==============================] - 0s 16ms/step - loss: 26.3067 - mean_absolute_error: 26.3067\n",
      "Epoch 24/100\n",
      "2/2 [==============================] - 0s 16ms/step - loss: 24.9865 - mean_absolute_error: 24.9865\n",
      "Epoch 25/100\n",
      "2/2 [==============================] - 0s 16ms/step - loss: 44.1217 - mean_absolute_error: 44.1217\n",
      "Epoch 26/100\n",
      "2/2 [==============================] - 0s 16ms/step - loss: 39.8949 - mean_absolute_error: 39.8949\n",
      "Epoch 27/100\n",
      "2/2 [==============================] - 0s 16ms/step - loss: 29.5263 - mean_absolute_error: 29.5263\n",
      "Epoch 28/100\n",
      "2/2 [==============================] - 0s 16ms/step - loss: 39.3907 - mean_absolute_error: 39.3907\n",
      "Epoch 29/100\n",
      "2/2 [==============================] - 0s 0s/step - loss: 23.8031 - mean_absolute_error: 23.8031\n",
      "Epoch 30/100\n",
      "2/2 [==============================] - 0s 16ms/step - loss: 43.9491 - mean_absolute_error: 43.9491\n",
      "Epoch 31/100\n",
      "2/2 [==============================] - 0s 16ms/step - loss: 27.4211 - mean_absolute_error: 27.4211\n",
      "Epoch 32/100\n",
      "2/2 [==============================] - 0s 0s/step - loss: 23.2636 - mean_absolute_error: 23.2636\n",
      "Epoch 33/100\n",
      "2/2 [==============================] - 0s 16ms/step - loss: 9.6087 - mean_absolute_error: 9.6087\n",
      "Epoch 34/100\n",
      "2/2 [==============================] - 0s 16ms/step - loss: 13.1053 - mean_absolute_error: 13.1053\n",
      "Epoch 35/100\n",
      "2/2 [==============================] - 0s 16ms/step - loss: 39.5652 - mean_absolute_error: 39.5652\n",
      "Epoch 36/100\n",
      "2/2 [==============================] - 0s 7ms/step - loss: 29.3281 - mean_absolute_error: 29.3281\n",
      "Epoch 37/100\n",
      "2/2 [==============================] - 0s 16ms/step - loss: 46.0040 - mean_absolute_error: 46.0040\n",
      "Epoch 38/100\n",
      "2/2 [==============================] - 0s 16ms/step - loss: 34.6444 - mean_absolute_error: 34.6444\n",
      "Epoch 39/100\n",
      "2/2 [==============================] - 0s 16ms/step - loss: 21.8989 - mean_absolute_error: 21.8989\n",
      "Epoch 40/100\n",
      "2/2 [==============================] - 0s 16ms/step - loss: 20.2973 - mean_absolute_error: 20.2973\n",
      "Epoch 41/100\n",
      "2/2 [==============================] - 0s 16ms/step - loss: 18.5182 - mean_absolute_error: 18.5182\n",
      "Epoch 42/100\n",
      "2/2 [==============================] - 0s 22ms/step - loss: 28.2536 - mean_absolute_error: 28.2536\n",
      "Epoch 43/100\n",
      "2/2 [==============================] - 0s 16ms/step - loss: 42.8011 - mean_absolute_error: 42.8011\n",
      "Epoch 44/100\n",
      "2/2 [==============================] - 0s 16ms/step - loss: 21.2887 - mean_absolute_error: 21.2887\n",
      "Epoch 45/100\n",
      "2/2 [==============================] - 0s 16ms/step - loss: 32.4460 - mean_absolute_error: 32.4460\n",
      "Epoch 46/100\n",
      "2/2 [==============================] - 0s 0s/step - loss: 33.6800 - mean_absolute_error: 33.6800\n",
      "Epoch 47/100\n",
      "2/2 [==============================] - 0s 0s/step - loss: 31.7869 - mean_absolute_error: 31.7869\n",
      "Epoch 48/100\n",
      "2/2 [==============================] - 0s 0s/step - loss: 34.5966 - mean_absolute_error: 34.5966\n",
      "Epoch 49/100\n",
      "2/2 [==============================] - 0s 16ms/step - loss: 20.1783 - mean_absolute_error: 20.1783\n",
      "Epoch 50/100\n",
      "2/2 [==============================] - 0s 16ms/step - loss: 34.9725 - mean_absolute_error: 34.9725\n",
      "Epoch 51/100\n",
      "2/2 [==============================] - 0s 16ms/step - loss: 39.2024 - mean_absolute_error: 39.2024\n",
      "Epoch 52/100\n",
      "2/2 [==============================] - 0s 0s/step - loss: 24.0586 - mean_absolute_error: 24.0586\n",
      "Epoch 53/100\n",
      "2/2 [==============================] - 0s 7ms/step - loss: 38.8086 - mean_absolute_error: 38.8086\n",
      "Epoch 54/100\n",
      "2/2 [==============================] - 0s 16ms/step - loss: 17.5936 - mean_absolute_error: 17.5936\n",
      "Epoch 55/100\n",
      "2/2 [==============================] - 0s 16ms/step - loss: 38.8519 - mean_absolute_error: 38.8519\n",
      "Epoch 56/100\n",
      "2/2 [==============================] - 0s 16ms/step - loss: 19.2779 - mean_absolute_error: 19.2779\n",
      "Epoch 57/100\n",
      "2/2 [==============================] - 0s 16ms/step - loss: 43.4770 - mean_absolute_error: 43.4770\n",
      "Epoch 58/100\n",
      "2/2 [==============================] - 0s 0s/step - loss: 22.9128 - mean_absolute_error: 22.9128\n",
      "Epoch 59/100\n",
      "2/2 [==============================] - 0s 7ms/step - loss: 28.9948 - mean_absolute_error: 28.9948\n",
      "Epoch 60/100\n",
      "2/2 [==============================] - 0s 16ms/step - loss: 44.4088 - mean_absolute_error: 44.4088\n",
      "Epoch 61/100\n",
      "2/2 [==============================] - 0s 0s/step - loss: 24.6484 - mean_absolute_error: 24.6484\n",
      "Epoch 62/100\n",
      "2/2 [==============================] - 0s 0s/step - loss: 33.3069 - mean_absolute_error: 33.3069\n",
      "Epoch 63/100\n",
      "2/2 [==============================] - 0s 16ms/step - loss: 32.9521 - mean_absolute_error: 32.9521\n",
      "Epoch 64/100\n",
      "2/2 [==============================] - 0s 7ms/step - loss: 30.4890 - mean_absolute_error: 30.4890\n",
      "Epoch 65/100\n",
      "2/2 [==============================] - 0s 0s/step - loss: 25.5849 - mean_absolute_error: 25.5849\n",
      "Epoch 66/100\n",
      "2/2 [==============================] - 0s 16ms/step - loss: 27.1278 - mean_absolute_error: 27.1278\n",
      "Epoch 67/100\n",
      "2/2 [==============================] - 0s 16ms/step - loss: 36.8038 - mean_absolute_error: 36.8038\n",
      "Epoch 68/100\n",
      "2/2 [==============================] - 0s 16ms/step - loss: 11.0695 - mean_absolute_error: 11.0695\n",
      "Epoch 69/100\n",
      "2/2 [==============================] - 0s 7ms/step - loss: 69.9785 - mean_absolute_error: 69.9785\n",
      "Epoch 70/100\n",
      "2/2 [==============================] - 0s 16ms/step - loss: 43.1459 - mean_absolute_error: 43.1459\n",
      "Epoch 71/100\n",
      "2/2 [==============================] - 0s 0s/step - loss: 22.0029 - mean_absolute_error: 22.0029\n",
      "Epoch 72/100\n",
      "2/2 [==============================] - 0s 0s/step - loss: 25.5902 - mean_absolute_error: 25.5902\n",
      "Epoch 73/100\n",
      "2/2 [==============================] - 0s 0s/step - loss: 46.4262 - mean_absolute_error: 46.4262\n",
      "Epoch 74/100\n"
     ]
    },
    {
     "name": "stdout",
     "output_type": "stream",
     "text": [
      "2/2 [==============================] - 0s 16ms/step - loss: 36.4562 - mean_absolute_error: 36.4562\n",
      "Epoch 75/100\n",
      "2/2 [==============================] - 0s 0s/step - loss: 15.5219 - mean_absolute_error: 15.5219\n",
      "Epoch 76/100\n",
      "2/2 [==============================] - 0s 0s/step - loss: 31.8040 - mean_absolute_error: 31.8040\n",
      "Epoch 77/100\n",
      "2/2 [==============================] - 0s 0s/step - loss: 34.9923 - mean_absolute_error: 34.9923\n",
      "Epoch 78/100\n",
      "2/2 [==============================] - 0s 16ms/step - loss: 21.1909 - mean_absolute_error: 21.1909\n",
      "Epoch 79/100\n",
      "2/2 [==============================] - 0s 16ms/step - loss: 24.2885 - mean_absolute_error: 24.2885\n",
      "Epoch 80/100\n",
      "2/2 [==============================] - 0s 16ms/step - loss: 61.1940 - mean_absolute_error: 61.1940\n",
      "Epoch 81/100\n",
      "2/2 [==============================] - 0s 0s/step - loss: 37.0528 - mean_absolute_error: 37.0528\n",
      "Epoch 82/100\n",
      "2/2 [==============================] - 0s 0s/step - loss: 8.9873 - mean_absolute_error: 8.9873\n",
      "Epoch 83/100\n",
      "2/2 [==============================] - 0s 0s/step - loss: 26.8139 - mean_absolute_error: 26.8139\n",
      "Epoch 84/100\n",
      "2/2 [==============================] - 0s 0s/step - loss: 42.3109 - mean_absolute_error: 42.3109\n",
      "Epoch 85/100\n",
      "2/2 [==============================] - 0s 16ms/step - loss: 22.0189 - mean_absolute_error: 22.0189\n",
      "Epoch 86/100\n",
      "2/2 [==============================] - 0s 16ms/step - loss: 41.2496 - mean_absolute_error: 41.2496\n",
      "Epoch 87/100\n",
      "2/2 [==============================] - 0s 16ms/step - loss: 24.5061 - mean_absolute_error: 24.5061\n",
      "Epoch 88/100\n",
      "2/2 [==============================] - 0s 16ms/step - loss: 35.9449 - mean_absolute_error: 35.9449\n",
      "Epoch 89/100\n",
      "2/2 [==============================] - 0s 0s/step - loss: 18.9921 - mean_absolute_error: 18.9921\n",
      "Epoch 90/100\n",
      "2/2 [==============================] - 0s 0s/step - loss: 26.6328 - mean_absolute_error: 26.6328\n",
      "Epoch 91/100\n",
      "2/2 [==============================] - 0s 0s/step - loss: 35.7254 - mean_absolute_error: 35.7254\n",
      "Epoch 92/100\n",
      "2/2 [==============================] - 0s 7ms/step - loss: 18.7395 - mean_absolute_error: 18.7395\n",
      "Epoch 93/100\n",
      "2/2 [==============================] - 0s 16ms/step - loss: 29.8704 - mean_absolute_error: 29.8704\n",
      "Epoch 94/100\n",
      "2/2 [==============================] - 0s 0s/step - loss: 44.9150 - mean_absolute_error: 44.9150\n",
      "Epoch 95/100\n",
      "2/2 [==============================] - 0s 16ms/step - loss: 28.2667 - mean_absolute_error: 28.2667\n",
      "Epoch 96/100\n",
      "2/2 [==============================] - 0s 16ms/step - loss: 42.8867 - mean_absolute_error: 42.8867\n",
      "Epoch 97/100\n",
      "2/2 [==============================] - 0s 7ms/step - loss: 33.7290 - mean_absolute_error: 33.7290\n",
      "Epoch 98/100\n",
      "2/2 [==============================] - 0s 16ms/step - loss: 27.7845 - mean_absolute_error: 27.7845\n",
      "Epoch 99/100\n",
      "2/2 [==============================] - 0s 16ms/step - loss: 32.3930 - mean_absolute_error: 32.3930\n",
      "Epoch 100/100\n",
      "2/2 [==============================] - 0s 16ms/step - loss: 35.5889 - mean_absolute_error: 35.5889\n"
     ]
    },
    {
     "data": {
      "text/plain": [
       "<keras.src.callbacks.History at 0x277b4ccf490>"
      ]
     },
     "execution_count": 233,
     "metadata": {},
     "output_type": "execute_result"
    }
   ],
   "source": [
    "# 1. Create a model (specified to youri problem)\n",
    "model = tf.keras.Sequential([\n",
    "    tf.keras.layers.Dense(50),\n",
    "    tf.keras.layers.Dense(25),\n",
    "    tf.keras.layers.Dense(1)\n",
    "])\n",
    "\n",
    "#2. Compile the model\n",
    "model.compile( loss=tf.keras.losses.mae,\n",
    "             optimizer=tf.keras.optimizers.SGD(),\n",
    "             metrics=tf.keras.metrics.mae)\n",
    "\n",
    "#3. Fit the model\n",
    "model.fit(X, y, epochs=100)"
   ]
  },
  {
   "cell_type": "code",
   "execution_count": 147,
   "id": "7415ffd1",
   "metadata": {},
   "outputs": [
    {
     "name": "stdout",
     "output_type": "stream",
     "text": [
      "1/1 [==============================] - 0s 107ms/step\n"
     ]
    },
    {
     "data": {
      "text/plain": [
       "array([[32.446705]], dtype=float32)"
      ]
     },
     "execution_count": 147,
     "metadata": {},
     "output_type": "execute_result"
    }
   ],
   "source": [
    "# Let's see if our model prediction has improved\n",
    "\n",
    "model.predict([17.0])"
   ]
  },
  {
   "cell_type": "markdown",
   "id": "d1b45956",
   "metadata": {},
   "source": [
    "# Real Model"
   ]
  },
  {
   "cell_type": "code",
   "execution_count": 234,
   "id": "5b8493da",
   "metadata": {},
   "outputs": [],
   "source": [
    "# Let's see if we can improve the model more\n",
    "\n",
    "# 1. Create the model (this time with an extra hidden layer with 100 hidden units)\n",
    "\n",
    "model = tf.keras.Sequential([\n",
    "    tf.keras.layers.Dense(100, input_shape=[1]),\n",
    "    tf.keras.layers.Dense(1)\n",
    "])\n",
    "\n",
    "# 2. Compile the model\n",
    "model.compile(loss=\"mae\",\n",
    "                 optimizer=tf.keras.optimizers.Adam(learning_rate=0.01),\n",
    "             metrics = [\"mae\"])\n",
    "\n",
    "# 3. Fit the model\n",
    "#model.fit(X,y, epochs=100)\n"
   ]
  },
  {
   "cell_type": "code",
   "execution_count": 151,
   "id": "023442d7",
   "metadata": {},
   "outputs": [
    {
     "data": {
      "text/plain": [
       "(<tf.Tensor: shape=(8, 1), dtype=float32, numpy=\n",
       " array([[-7.],\n",
       "        [-4.],\n",
       "        [-1.],\n",
       "        [ 2.],\n",
       "        [ 5.],\n",
       "        [ 8.],\n",
       "        [11.],\n",
       "        [14.]], dtype=float32)>,\n",
       " <tf.Tensor: shape=(8,), dtype=float32, numpy=array([ 3.,  6.,  9., 12., 15., 18., 21., 24.], dtype=float32)>)"
      ]
     },
     "execution_count": 151,
     "metadata": {},
     "output_type": "execute_result"
    }
   ],
   "source": [
    "# Let6's remind ourselves of the data\n",
    "X,y"
   ]
  },
  {
   "cell_type": "code",
   "execution_count": 152,
   "id": "65657025",
   "metadata": {},
   "outputs": [
    {
     "name": "stdout",
     "output_type": "stream",
     "text": [
      "1/1 [==============================] - 0s 100ms/step\n"
     ]
    },
    {
     "data": {
      "text/plain": [
       "array([[26.844063]], dtype=float32)"
      ]
     },
     "execution_count": 152,
     "metadata": {},
     "output_type": "execute_result"
    }
   ],
   "source": [
    "# Let6's try and make prediction\n",
    "model.predict([17.0])"
   ]
  },
  {
   "cell_type": "markdown",
   "id": "c315b0f3",
   "metadata": {},
   "source": [
    "## Evaluating a model\n",
    "\n",
    "### In practice, a typical workflow youi go throuigh when building neural network is:\n",
    "\n",
    "Build a model -> fit it -> evaluate it -> tweak a model -> fit it -> evaluate it -> tweak a model -> fit it -> evaluate it..\n",
    "    \n"
   ]
  },
  {
   "cell_type": "markdown",
   "id": "bf84ca7b",
   "metadata": {},
   "source": [
    "\n",
    "    \n",
    "\n"
   ]
  },
  {
   "cell_type": "markdown",
   "id": "e37b8816",
   "metadata": {},
   "source": [
    "When it comes to evaluation... there are 3 words youi should memorize:\n",
    "\n",
    "> \"Visualize, visualize, visualize\"\n",
    "\n",
    "It's a good idea to visualize:\n",
    "* The data - what data are we working with? What does it look like?\n",
    "* The model itself - what does our model look like?\n",
    "* The training of a model - how does a model perform while it learns?\n",
    "* The predictions of the model - how do the predictions of a model line up against the ground truth"
   ]
  },
  {
   "cell_type": "code",
   "execution_count": 215,
   "id": "19e309d8",
   "metadata": {},
   "outputs": [
    {
     "data": {
      "text/plain": [
       "<tf.Tensor: shape=(50,), dtype=int32, numpy=\n",
       "array([-100,  -96,  -92,  -88,  -84,  -80,  -76,  -72,  -68,  -64,  -60,\n",
       "        -56,  -52,  -48,  -44,  -40,  -36,  -32,  -28,  -24,  -20,  -16,\n",
       "        -12,   -8,   -4,    0,    4,    8,   12,   16,   20,   24,   28,\n",
       "         32,   36,   40,   44,   48,   52,   56,   60,   64,   68,   72,\n",
       "         76,   80,   84,   88,   92,   96])>"
      ]
     },
     "execution_count": 215,
     "metadata": {},
     "output_type": "execute_result"
    }
   ],
   "source": [
    "# Make a bigger dataset\n",
    "X = (tf.range(-100,100,4))\n",
    "X"
   ]
  },
  {
   "cell_type": "code",
   "execution_count": 216,
   "id": "44451b55",
   "metadata": {},
   "outputs": [
    {
     "data": {
      "text/plain": [
       "<tf.Tensor: shape=(50,), dtype=int32, numpy=\n",
       "array([-90, -86, -82, -78, -74, -70, -66, -62, -58, -54, -50, -46, -42,\n",
       "       -38, -34, -30, -26, -22, -18, -14, -10,  -6,  -2,   2,   6,  10,\n",
       "        14,  18,  22,  26,  30,  34,  38,  42,  46,  50,  54,  58,  62,\n",
       "        66,  70,  74,  78,  82,  86,  90,  94,  98, 102, 106])>"
      ]
     },
     "execution_count": 216,
     "metadata": {},
     "output_type": "execute_result"
    }
   ],
   "source": [
    "# Make labels for the dataset\n",
    "y = X + 10\n",
    "y"
   ]
  },
  {
   "cell_type": "code",
   "execution_count": 217,
   "id": "34f5289e",
   "metadata": {},
   "outputs": [
    {
     "data": {
      "image/png": "[encoded data removed]",
      "text/plain": [
       "<Figure size 640x480 with 1 Axes>"
      ]
     },
     "metadata": {},
     "output_type": "display_data"
    }
   ],
   "source": [
    "# Visualize the data\n",
    "import matplotlib.pyplot as plt\n",
    "plt.scatter(X,y);"
   ]
  },
  {
   "cell_type": "markdown",
   "id": "affd14b3",
   "metadata": {},
   "source": [
    "### The 3 sets...\n",
    "* Training set - the model learns from this data, which is typically 70 - 80% of the total data you have available\n",
    "* Validation set - the model gets tuned on this data, which is typically 10 -15% of the data available.\n",
    "* Test set - the model gets evaluated on this data to test what it has learned, this set is typically 10 - 15% of the total data available."
   ]
  },
  {
   "cell_type": "code",
   "execution_count": 167,
   "id": "2a2ecdf2",
   "metadata": {},
   "outputs": [
    {
     "data": {
      "text/plain": [
       "50"
      ]
     },
     "execution_count": 167,
     "metadata": {},
     "output_type": "execute_result"
    }
   ],
   "source": [
    "# Check the lenght of how many samples we have\n",
    "len(X)"
   ]
  },
  {
   "cell_type": "code",
   "execution_count": 218,
   "id": "7ed3f204",
   "metadata": {},
   "outputs": [
    {
     "data": {
      "text/plain": [
       "(40, 10, 40, 10)"
      ]
     },
     "execution_count": 218,
     "metadata": {},
     "output_type": "execute_result"
    }
   ],
   "source": [
    "# Split the data into train and test sets\n",
    "X_train = X[:40] # first 40 are training samples (80 % of the data)\n",
    "X_test = X[40:]\n",
    "y_train = y[:40] # last 10 are testing samples (20 % of the data)\n",
    "y_test = y[40:]\n",
    "len(X_train), len(X_test), len(y_train), len(y_test)"
   ]
  },
  {
   "cell_type": "markdown",
   "id": "a2ce2dce",
   "metadata": {},
   "source": [
    "### Visualize the data\n",
    "Now we've got our data in training and test sets... let's visualize it again!"
   ]
  },
  {
   "cell_type": "raw",
   "id": "70b65b8b",
   "metadata": {},
   "source": [
    "\n",
    "\n",
    "from sklearn.model_selection import train_test_split\n",
    "X_train, X_test, y_train, y_test = train_test_split(X.numpy(), y.numpy(), test_size=.2, random_state=42)\n",
    "len(X_train), len(X_test), len(y_train), len(y_test)"
   ]
  },
  {
   "cell_type": "raw",
   "id": "eacc4060",
   "metadata": {},
   "source": [
    "X_train, X_test, y_train, y_test"
   ]
  },
  {
   "cell_type": "code",
   "execution_count": 219,
   "id": "7c8daafa",
   "metadata": {},
   "outputs": [
    {
     "data": {
      "image/png": "[encoded data removed]",
      "text/plain": [
       "<Figure size 1000x700 with 1 Axes>"
      ]
     },
     "metadata": {},
     "output_type": "display_data"
    }
   ],
   "source": [
    "plt.figure(figsize=(10,7))\n",
    "\n",
    "# Plot training data in blue\n",
    "plt.scatter(X_train, y_train, c = 'b', label=\"Training data\")\n",
    "\n",
    "# Plot test data in green\n",
    "plt.scatter(X_test, y_test, c = 'g', label=\"Test data\")\n",
    "\n",
    "# Show a legend\n",
    "plt.legend();"
   ]
  },
  {
   "cell_type": "code",
   "execution_count": 176,
   "id": "737132b2",
   "metadata": {},
   "outputs": [],
   "source": [
    "# Let6's have a look at how to build a neural network for our data\n",
    "\n",
    "# 1. Create a model\n",
    "model = tf.keras.Sequential([\n",
    "    tf.keras.layers.Dense(1)\n",
    "])\n",
    "\n",
    "# 2. Compile the model\n",
    "model.compile(loss = tf.keras.losses.mae,\n",
    "             optimizer = tf.keras.optimizers.SGD(),\n",
    "             metrics=[\"mae\"])\n",
    "\n",
    "# 3. Fit the model\n",
    "# model.fit(X_train, y_train, epochs= 100)"
   ]
  },
  {
   "cell_type": "code",
   "execution_count": 177,
   "id": "16f5cc13",
   "metadata": {},
   "outputs": [
    {
     "ename": "ValueError",
     "evalue": "You must provide an `input_shape` argument.",
     "output_type": "error",
     "traceback": [
      "\u001b[1;31m---------------------------------------------------------------------------\u001b[0m",
      "\u001b[1;31mValueError\u001b[0m                                Traceback (most recent call last)",
      "\u001b[1;32mC:\\Users\\Public\\Documents\\Wondershare\\CreatorTemp\\ipykernel_3216\\1363003330.py\u001b[0m in \u001b[0;36m<module>\u001b[1;34m\u001b[0m\n\u001b[1;32m----> 1\u001b[1;33m \u001b[0mmodel\u001b[0m\u001b[1;33m.\u001b[0m\u001b[0mbuild\u001b[0m\u001b[1;33m(\u001b[0m\u001b[1;33m)\u001b[0m\u001b[1;33m\u001b[0m\u001b[1;33m\u001b[0m\u001b[0m\n\u001b[0m",
      "\u001b[1;32m~\\AppData\\Roaming\\Python\\Python39\\site-packages\\keras\\src\\engine\\sequential.py\u001b[0m in \u001b[0;36mbuild\u001b[1;34m(self, input_shape)\u001b[0m\n\u001b[0;32m    376\u001b[0m         \u001b[1;32melse\u001b[0m\u001b[1;33m:\u001b[0m\u001b[1;33m\u001b[0m\u001b[1;33m\u001b[0m\u001b[0m\n\u001b[0;32m    377\u001b[0m             \u001b[1;32mif\u001b[0m \u001b[0minput_shape\u001b[0m \u001b[1;32mis\u001b[0m \u001b[1;32mNone\u001b[0m\u001b[1;33m:\u001b[0m\u001b[1;33m\u001b[0m\u001b[1;33m\u001b[0m\u001b[0m\n\u001b[1;32m--> 378\u001b[1;33m                 \u001b[1;32mraise\u001b[0m \u001b[0mValueError\u001b[0m\u001b[1;33m(\u001b[0m\u001b[1;34m\"You must provide an `input_shape` argument.\"\u001b[0m\u001b[1;33m)\u001b[0m\u001b[1;33m\u001b[0m\u001b[1;33m\u001b[0m\u001b[0m\n\u001b[0m\u001b[0;32m    379\u001b[0m             \u001b[0mself\u001b[0m\u001b[1;33m.\u001b[0m\u001b[0m_build_graph_network_for_inferred_shape\u001b[0m\u001b[1;33m(\u001b[0m\u001b[0minput_shape\u001b[0m\u001b[1;33m)\u001b[0m\u001b[1;33m\u001b[0m\u001b[1;33m\u001b[0m\u001b[0m\n\u001b[0;32m    380\u001b[0m             \u001b[1;32mif\u001b[0m \u001b[1;32mnot\u001b[0m \u001b[0mself\u001b[0m\u001b[1;33m.\u001b[0m\u001b[0mbuilt\u001b[0m\u001b[1;33m:\u001b[0m\u001b[1;33m\u001b[0m\u001b[1;33m\u001b[0m\u001b[0m\n",
      "\u001b[1;31mValueError\u001b[0m: You must provide an `input_shape` argument."
     ]
    }
   ],
   "source": [
    "model.build()"
   ]
  },
  {
   "cell_type": "code",
   "execution_count": 265,
   "id": "135783a7",
   "metadata": {},
   "outputs": [],
   "source": [
    "# Let6's create a model which builds automatically by defining the input shape argument\n",
    "tf.random.set_seed(42)\n",
    "\n",
    "model = tf.keras.Sequential([\n",
    "    tf.keras.layers.Dense(100, input_shape=[1], name= \"Input_layer\"),\n",
    "    tf.keras.layers.Dense(50, name= \"Hidden_layer\"),\n",
    "    tf.keras.layers.Dense(1,name= \"output_layer\" )\n",
    "], name= \"Mazimum_1\")\n",
    "\n",
    "# 2. Compile the model\n",
    "model.compile(loss=\"mae\",\n",
    "                 optimizer=tf.keras.optimizers.Adam(learning_rate=0.01),\n",
    "             metrics = [\"mae\"])\n"
   ]
  },
  {
   "cell_type": "code",
   "execution_count": 266,
   "id": "3de5da27",
   "metadata": {},
   "outputs": [
    {
     "name": "stdout",
     "output_type": "stream",
     "text": [
      "Model: \"Mazimum_1\"\n",
      "_________________________________________________________________\n",
      " Layer (type)                Output Shape              Param #   \n",
      "=================================================================\n",
      " Input_layer (Dense)         (None, 100)               200       \n",
      "                                                                 \n",
      " Hidden_layer (Dense)        (None, 50)                5050      \n",
      "                                                                 \n",
      " output_layer (Dense)        (None, 1)                 51        \n",
      "                                                                 \n",
      "=================================================================\n",
      "Total params: 5301 (20.71 KB)\n",
      "Trainable params: 5301 (20.71 KB)\n",
      "Non-trainable params: 0 (0.00 Byte)\n",
      "_________________________________________________________________\n"
     ]
    }
   ],
   "source": [
    "model.summary()"
   ]
  },
  {
   "cell_type": "markdown",
   "id": "54ab5fae",
   "metadata": {},
   "source": [
    "* Total params - total number of parameters in the model.\n",
    "* Trainable parameters - these are the parameters (patterns) the model can update as it trains.\n",
    "* Non-trainable params - these parameters aren't updated during training (this is typical when you bring in already learn patterns or parameters from other models duriing **transfer learning**)"
   ]
  },
  {
   "cell_type": "markdown",
   "id": "133bbf6b",
   "metadata": {},
   "source": [
    "&#x1F4D6;  **Resource:** For a more in-depth overview of the trainable parameters within a layer, check out <p id='https://www.youtube.com/watch?v=QDX-1M5Nj7s&list=PLtBw6njQRU-rwp5__7C0oIVt26ZgjG9NI'> MIT's introduction to deep learning video."
   ]
  },
  {
   "cell_type": "markdown",
   "id": "80ae28ca",
   "metadata": {},
   "source": [
    "&#x1F6E0; **Exercise:** Try playing around with the number of hidden units in the dense layer, see how that affects the number of parameters (total and trainable) by calling model.summary()."
   ]
  },
  {
   "cell_type": "code",
   "execution_count": 267,
   "id": "0c19af40",
   "metadata": {},
   "outputs": [
    {
     "name": "stdout",
     "output_type": "stream",
     "text": [
      "Epoch 1/100\n",
      "2/2 [==============================] - 1s 53ms/step - loss: 37.1053 - mae: 37.1053\n",
      "Epoch 2/100\n",
      "2/2 [==============================] - 0s 0s/step - loss: 20.0256 - mae: 20.0256\n",
      "Epoch 3/100\n",
      "2/2 [==============================] - 0s 0s/step - loss: 21.6435 - mae: 21.6435\n",
      "Epoch 4/100\n",
      "2/2 [==============================] - 0s 16ms/step - loss: 20.1115 - mae: 20.1115\n",
      "Epoch 5/100\n",
      "2/2 [==============================] - 0s 0s/step - loss: 9.6020 - mae: 9.6020\n",
      "Epoch 6/100\n",
      "2/2 [==============================] - 0s 0s/step - loss: 15.8854 - mae: 15.8854\n",
      "Epoch 7/100\n",
      "2/2 [==============================] - 0s 16ms/step - loss: 10.6208 - mae: 10.6208\n",
      "Epoch 8/100\n",
      "2/2 [==============================] - 0s 0s/step - loss: 9.8910 - mae: 9.8910\n",
      "Epoch 9/100\n",
      "2/2 [==============================] - 0s 16ms/step - loss: 10.1433 - mae: 10.1433\n",
      "Epoch 10/100\n",
      "2/2 [==============================] - 0s 0s/step - loss: 7.5206 - mae: 7.5206\n",
      "Epoch 11/100\n",
      "2/2 [==============================] - 0s 16ms/step - loss: 11.6511 - mae: 11.6511\n",
      "Epoch 12/100\n",
      "2/2 [==============================] - 0s 0s/step - loss: 9.9172 - mae: 9.9172\n",
      "Epoch 13/100\n",
      "2/2 [==============================] - 0s 16ms/step - loss: 6.7183 - mae: 6.7183\n",
      "Epoch 14/100\n",
      "2/2 [==============================] - 0s 16ms/step - loss: 8.5766 - mae: 8.5766\n",
      "Epoch 15/100\n",
      "2/2 [==============================] - 0s 16ms/step - loss: 5.7386 - mae: 5.7386\n",
      "Epoch 16/100\n",
      "2/2 [==============================] - 0s 16ms/step - loss: 7.6581 - mae: 7.6581\n",
      "Epoch 17/100\n",
      "2/2 [==============================] - 0s 0s/step - loss: 7.9120 - mae: 7.9120\n",
      "Epoch 18/100\n",
      "2/2 [==============================] - 0s 16ms/step - loss: 5.5840 - mae: 5.5840\n",
      "Epoch 19/100\n",
      "2/2 [==============================] - 0s 22ms/step - loss: 5.8065 - mae: 5.8065\n",
      "Epoch 20/100\n",
      "2/2 [==============================] - 0s 16ms/step - loss: 6.8190 - mae: 6.8190\n",
      "Epoch 21/100\n",
      "2/2 [==============================] - 0s 0s/step - loss: 3.9778 - mae: 3.9778\n",
      "Epoch 22/100\n",
      "2/2 [==============================] - 0s 16ms/step - loss: 5.2448 - mae: 5.2448\n",
      "Epoch 23/100\n",
      "2/2 [==============================] - 0s 0s/step - loss: 4.2068 - mae: 4.2068\n",
      "Epoch 24/100\n",
      "2/2 [==============================] - 0s 0s/step - loss: 3.5709 - mae: 3.5709\n",
      "Epoch 25/100\n",
      "2/2 [==============================] - 0s 0s/step - loss: 3.1275 - mae: 3.1275\n",
      "Epoch 26/100\n",
      "2/2 [==============================] - 0s 16ms/step - loss: 2.0287 - mae: 2.0287\n",
      "Epoch 27/100\n",
      "2/2 [==============================] - 0s 16ms/step - loss: 2.8631 - mae: 2.8631\n",
      "Epoch 28/100\n",
      "2/2 [==============================] - 0s 0s/step - loss: 1.3769 - mae: 1.3769\n",
      "Epoch 29/100\n",
      "2/2 [==============================] - 0s 0s/step - loss: 0.3278 - mae: 0.3278\n",
      "Epoch 30/100\n",
      "2/2 [==============================] - 0s 16ms/step - loss: 0.5215 - mae: 0.5215\n",
      "Epoch 31/100\n",
      "2/2 [==============================] - 0s 16ms/step - loss: 1.1365 - mae: 1.1365\n",
      "Epoch 32/100\n",
      "2/2 [==============================] - 0s 0s/step - loss: 1.5691 - mae: 1.5691\n",
      "Epoch 33/100\n",
      "2/2 [==============================] - 0s 16ms/step - loss: 0.8852 - mae: 0.8852\n",
      "Epoch 34/100\n",
      "2/2 [==============================] - 0s 16ms/step - loss: 0.7483 - mae: 0.7483\n",
      "Epoch 35/100\n",
      "2/2 [==============================] - 0s 0s/step - loss: 3.8391 - mae: 3.8391\n",
      "Epoch 36/100\n",
      "2/2 [==============================] - 0s 16ms/step - loss: 1.9380 - mae: 1.9380\n",
      "Epoch 37/100\n",
      "2/2 [==============================] - 0s 16ms/step - loss: 2.1219 - mae: 2.1219\n",
      "Epoch 38/100\n",
      "2/2 [==============================] - 0s 7ms/step - loss: 1.8541 - mae: 1.8541\n",
      "Epoch 39/100\n",
      "2/2 [==============================] - 0s 0s/step - loss: 1.3941 - mae: 1.3941\n",
      "Epoch 40/100\n",
      "2/2 [==============================] - 0s 16ms/step - loss: 0.8110 - mae: 0.8110\n",
      "Epoch 41/100\n",
      "2/2 [==============================] - 0s 0s/step - loss: 1.8948 - mae: 1.8948\n",
      "Epoch 42/100\n",
      "2/2 [==============================] - 0s 16ms/step - loss: 0.5126 - mae: 0.5126\n",
      "Epoch 43/100\n",
      "2/2 [==============================] - 0s 0s/step - loss: 1.7389 - mae: 1.7389\n",
      "Epoch 44/100\n",
      "2/2 [==============================] - 0s 16ms/step - loss: 1.8794 - mae: 1.8794\n",
      "Epoch 45/100\n",
      "2/2 [==============================] - 0s 0s/step - loss: 1.0392 - mae: 1.0392\n",
      "Epoch 46/100\n",
      "2/2 [==============================] - 0s 0s/step - loss: 4.1522 - mae: 4.1522\n",
      "Epoch 47/100\n",
      "2/2 [==============================] - 0s 16ms/step - loss: 1.2142 - mae: 1.2142\n",
      "Epoch 48/100\n",
      "2/2 [==============================] - 0s 0s/step - loss: 5.4605 - mae: 5.4605\n",
      "Epoch 49/100\n",
      "2/2 [==============================] - 0s 16ms/step - loss: 2.2964 - mae: 2.2964\n",
      "Epoch 50/100\n",
      "2/2 [==============================] - 0s 16ms/step - loss: 3.9363 - mae: 3.9363\n",
      "Epoch 51/100\n",
      "2/2 [==============================] - 0s 0s/step - loss: 2.0094 - mae: 2.0094\n",
      "Epoch 52/100\n",
      "2/2 [==============================] - 0s 16ms/step - loss: 1.9172 - mae: 1.9172\n",
      "Epoch 53/100\n",
      "2/2 [==============================] - 0s 16ms/step - loss: 1.4731 - mae: 1.4731\n",
      "Epoch 54/100\n",
      "2/2 [==============================] - 0s 16ms/step - loss: 0.7058 - mae: 0.7058\n",
      "Epoch 55/100\n",
      "2/2 [==============================] - 0s 0s/step - loss: 0.3441 - mae: 0.3441\n",
      "Epoch 56/100\n",
      "2/2 [==============================] - 0s 0s/step - loss: 0.7677 - mae: 0.7677\n",
      "Epoch 57/100\n",
      "2/2 [==============================] - 0s 0s/step - loss: 2.0739 - mae: 2.0739\n",
      "Epoch 58/100\n",
      "2/2 [==============================] - 0s 0s/step - loss: 2.8678 - mae: 2.8678\n",
      "Epoch 59/100\n",
      "2/2 [==============================] - 0s 0s/step - loss: 2.3852 - mae: 2.3852\n",
      "Epoch 60/100\n",
      "2/2 [==============================] - 0s 0s/step - loss: 3.9576 - mae: 3.9576\n",
      "Epoch 61/100\n",
      "2/2 [==============================] - 0s 16ms/step - loss: 4.2203 - mae: 4.2203\n",
      "Epoch 62/100\n",
      "2/2 [==============================] - 0s 16ms/step - loss: 1.9845 - mae: 1.9845\n",
      "Epoch 63/100\n",
      "2/2 [==============================] - 0s 16ms/step - loss: 3.1677 - mae: 3.1677\n",
      "Epoch 64/100\n",
      "2/2 [==============================] - 0s 0s/step - loss: 1.4686 - mae: 1.4686\n",
      "Epoch 65/100\n",
      "2/2 [==============================] - 0s 0s/step - loss: 1.5597 - mae: 1.5597\n",
      "Epoch 66/100\n",
      "2/2 [==============================] - 0s 0s/step - loss: 1.6920 - mae: 1.6920\n",
      "Epoch 67/100\n",
      "2/2 [==============================] - 0s 16ms/step - loss: 0.6751 - mae: 0.6751\n",
      "Epoch 68/100\n",
      "2/2 [==============================] - 0s 16ms/step - loss: 0.7229 - mae: 0.7229\n",
      "Epoch 69/100\n",
      "2/2 [==============================] - 0s 16ms/step - loss: 2.5153 - mae: 2.5153\n",
      "Epoch 70/100\n",
      "2/2 [==============================] - 0s 0s/step - loss: 0.8997 - mae: 0.8997\n",
      "Epoch 71/100\n",
      "2/2 [==============================] - 0s 0s/step - loss: 0.4326 - mae: 0.4326\n",
      "Epoch 72/100\n",
      "2/2 [==============================] - 0s 16ms/step - loss: 0.7755 - mae: 0.7755\n",
      "Epoch 73/100\n",
      "2/2 [==============================] - 0s 16ms/step - loss: 1.7326 - mae: 1.7326\n",
      "Epoch 74/100\n",
      "2/2 [==============================] - 0s 0s/step - loss: 0.6686 - mae: 0.6686\n",
      "Epoch 75/100\n",
      "2/2 [==============================] - 0s 0s/step - loss: 3.2023 - mae: 3.2023\n",
      "Epoch 76/100\n",
      "2/2 [==============================] - 0s 0s/step - loss: 0.9494 - mae: 0.9494\n",
      "Epoch 77/100\n",
      "2/2 [==============================] - 0s 16ms/step - loss: 4.0487 - mae: 4.0487\n",
      "Epoch 78/100\n",
      "2/2 [==============================] - 0s 16ms/step - loss: 1.7304 - mae: 1.7304\n",
      "Epoch 79/100\n",
      "2/2 [==============================] - 0s 16ms/step - loss: 2.0585 - mae: 2.0585\n",
      "Epoch 80/100\n",
      "2/2 [==============================] - 0s 22ms/step - loss: 1.5312 - mae: 1.5312\n",
      "Epoch 81/100\n",
      "2/2 [==============================] - 0s 16ms/step - loss: 1.6605 - mae: 1.6605\n",
      "Epoch 82/100\n",
      "2/2 [==============================] - 0s 16ms/step - loss: 2.2402 - mae: 2.2402\n",
      "Epoch 83/100\n",
      "2/2 [==============================] - 0s 0s/step - loss: 0.6945 - mae: 0.6945\n",
      "Epoch 84/100\n",
      "2/2 [==============================] - 0s 0s/step - loss: 4.4318 - mae: 4.4318\n",
      "Epoch 85/100\n",
      "2/2 [==============================] - 0s 16ms/step - loss: 2.6567 - mae: 2.6567\n",
      "Epoch 86/100\n",
      "2/2 [==============================] - 0s 16ms/step - loss: 3.9848 - mae: 3.9848\n",
      "Epoch 87/100\n",
      "2/2 [==============================] - 0s 16ms/step - loss: 5.5799 - mae: 5.5799\n",
      "Epoch 88/100\n"
     ]
    },
    {
     "name": "stdout",
     "output_type": "stream",
     "text": [
      "2/2 [==============================] - 0s 0s/step - loss: 1.7024 - mae: 1.7024\n",
      "Epoch 89/100\n",
      "2/2 [==============================] - 0s 16ms/step - loss: 5.3016 - mae: 5.3016\n",
      "Epoch 90/100\n",
      "2/2 [==============================] - 0s 22ms/step - loss: 5.0554 - mae: 5.0554\n",
      "Epoch 91/100\n",
      "2/2 [==============================] - 0s 16ms/step - loss: 1.3792 - mae: 1.3792\n",
      "Epoch 92/100\n",
      "2/2 [==============================] - 0s 0s/step - loss: 4.7879 - mae: 4.7879\n",
      "Epoch 93/100\n",
      "2/2 [==============================] - 0s 16ms/step - loss: 2.3707 - mae: 2.3707\n",
      "Epoch 94/100\n",
      "2/2 [==============================] - 0s 16ms/step - loss: 2.4531 - mae: 2.4531\n",
      "Epoch 95/100\n",
      "2/2 [==============================] - 0s 7ms/step - loss: 1.5008 - mae: 1.5008\n",
      "Epoch 96/100\n",
      "2/2 [==============================] - 0s 0s/step - loss: 1.9005 - mae: 1.9005\n",
      "Epoch 97/100\n",
      "2/2 [==============================] - 0s 0s/step - loss: 1.1509 - mae: 1.1509\n",
      "Epoch 98/100\n",
      "2/2 [==============================] - 0s 16ms/step - loss: 1.0382 - mae: 1.0382\n",
      "Epoch 99/100\n",
      "2/2 [==============================] - 0s 16ms/step - loss: 0.8693 - mae: 0.8693\n",
      "Epoch 100/100\n",
      "2/2 [==============================] - 0s 22ms/step - loss: 1.7806 - mae: 1.7806\n"
     ]
    },
    {
     "data": {
      "text/plain": [
       "<keras.src.callbacks.History at 0x277a9db0d00>"
      ]
     },
     "execution_count": 267,
     "metadata": {},
     "output_type": "execute_result"
    }
   ],
   "source": [
    "# Let6's fit ouir model to the training data\n",
    "model.fit(X_train, y_train, epochs = 100, verbose=1)"
   ]
  },
  {
   "cell_type": "code",
   "execution_count": 268,
   "id": "4fee9fac",
   "metadata": {},
   "outputs": [
    {
     "name": "stdout",
     "output_type": "stream",
     "text": [
      "Model: \"Mazimum_1\"\n",
      "_________________________________________________________________\n",
      " Layer (type)                Output Shape              Param #   \n",
      "=================================================================\n",
      " Input_layer (Dense)         (None, 100)               200       \n",
      "                                                                 \n",
      " Hidden_layer (Dense)        (None, 50)                5050      \n",
      "                                                                 \n",
      " output_layer (Dense)        (None, 1)                 51        \n",
      "                                                                 \n",
      "=================================================================\n",
      "Total params: 5301 (20.71 KB)\n",
      "Trainable params: 5301 (20.71 KB)\n",
      "Non-trainable params: 0 (0.00 Byte)\n",
      "_________________________________________________________________\n"
     ]
    }
   ],
   "source": [
    "# Get a summary of our model\n",
    "model.summary()"
   ]
  },
  {
   "cell_type": "raw",
   "id": "601cd499",
   "metadata": {},
   "source": [
    "from tensorflow.keras.utils import plot_model\n",
    "plot_model(model= model)"
   ]
  },
  {
   "cell_type": "code",
   "execution_count": 269,
   "id": "dc459a2b",
   "metadata": {},
   "outputs": [],
   "source": [
    "#pip install pydot"
   ]
  },
  {
   "cell_type": "markdown",
   "id": "2b53a2bf",
   "metadata": {},
   "source": [
    "### Visualizing our model prediction"
   ]
  },
  {
   "cell_type": "markdown",
   "id": "93d69d03",
   "metadata": {},
   "source": [
    "To visualize predictions, it6's a good idea to plot them against the ground truth labels.\n",
    "\n",
    "Often you'll see this in the form of 'y_true' versus 'y_pred' (ground truth versus your model)"
   ]
  },
  {
   "cell_type": "code",
   "execution_count": 270,
   "id": "64742448",
   "metadata": {},
   "outputs": [
    {
     "name": "stdout",
     "output_type": "stream",
     "text": [
      "1/1 [==============================] - 0s 94ms/step\n"
     ]
    },
    {
     "data": {
      "text/plain": [
       "array([[ 69.04203 ],\n",
       "       [ 72.97197 ],\n",
       "       [ 76.90193 ],\n",
       "       [ 80.83189 ],\n",
       "       [ 84.76185 ],\n",
       "       [ 88.691795],\n",
       "       [ 92.621735],\n",
       "       [ 96.55169 ],\n",
       "       [100.48163 ],\n",
       "       [104.4116  ]], dtype=float32)"
      ]
     },
     "execution_count": 270,
     "metadata": {},
     "output_type": "execute_result"
    }
   ],
   "source": [
    "# Make some predictions\n",
    "y_pred = model.predict(X_test)\n",
    "y_pred"
   ]
  },
  {
   "cell_type": "code",
   "execution_count": 271,
   "id": "6b8a78a4",
   "metadata": {},
   "outputs": [
    {
     "data": {
      "text/plain": [
       "<tf.Tensor: shape=(10,), dtype=int32, numpy=array([ 70,  74,  78,  82,  86,  90,  94,  98, 102, 106])>"
      ]
     },
     "execution_count": 271,
     "metadata": {},
     "output_type": "execute_result"
    }
   ],
   "source": [
    "y_test"
   ]
  },
  {
   "cell_type": "markdown",
   "id": "1c136b81",
   "metadata": {},
   "source": [
    "&#x1F511; **Note:** If you feel like you're going to reuse some kind of functionality in the future, its a good idea to turn it into a function"
   ]
  },
  {
   "cell_type": "code",
   "execution_count": 272,
   "id": "33bf2218",
   "metadata": {},
   "outputs": [],
   "source": [
    "# Let's create a plotting function\n",
    "\n",
    "def plot_predictions(train_data = X_train,\n",
    "                    train_labels = y_train,\n",
    "                    test_data= X_test,\n",
    "                    test_labels = y_test,\n",
    "                    predictions=y_pred):\n",
    "    \"\"\"\n",
    "    Plots training data, test data and compares predictions to ground truth lables.\n",
    "    \"\"\"\n",
    "    \n",
    "    plt.figure(figsize=(10,7))\n",
    "    # Plot training data in blue\n",
    "    plt.scatter(train_data,train_labels, c = \"b\", label = \"Training data\")\n",
    "    # Plot testing data in green\n",
    "    plt.scatter(test_data,test_labels, c=\"g\", label= \"Testing data\")\n",
    "    # Plot model's predictions in red\n",
    "    plt.scatter(test_data,predictions, c=\"r\", label= \"Predictions\")\n",
    "    # Show the legend\n",
    "    plt.legend();"
   ]
  },
  {
   "cell_type": "code",
   "execution_count": 273,
   "id": "003d14d5",
   "metadata": {},
   "outputs": [
    {
     "data": {
      "image/png": "[encoded data removed]",
      "text/plain": [
       "<Figure size 1000x700 with 1 Axes>"
      ]
     },
     "metadata": {},
     "output_type": "display_data"
    }
   ],
   "source": [
    "plot_predictions()"
   ]
  },
  {
   "cell_type": "markdown",
   "id": "7c6b9f6f",
   "metadata": {},
   "source": [
    "### Evaluating our model's predictions with regression evaluation metrics\n",
    "\n",
    "Depending on the problem you're working on, there will be different evaluation metrics to evaluate your model's performance.\n",
    "\n",
    "Since we're working on regression, two of the main metrics:\n",
    "* MAE - mean absolute error, \"on average, how wrong is each of my model's predictions\"\n",
    "* MSE - Mean square error, \"Square the average errors\""
   ]
  },
  {
   "cell_type": "code",
   "execution_count": 274,
   "id": "bca173a9",
   "metadata": {},
   "outputs": [
    {
     "name": "stdout",
     "output_type": "stream",
     "text": [
      "1/1 [==============================] - 0s 201ms/step - loss: 1.2732 - mae: 1.2732\n"
     ]
    },
    {
     "data": {
      "text/plain": [
       "[1.2731879949569702, 1.2731879949569702]"
      ]
     },
     "execution_count": 274,
     "metadata": {},
     "output_type": "execute_result"
    }
   ],
   "source": [
    "# Evaluate the model on the test\n",
    "model.evaluate(X_test,y_test)"
   ]
  },
  {
   "cell_type": "code",
   "execution_count": 281,
   "id": "c04bf50d",
   "metadata": {},
   "outputs": [
    {
     "data": {
      "text/plain": [
       "<tf.Tensor: shape=(10,), dtype=float32, numpy=\n",
       "array([18.95797 , 15.622424, 13.058841, 11.267245, 10.24763 , 10.      ,\n",
       "       10.524347, 11.820676, 13.888977, 16.729279], dtype=float32)>"
      ]
     },
     "execution_count": 281,
     "metadata": {},
     "output_type": "execute_result"
    }
   ],
   "source": [
    "# Calculate the mean absolute error\n",
    "#tf.keras.losses.mae(y_test,y_pred).numpy()\n",
    "mae= tf.metrics.mean_absolute_error(y_test,y_pred)\n",
    "mae"
   ]
  },
  {
   "cell_type": "code",
   "execution_count": 282,
   "id": "d41a2eb7",
   "metadata": {},
   "outputs": [
    {
     "data": {
      "text/plain": [
       "(array([[ 69.04203 ],\n",
       "        [ 72.97197 ],\n",
       "        [ 76.90193 ],\n",
       "        [ 80.83189 ],\n",
       "        [ 84.76185 ],\n",
       "        [ 88.691795],\n",
       "        [ 92.621735],\n",
       "        [ 96.55169 ],\n",
       "        [100.48163 ],\n",
       "        [104.4116  ]], dtype=float32),\n",
       " (10, 1))"
      ]
     },
     "execution_count": 282,
     "metadata": {},
     "output_type": "execute_result"
    }
   ],
   "source": [
    "y_pred, y_pred.shape"
   ]
  },
  {
   "cell_type": "code",
   "execution_count": 276,
   "id": "3c542583",
   "metadata": {},
   "outputs": [
    {
     "data": {
      "text/plain": [
       "<tf.Tensor: shape=(10,), dtype=int32, numpy=array([ 70,  74,  78,  82,  86,  90,  94,  98, 102, 106])>"
      ]
     },
     "execution_count": 276,
     "metadata": {},
     "output_type": "execute_result"
    }
   ],
   "source": [
    "y_test"
   ]
  },
  {
   "cell_type": "code",
   "execution_count": 283,
   "id": "88e7e40f",
   "metadata": {},
   "outputs": [
    {
     "data": {
      "text/plain": [
       "<tf.Tensor: shape=(10,), dtype=float32, numpy=\n",
       "array([ 69.04203 ,  72.97197 ,  76.90193 ,  80.83189 ,  84.76185 ,\n",
       "        88.691795,  92.621735,  96.55169 , 100.48163 , 104.4116  ],\n",
       "      dtype=float32)>"
      ]
     },
     "execution_count": 283,
     "metadata": {},
     "output_type": "execute_result"
    }
   ],
   "source": [
    "tf.squeeze(y_pred)"
   ]
  },
  {
   "cell_type": "code",
   "execution_count": 284,
   "id": "769d0331",
   "metadata": {},
   "outputs": [
    {
     "data": {
      "text/plain": [
       "<tf.Tensor: shape=(), dtype=float32, numpy=1.2731888>"
      ]
     },
     "execution_count": 284,
     "metadata": {},
     "output_type": "execute_result"
    }
   ],
   "source": [
    "# Calculate the mean absolute error\n",
    "mea = tf.metrics.mean_absolute_error(y_true=y_test,y_pred=tf.squeeze(y_pred))\n",
    "mea"
   ]
  },
  {
   "cell_type": "code",
   "execution_count": 285,
   "id": "562cf43c",
   "metadata": {},
   "outputs": [
    {
     "data": {
      "text/plain": [
       "<tf.Tensor: shape=(), dtype=float32, numpy=1.6614907>"
      ]
     },
     "execution_count": 285,
     "metadata": {},
     "output_type": "execute_result"
    }
   ],
   "source": [
    "# Calculate the mean square error\n",
    "mse = tf.metrics.mean_squared_error(y_true=y_test,y_pred=tf.squeeze(y_pred))\n",
    "mse"
   ]
  },
  {
   "cell_type": "code",
   "execution_count": 294,
   "id": "c38425cf",
   "metadata": {},
   "outputs": [],
   "source": [
    "# Make some functions to reuse MAE and MSE\n",
    "def mae(y_true,y_pred):\n",
    "    return tf.metrics.mean_absolute_error(y_true=y_true,\n",
    "                                          y_pred=tf.squeeze(y_pred))\n",
    "def mse(y_true,y_pred):\n",
    "    return tf.metrics.mean_squared_error(y_true=y_true,\n",
    "                                         y_pred=tf.squeeze(y_pred))"
   ]
  },
  {
   "cell_type": "markdown",
   "id": "2a40d037",
   "metadata": {},
   "source": [
    "### Running experiments to improve our model\n",
    "\n",
    "'''\n",
    "Build a model -> fit it -> evaluate it -> tweak it -> fit it -> fit it -> evaluate it ...\n",
    "'''\n",
    "\n",
    "1. Get more data - get more examples for your model to train on (more opportunities to learn patterns or relationships between features and labels).\n",
    "2. Make your model larger (using a more complex model) - this might come in the form of more layers or more hidden units in each layer.\n",
    "3. Train for longer- give your model more of a chance to find patterns in the data.\n",
    "\n",
    "Let6's do 3 modelling experiments:\n",
    "1. 'model 1' - same as the original model, 1 layer, trained for 100 epochs.\n",
    "2. 'model 2' - 2 layers, trained for 100 epochs\n",
    "3. 'model 3' - 3 layers, trained for 500 epochs\n",
    "4. 'model 4' - \n",
    "5. 'model 4'"
   ]
  },
  {
   "cell_type": "markdown",
   "id": "eaf1a045",
   "metadata": {},
   "source": [
    "**Build** model_1"
   ]
  },
  {
   "cell_type": "code",
   "execution_count": 289,
   "id": "b55f3725",
   "metadata": {},
   "outputs": [
    {
     "name": "stdout",
     "output_type": "stream",
     "text": [
      "Epoch 1/100\n",
      "2/2 [==============================] - 0s 0s/step - loss: 101.8389 - mae: 101.8389\n",
      "Epoch 2/100\n",
      "2/2 [==============================] - 0s 0s/step - loss: 66.3834 - mae: 66.3834\n",
      "Epoch 3/100\n",
      "2/2 [==============================] - 0s 0s/step - loss: 29.1037 - mae: 29.1037\n",
      "Epoch 4/100\n",
      "2/2 [==============================] - 0s 0s/step - loss: 10.3794 - mae: 10.3794\n",
      "Epoch 5/100\n",
      "2/2 [==============================] - 0s 16ms/step - loss: 11.4071 - mae: 11.4071\n",
      "Epoch 6/100\n",
      "2/2 [==============================] - 0s 22ms/step - loss: 10.5251 - mae: 10.5251\n",
      "Epoch 7/100\n",
      "2/2 [==============================] - 0s 16ms/step - loss: 9.4895 - mae: 9.4895\n",
      "Epoch 8/100\n",
      "2/2 [==============================] - 0s 0s/step - loss: 9.3509 - mae: 9.3509\n",
      "Epoch 9/100\n",
      "2/2 [==============================] - 0s 16ms/step - loss: 7.5429 - mae: 7.5429\n",
      "Epoch 10/100\n",
      "2/2 [==============================] - 0s 16ms/step - loss: 12.6131 - mae: 12.6131\n",
      "Epoch 11/100\n",
      "2/2 [==============================] - 0s 7ms/step - loss: 10.3608 - mae: 10.3608\n",
      "Epoch 12/100\n",
      "2/2 [==============================] - 0s 0s/step - loss: 18.5386 - mae: 18.5386\n",
      "Epoch 13/100\n",
      "2/2 [==============================] - 0s 16ms/step - loss: 9.7611 - mae: 9.7611\n",
      "Epoch 14/100\n",
      "2/2 [==============================] - 0s 16ms/step - loss: 15.6260 - mae: 15.6260\n",
      "Epoch 15/100\n",
      "2/2 [==============================] - 0s 9ms/step - loss: 11.7442 - mae: 11.7442\n",
      "Epoch 16/100\n",
      "2/2 [==============================] - 0s 8ms/step - loss: 8.4727 - mae: 8.4727\n",
      "Epoch 17/100\n",
      "2/2 [==============================] - 0s 10ms/step - loss: 13.4491 - mae: 13.4491\n",
      "Epoch 18/100\n",
      "2/2 [==============================] - 0s 10ms/step - loss: 11.2233 - mae: 11.2233\n",
      "Epoch 19/100\n",
      "2/2 [==============================] - 0s 10ms/step - loss: 18.3575 - mae: 18.3575\n",
      "Epoch 20/100\n",
      "2/2 [==============================] - 0s 28ms/step - loss: 15.0631 - mae: 15.0631\n",
      "Epoch 21/100\n",
      "2/2 [==============================] - 0s 10ms/step - loss: 10.9304 - mae: 10.9304\n",
      "Epoch 22/100\n",
      "2/2 [==============================] - 0s 20ms/step - loss: 8.6895 - mae: 8.6895\n",
      "Epoch 23/100\n",
      "2/2 [==============================] - 0s 12ms/step - loss: 9.6933 - mae: 9.6933\n",
      "Epoch 24/100\n",
      "2/2 [==============================] - 0s 10ms/step - loss: 8.6043 - mae: 8.6043\n",
      "Epoch 25/100\n",
      "2/2 [==============================] - 0s 18ms/step - loss: 11.5861 - mae: 11.5861\n",
      "Epoch 26/100\n",
      "2/2 [==============================] - 0s 10ms/step - loss: 15.1988 - mae: 15.1988\n",
      "Epoch 27/100\n",
      "2/2 [==============================] - 0s 10ms/step - loss: 12.0851 - mae: 12.0851\n",
      "Epoch 28/100\n",
      "2/2 [==============================] - 0s 10ms/step - loss: 13.3822 - mae: 13.3822\n",
      "Epoch 29/100\n",
      "2/2 [==============================] - 0s 10ms/step - loss: 9.6303 - mae: 9.6303\n",
      "Epoch 30/100\n",
      "2/2 [==============================] - 0s 12ms/step - loss: 17.1678 - mae: 17.1678\n",
      "Epoch 31/100\n",
      "2/2 [==============================] - 0s 10ms/step - loss: 22.9132 - mae: 22.9132\n",
      "Epoch 32/100\n",
      "2/2 [==============================] - 0s 10ms/step - loss: 7.9438 - mae: 7.9438\n",
      "Epoch 33/100\n",
      "2/2 [==============================] - 0s 0s/step - loss: 14.1331 - mae: 14.1331\n",
      "Epoch 34/100\n",
      "2/2 [==============================] - 0s 0s/step - loss: 12.3758 - mae: 12.3758\n",
      "Epoch 35/100\n",
      "2/2 [==============================] - 0s 16ms/step - loss: 8.2947 - mae: 8.2947\n",
      "Epoch 36/100\n",
      "2/2 [==============================] - 0s 16ms/step - loss: 10.5213 - mae: 10.5213\n",
      "Epoch 37/100\n",
      "2/2 [==============================] - 0s 7ms/step - loss: 10.1635 - mae: 10.1635\n",
      "Epoch 38/100\n",
      "2/2 [==============================] - 0s 16ms/step - loss: 11.3665 - mae: 11.3665\n",
      "Epoch 39/100\n",
      "2/2 [==============================] - 0s 0s/step - loss: 14.7575 - mae: 14.7575\n",
      "Epoch 40/100\n",
      "2/2 [==============================] - 0s 0s/step - loss: 12.8879 - mae: 12.8879\n",
      "Epoch 41/100\n",
      "2/2 [==============================] - 0s 0s/step - loss: 9.2766 - mae: 9.2766\n",
      "Epoch 42/100\n",
      "2/2 [==============================] - 0s 0s/step - loss: 11.0444 - mae: 11.0444\n",
      "Epoch 43/100\n",
      "2/2 [==============================] - 0s 7ms/step - loss: 8.3624 - mae: 8.3624\n",
      "Epoch 44/100\n",
      "2/2 [==============================] - 0s 0s/step - loss: 13.0893 - mae: 13.0893\n",
      "Epoch 45/100\n",
      "2/2 [==============================] - 0s 16ms/step - loss: 13.6754 - mae: 13.6754\n",
      "Epoch 46/100\n",
      "2/2 [==============================] - 0s 16ms/step - loss: 8.3007 - mae: 8.3007\n",
      "Epoch 47/100\n",
      "2/2 [==============================] - 0s 0s/step - loss: 8.7598 - mae: 8.7598\n",
      "Epoch 48/100\n",
      "2/2 [==============================] - 0s 7ms/step - loss: 10.0632 - mae: 10.0632\n",
      "Epoch 49/100\n",
      "2/2 [==============================] - 0s 16ms/step - loss: 8.5449 - mae: 8.5449\n",
      "Epoch 50/100\n",
      "2/2 [==============================] - 0s 0s/step - loss: 9.0511 - mae: 9.0511\n",
      "Epoch 51/100\n",
      "2/2 [==============================] - 0s 0s/step - loss: 9.4048 - mae: 9.4048\n",
      "Epoch 52/100\n",
      "2/2 [==============================] - 0s 0s/step - loss: 14.2080 - mae: 14.2080\n",
      "Epoch 53/100\n",
      "2/2 [==============================] - 0s 0s/step - loss: 14.8901 - mae: 14.8901\n",
      "Epoch 54/100\n",
      "2/2 [==============================] - 0s 7ms/step - loss: 14.8262 - mae: 14.8262\n",
      "Epoch 55/100\n",
      "2/2 [==============================] - 0s 0s/step - loss: 12.6090 - mae: 12.6090\n",
      "Epoch 56/100\n",
      "2/2 [==============================] - 0s 0s/step - loss: 7.6110 - mae: 7.6110\n",
      "Epoch 57/100\n",
      "2/2 [==============================] - 0s 0s/step - loss: 8.8277 - mae: 8.8277\n",
      "Epoch 58/100\n",
      "2/2 [==============================] - 0s 0s/step - loss: 8.4126 - mae: 8.4126\n",
      "Epoch 59/100\n",
      "2/2 [==============================] - 0s 0s/step - loss: 9.2107 - mae: 9.2107\n",
      "Epoch 60/100\n",
      "2/2 [==============================] - 0s 7ms/step - loss: 9.1517 - mae: 9.1517\n",
      "Epoch 61/100\n",
      "2/2 [==============================] - 0s 16ms/step - loss: 10.6965 - mae: 10.6965\n",
      "Epoch 62/100\n",
      "2/2 [==============================] - 0s 0s/step - loss: 7.4607 - mae: 7.4607\n",
      "Epoch 63/100\n",
      "2/2 [==============================] - 0s 0s/step - loss: 10.5430 - mae: 10.5430\n",
      "Epoch 64/100\n",
      "2/2 [==============================] - 0s 16ms/step - loss: 12.1417 - mae: 12.1417\n",
      "Epoch 65/100\n",
      "2/2 [==============================] - 0s 16ms/step - loss: 9.4749 - mae: 9.4749\n",
      "Epoch 66/100\n",
      "2/2 [==============================] - 0s 0s/step - loss: 11.5456 - mae: 11.5456\n",
      "Epoch 67/100\n",
      "2/2 [==============================] - 0s 16ms/step - loss: 8.0570 - mae: 8.0570\n",
      "Epoch 68/100\n",
      "2/2 [==============================] - 0s 16ms/step - loss: 8.5876 - mae: 8.5876\n",
      "Epoch 69/100\n",
      "2/2 [==============================] - 0s 0s/step - loss: 12.2643 - mae: 12.2643\n",
      "Epoch 70/100\n",
      "2/2 [==============================] - 0s 0s/step - loss: 8.9765 - mae: 8.9765\n",
      "Epoch 71/100\n",
      "2/2 [==============================] - 0s 0s/step - loss: 9.9504 - mae: 9.9504\n",
      "Epoch 72/100\n",
      "2/2 [==============================] - 0s 0s/step - loss: 9.9906 - mae: 9.9906\n",
      "Epoch 73/100\n",
      "2/2 [==============================] - 0s 16ms/step - loss: 12.4504 - mae: 12.4504\n",
      "Epoch 74/100\n",
      "2/2 [==============================] - 0s 16ms/step - loss: 10.6072 - mae: 10.6072\n",
      "Epoch 75/100\n",
      "2/2 [==============================] - 0s 16ms/step - loss: 9.6481 - mae: 9.6481\n",
      "Epoch 76/100\n",
      "2/2 [==============================] - 0s 7ms/step - loss: 11.1129 - mae: 11.1129\n",
      "Epoch 77/100\n",
      "2/2 [==============================] - 0s 16ms/step - loss: 8.2958 - mae: 8.2958\n",
      "Epoch 78/100\n",
      "2/2 [==============================] - 0s 16ms/step - loss: 8.9841 - mae: 8.9841\n",
      "Epoch 79/100\n",
      "2/2 [==============================] - 0s 16ms/step - loss: 19.8186 - mae: 19.8186\n",
      "Epoch 80/100\n",
      "2/2 [==============================] - 0s 0s/step - loss: 17.8163 - mae: 17.8163\n",
      "Epoch 81/100\n",
      "2/2 [==============================] - 0s 0s/step - loss: 7.1099 - mae: 7.1099\n",
      "Epoch 82/100\n",
      "2/2 [==============================] - 0s 0s/step - loss: 10.4252 - mae: 10.4252\n",
      "Epoch 83/100\n",
      "2/2 [==============================] - 0s 16ms/step - loss: 9.8471 - mae: 9.8471\n",
      "Epoch 84/100\n",
      "2/2 [==============================] - 0s 16ms/step - loss: 7.9644 - mae: 7.9644\n",
      "Epoch 85/100\n",
      "2/2 [==============================] - 0s 16ms/step - loss: 9.4752 - mae: 9.4752\n",
      "Epoch 86/100\n",
      "2/2 [==============================] - 0s 0s/step - loss: 9.5179 - mae: 9.5179\n",
      "Epoch 87/100\n",
      "2/2 [==============================] - 0s 0s/step - loss: 11.4617 - mae: 11.4617\n",
      "Epoch 88/100\n"
     ]
    },
    {
     "name": "stdout",
     "output_type": "stream",
     "text": [
      "2/2 [==============================] - 0s 0s/step - loss: 9.9631 - mae: 9.9631\n",
      "Epoch 89/100\n",
      "2/2 [==============================] - 0s 16ms/step - loss: 7.2773 - mae: 7.2773\n",
      "Epoch 90/100\n",
      "2/2 [==============================] - 0s 16ms/step - loss: 12.7231 - mae: 12.7231\n",
      "Epoch 91/100\n",
      "2/2 [==============================] - 0s 16ms/step - loss: 7.3390 - mae: 7.3390\n",
      "Epoch 92/100\n",
      "2/2 [==============================] - 0s 0s/step - loss: 7.7038 - mae: 7.7038\n",
      "Epoch 93/100\n",
      "2/2 [==============================] - 0s 16ms/step - loss: 7.1432 - mae: 7.1432\n",
      "Epoch 94/100\n",
      "2/2 [==============================] - 0s 16ms/step - loss: 12.5707 - mae: 12.5707\n",
      "Epoch 95/100\n",
      "2/2 [==============================] - 0s 12ms/step - loss: 9.9491 - mae: 9.9491\n",
      "Epoch 96/100\n",
      "2/2 [==============================] - 0s 10ms/step - loss: 9.1619 - mae: 9.1619\n",
      "Epoch 97/100\n",
      "2/2 [==============================] - 0s 10ms/step - loss: 12.1005 - mae: 12.1005\n",
      "Epoch 98/100\n",
      "2/2 [==============================] - 0s 10ms/step - loss: 9.0936 - mae: 9.0936\n",
      "Epoch 99/100\n",
      "2/2 [==============================] - 0s 20ms/step - loss: 8.5188 - mae: 8.5188\n",
      "Epoch 100/100\n",
      "2/2 [==============================] - 0s 10ms/step - loss: 14.4644 - mae: 14.4644\n"
     ]
    },
    {
     "data": {
      "text/plain": [
       "<keras.src.callbacks.History at 0x277a75e1f40>"
      ]
     },
     "execution_count": 289,
     "metadata": {},
     "output_type": "execute_result"
    }
   ],
   "source": [
    "# Set random seed\n",
    "tf.random.set_seed(42)\n",
    "\n",
    "# 1. Create the model\n",
    "model_1 = tf.keras.Sequential([\n",
    "    tf.keras.layers.Dense(1,input_shape=[1])\n",
    "])\n",
    "\n",
    "# 2. Compile the model\n",
    "model_1.compile(loss=tf.keras.losses.mae,\n",
    "               optimizer=tf.keras.optimizers.SGD(),\n",
    "               metrics=[\"mae\"])\n",
    "# 3. Fit the model\n",
    "model_1.fit(X_train,y_train, epochs = 100)"
   ]
  },
  {
   "cell_type": "code",
   "execution_count": 291,
   "id": "5e022b2a",
   "metadata": {},
   "outputs": [
    {
     "name": "stdout",
     "output_type": "stream",
     "text": [
      "1/1 [==============================] - 0s 85ms/step\n"
     ]
    },
    {
     "data": {
      "image/png": "[encoded data removed]",
      "text/plain": [
       "<Figure size 1000x700 with 1 Axes>"
      ]
     },
     "metadata": {},
     "output_type": "display_data"
    }
   ],
   "source": [
    "# Make and plot predictions for model_1\n",
    "y_preds_1 = model_1.predict(X_test)\n",
    "plot_predictions(predictions=y_preds_1);"
   ]
  },
  {
   "cell_type": "code",
   "execution_count": 295,
   "id": "cd9b6151",
   "metadata": {},
   "outputs": [
    {
     "data": {
      "text/plain": [
       "(<tf.Tensor: shape=(), dtype=float32, numpy=30.68288>,\n",
       " <tf.Tensor: shape=(), dtype=float32, numpy=951.8916>)"
      ]
     },
     "execution_count": 295,
     "metadata": {},
     "output_type": "execute_result"
    }
   ],
   "source": [
    "# Calculate model_! evaluation metrics\n",
    "mae_1 = mae(y_test,y_preds_1)\n",
    "mse_1 = mse(y_test,y_preds_1)\n",
    "mae_1, mse_1"
   ]
  },
  {
   "cell_type": "markdown",
   "id": "7e711098",
   "metadata": {},
   "source": [
    "**Build 'model_2'**\n",
    "* 2 dense layers, trained for 100 epochs"
   ]
  },
  {
   "cell_type": "code",
   "execution_count": 302,
   "id": "2b889266",
   "metadata": {},
   "outputs": [
    {
     "name": "stdout",
     "output_type": "stream",
     "text": [
      "Epoch 1/100\n",
      "2/2 [==============================] - 1s 16ms/step - loss: 35.8893 - mse: 1976.2859\n",
      "Epoch 2/100\n",
      "2/2 [==============================] - 0s 16ms/step - loss: 29.1862 - mse: 1165.6395\n",
      "Epoch 3/100\n",
      "2/2 [==============================] - 0s 22ms/step - loss: 32.3965 - mse: 1584.5187\n",
      "Epoch 4/100\n",
      "2/2 [==============================] - 0s 16ms/step - loss: 16.9607 - mse: 421.9130\n",
      "Epoch 5/100\n",
      "2/2 [==============================] - 0s 16ms/step - loss: 22.6467 - mse: 752.9442\n",
      "Epoch 6/100\n",
      "2/2 [==============================] - 0s 0s/step - loss: 11.7933 - mse: 161.5690\n",
      "Epoch 7/100\n",
      "2/2 [==============================] - 0s 16ms/step - loss: 12.9287 - mse: 229.5549\n",
      "Epoch 8/100\n",
      "2/2 [==============================] - 0s 0s/step - loss: 11.2025 - mse: 160.9136\n",
      "Epoch 9/100\n",
      "2/2 [==============================] - 0s 0s/step - loss: 41.1990 - mse: 2685.8325\n",
      "Epoch 10/100\n",
      "2/2 [==============================] - 0s 16ms/step - loss: 28.5000 - mse: 1145.9696\n",
      "Epoch 11/100\n",
      "2/2 [==============================] - 0s 31ms/step - loss: 9.4059 - mse: 118.5929\n",
      "Epoch 12/100\n",
      "2/2 [==============================] - 0s 0s/step - loss: 26.4228 - mse: 966.0177\n",
      "Epoch 13/100\n",
      "2/2 [==============================] - 0s 16ms/step - loss: 14.4519 - mse: 278.9578\n",
      "Epoch 14/100\n",
      "2/2 [==============================] - 0s 10ms/step - loss: 29.8464 - mse: 1422.5801\n",
      "Epoch 15/100\n",
      "2/2 [==============================] - 0s 12ms/step - loss: 19.7090 - mse: 543.3841\n",
      "Epoch 16/100\n",
      "2/2 [==============================] - 0s 10ms/step - loss: 9.8440 - mse: 126.6091\n",
      "Epoch 17/100\n",
      "2/2 [==============================] - 0s 8ms/step - loss: 17.6459 - mse: 410.7258\n",
      "Epoch 18/100\n",
      "2/2 [==============================] - 0s 16ms/step - loss: 14.1153 - mse: 313.8214\n",
      "Epoch 19/100\n",
      "2/2 [==============================] - 0s 16ms/step - loss: 13.9552 - mse: 303.2471\n",
      "Epoch 20/100\n",
      "2/2 [==============================] - 0s 16ms/step - loss: 11.2132 - mse: 146.5943\n",
      "Epoch 21/100\n",
      "2/2 [==============================] - 0s 0s/step - loss: 17.2714 - mse: 422.2393\n",
      "Epoch 22/100\n",
      "2/2 [==============================] - 0s 16ms/step - loss: 15.5093 - mse: 331.1994\n",
      "Epoch 23/100\n",
      "2/2 [==============================] - 0s 16ms/step - loss: 9.2494 - mse: 118.8290\n",
      "Epoch 24/100\n",
      "2/2 [==============================] - 0s 16ms/step - loss: 17.2752 - mse: 409.0571\n",
      "Epoch 25/100\n",
      "2/2 [==============================] - 0s 7ms/step - loss: 15.9493 - mse: 334.2719\n",
      "Epoch 26/100\n",
      "2/2 [==============================] - 0s 16ms/step - loss: 20.9475 - mse: 650.1691\n",
      "Epoch 27/100\n",
      "2/2 [==============================] - 0s 16ms/step - loss: 25.9280 - mse: 1048.5881\n",
      "Epoch 28/100\n",
      "2/2 [==============================] - 0s 16ms/step - loss: 18.4316 - mse: 537.6541\n",
      "Epoch 29/100\n",
      "2/2 [==============================] - 0s 0s/step - loss: 9.2505 - mse: 98.0159\n",
      "Epoch 30/100\n",
      "2/2 [==============================] - 0s 0s/step - loss: 29.0382 - mse: 1505.4005\n",
      "Epoch 31/100\n",
      "2/2 [==============================] - 0s 16ms/step - loss: 52.5895 - mse: 4944.6733\n",
      "Epoch 32/100\n",
      "2/2 [==============================] - 0s 0s/step - loss: 11.9165 - mse: 205.9506\n",
      "Epoch 33/100\n",
      "2/2 [==============================] - 0s 16ms/step - loss: 15.4924 - mse: 330.5511\n",
      "Epoch 34/100\n",
      "2/2 [==============================] - 0s 22ms/step - loss: 12.5977 - mse: 208.8474\n",
      "Epoch 35/100\n",
      "2/2 [==============================] - 0s 16ms/step - loss: 9.2014 - mse: 91.6064\n",
      "Epoch 36/100\n",
      "2/2 [==============================] - 0s 0s/step - loss: 16.4646 - mse: 393.7899\n",
      "Epoch 37/100\n",
      "2/2 [==============================] - 0s 0s/step - loss: 11.0955 - mse: 192.3575\n",
      "Epoch 38/100\n",
      "2/2 [==============================] - 0s 0s/step - loss: 18.2250 - mse: 437.7771\n",
      "Epoch 39/100\n",
      "2/2 [==============================] - 0s 16ms/step - loss: 19.1568 - mse: 534.6658\n",
      "Epoch 40/100\n",
      "2/2 [==============================] - 0s 16ms/step - loss: 20.5309 - mse: 615.5905\n",
      "Epoch 41/100\n",
      "2/2 [==============================] - 0s 16ms/step - loss: 14.7980 - mse: 273.5817\n",
      "Epoch 42/100\n",
      "2/2 [==============================] - 0s 16ms/step - loss: 12.1970 - mse: 181.4297\n",
      "Epoch 43/100\n",
      "2/2 [==============================] - 0s 0s/step - loss: 10.6974 - mse: 162.4307\n",
      "Epoch 44/100\n",
      "2/2 [==============================] - 0s 0s/step - loss: 32.2112 - mse: 1705.9838\n",
      "Epoch 45/100\n",
      "2/2 [==============================] - 0s 7ms/step - loss: 12.4619 - mse: 200.9302\n",
      "Epoch 46/100\n",
      "2/2 [==============================] - 0s 16ms/step - loss: 17.4725 - mse: 457.3572\n",
      "Epoch 47/100\n",
      "2/2 [==============================] - 0s 0s/step - loss: 15.7773 - mse: 340.0906\n",
      "Epoch 48/100\n",
      "2/2 [==============================] - 0s 0s/step - loss: 8.3923 - mse: 112.9612\n",
      "Epoch 49/100\n",
      "2/2 [==============================] - 0s 0s/step - loss: 14.0083 - mse: 269.2841\n",
      "Epoch 50/100\n",
      "2/2 [==============================] - 0s 0s/step - loss: 12.8450 - mse: 216.0239\n",
      "Epoch 51/100\n",
      "2/2 [==============================] - 0s 0s/step - loss: 14.8532 - mse: 310.3780\n",
      "Epoch 52/100\n",
      "2/2 [==============================] - 0s 0s/step - loss: 18.7373 - mse: 530.9965\n",
      "Epoch 53/100\n",
      "2/2 [==============================] - 0s 0s/step - loss: 24.1969 - mse: 830.1149\n",
      "Epoch 54/100\n",
      "2/2 [==============================] - 0s 0s/step - loss: 23.1145 - mse: 799.6967\n",
      "Epoch 55/100\n",
      "2/2 [==============================] - 0s 0s/step - loss: 23.9562 - mse: 863.1564\n",
      "Epoch 56/100\n",
      "2/2 [==============================] - 0s 0s/step - loss: 11.1447 - mse: 171.2219\n",
      "Epoch 57/100\n",
      "2/2 [==============================] - 0s 0s/step - loss: 13.0889 - mse: 212.6112\n",
      "Epoch 58/100\n",
      "2/2 [==============================] - 0s 0s/step - loss: 9.7981 - mse: 105.9571\n",
      "Epoch 59/100\n",
      "2/2 [==============================] - 0s 0s/step - loss: 13.2661 - mse: 246.8687\n",
      "Epoch 60/100\n",
      "2/2 [==============================] - 0s 0s/step - loss: 10.8517 - mse: 138.4553\n",
      "Epoch 61/100\n",
      "2/2 [==============================] - 0s 16ms/step - loss: 13.4376 - mse: 239.3975\n",
      "Epoch 62/100\n",
      "2/2 [==============================] - 0s 22ms/step - loss: 17.4184 - mse: 462.7310\n",
      "Epoch 63/100\n",
      "2/2 [==============================] - 0s 16ms/step - loss: 9.1493 - mse: 87.7773\n",
      "Epoch 64/100\n",
      "2/2 [==============================] - 0s 16ms/step - loss: 18.2888 - mse: 486.2451\n",
      "Epoch 65/100\n",
      "2/2 [==============================] - 0s 16ms/step - loss: 10.1036 - mse: 114.2404\n",
      "Epoch 66/100\n",
      "2/2 [==============================] - 0s 16ms/step - loss: 24.1237 - mse: 877.1113\n",
      "Epoch 67/100\n",
      "2/2 [==============================] - 0s 16ms/step - loss: 10.8566 - mse: 141.1720\n",
      "Epoch 68/100\n",
      "2/2 [==============================] - 0s 16ms/step - loss: 10.7489 - mse: 156.5945\n",
      "Epoch 69/100\n",
      "2/2 [==============================] - 0s 0s/step - loss: 23.0881 - mse: 769.9088\n",
      "Epoch 70/100\n",
      "2/2 [==============================] - 0s 0s/step - loss: 8.8473 - mse: 142.9884\n",
      "Epoch 71/100\n",
      "2/2 [==============================] - 0s 16ms/step - loss: 16.0770 - mse: 352.4893\n",
      "Epoch 72/100\n",
      "2/2 [==============================] - 0s 16ms/step - loss: 7.7659 - mse: 91.4467\n",
      "Epoch 73/100\n",
      "2/2 [==============================] - 0s 16ms/step - loss: 10.1641 - mse: 165.3060\n",
      "Epoch 74/100\n",
      "2/2 [==============================] - 0s 22ms/step - loss: 28.3481 - mse: 1124.5564\n",
      "Epoch 75/100\n",
      "2/2 [==============================] - 0s 16ms/step - loss: 10.0009 - mse: 146.4296\n",
      "Epoch 76/100\n",
      "2/2 [==============================] - 0s 0s/step - loss: 12.9132 - mse: 207.0799\n",
      "Epoch 77/100\n",
      "2/2 [==============================] - 0s 16ms/step - loss: 17.8426 - mse: 495.8177\n",
      "Epoch 78/100\n",
      "2/2 [==============================] - 0s 16ms/step - loss: 8.9660 - mse: 87.6513\n",
      "Epoch 79/100\n",
      "2/2 [==============================] - 0s 7ms/step - loss: 28.6491 - mse: 1295.2971\n",
      "Epoch 80/100\n",
      "2/2 [==============================] - 0s 16ms/step - loss: 30.9758 - mse: 1522.8527\n",
      "Epoch 81/100\n",
      "2/2 [==============================] - 0s 0s/step - loss: 13.3758 - mse: 249.7608\n",
      "Epoch 82/100\n",
      "2/2 [==============================] - 0s 0s/step - loss: 14.5355 - mse: 291.6204\n",
      "Epoch 83/100\n",
      "2/2 [==============================] - 0s 16ms/step - loss: 18.5626 - mse: 454.7779\n",
      "Epoch 84/100\n",
      "2/2 [==============================] - 0s 16ms/step - loss: 8.8256 - mse: 127.8495\n",
      "Epoch 85/100\n",
      "2/2 [==============================] - 0s 16ms/step - loss: 18.4428 - mse: 532.1298\n",
      "Epoch 86/100\n"
     ]
    },
    {
     "name": "stdout",
     "output_type": "stream",
     "text": [
      "2/2 [==============================] - 0s 16ms/step - loss: 22.4971 - mse: 723.9208\n",
      "Epoch 87/100\n",
      "2/2 [==============================] - 0s 0s/step - loss: 11.3647 - mse: 153.7038\n",
      "Epoch 88/100\n",
      "2/2 [==============================] - 0s 0s/step - loss: 26.5083 - mse: 1003.4268\n",
      "Epoch 89/100\n",
      "2/2 [==============================] - 0s 0s/step - loss: 9.6510 - mse: 130.2939\n",
      "Epoch 90/100\n",
      "2/2 [==============================] - 0s 7ms/step - loss: 18.6731 - mse: 499.9447\n",
      "Epoch 91/100\n",
      "2/2 [==============================] - 0s 16ms/step - loss: 10.4790 - mse: 165.1294\n",
      "Epoch 92/100\n",
      "2/2 [==============================] - 0s 0s/step - loss: 17.8972 - mse: 437.9637\n",
      "Epoch 93/100\n",
      "2/2 [==============================] - 0s 0s/step - loss: 6.5986 - mse: 62.5846\n",
      "Epoch 94/100\n",
      "2/2 [==============================] - 0s 0s/step - loss: 11.1236 - mse: 151.6828\n",
      "Epoch 95/100\n",
      "2/2 [==============================] - 0s 0s/step - loss: 24.2058 - mse: 878.3749\n",
      "Epoch 96/100\n",
      "2/2 [==============================] - 0s 7ms/step - loss: 10.7261 - mse: 173.9591\n",
      "Epoch 97/100\n",
      "2/2 [==============================] - 0s 16ms/step - loss: 15.2553 - mse: 352.1411\n",
      "Epoch 98/100\n",
      "2/2 [==============================] - 0s 0s/step - loss: 8.2533 - mse: 112.8576\n",
      "Epoch 99/100\n",
      "2/2 [==============================] - 0s 0s/step - loss: 16.0622 - mse: 361.5685\n",
      "Epoch 100/100\n",
      "2/2 [==============================] - 0s 0s/step - loss: 16.5700 - mse: 405.7806\n"
     ]
    },
    {
     "data": {
      "text/plain": [
       "<keras.src.callbacks.History at 0x277b80806d0>"
      ]
     },
     "execution_count": 302,
     "metadata": {},
     "output_type": "execute_result"
    }
   ],
   "source": [
    "# Set the random seed\n",
    "tf.random.set_seed(42)\n",
    "\n",
    "# 1. Create a model\n",
    "model_2 = tf.keras.Sequential([\n",
    "    tf.keras.layers.Dense(50, input_shape= [1], name=\"Input_layer\"),\n",
    "    tf.keras.layers.Dense(1, name='Output_layer')\n",
    "])\n",
    "\n",
    "# 2. Compile Model\n",
    "model_2.compile(loss=tf.keras.losses.mae,\n",
    "               optimizer = tf.keras.optimizers.SGD(),\n",
    "               metrics = [\"mse\"])\n",
    "\n",
    "# 3. fit model\n",
    "model_2.fit(X_train,y_train,epochs=100)"
   ]
  },
  {
   "cell_type": "code",
   "execution_count": 303,
   "id": "26ce833a",
   "metadata": {},
   "outputs": [
    {
     "name": "stdout",
     "output_type": "stream",
     "text": [
      "1/1 [==============================] - 0s 63ms/step\n"
     ]
    },
    {
     "data": {
      "image/png": "[encoded data removed]",
      "text/plain": [
       "<Figure size 1000x700 with 1 Axes>"
      ]
     },
     "metadata": {},
     "output_type": "display_data"
    }
   ],
   "source": [
    "# Predict\n",
    "y_preds_2 = model_2.predict(X_test)\n",
    "plot_predictions(predictions=y_preds_2)"
   ]
  },
  {
   "cell_type": "code",
   "execution_count": 304,
   "id": "9c8646c4",
   "metadata": {},
   "outputs": [
    {
     "data": {
      "text/plain": [
       "(<tf.Tensor: shape=(), dtype=float32, numpy=4.14581>,\n",
       " <tf.Tensor: shape=(), dtype=float32, numpy=20.5763>)"
      ]
     },
     "execution_count": 304,
     "metadata": {},
     "output_type": "execute_result"
    }
   ],
   "source": [
    "mae_2 = mae(y_test,y_preds_2)\n",
    "mse_2 = mse(y_test,y_preds_2)\n",
    "mae_2, mse_2"
   ]
  },
  {
   "cell_type": "markdown",
   "id": "2cb3cf7c",
   "metadata": {},
   "source": [
    "**Build 'model_3'**\n",
    "* 2 layers, trained for 500 epochs"
   ]
  },
  {
   "cell_type": "code",
   "execution_count": 310,
   "id": "4299af5d",
   "metadata": {},
   "outputs": [
    {
     "name": "stdout",
     "output_type": "stream",
     "text": [
      "Epoch 1/500\n",
      "2/2 [==============================] - 1s 16ms/step - loss: 24.7687 - mae: 24.7687\n",
      "Epoch 2/500\n",
      "2/2 [==============================] - 0s 0s/step - loss: 24.7652 - mae: 24.7652\n",
      "Epoch 3/500\n",
      "2/2 [==============================] - 0s 0s/step - loss: 29.5565 - mae: 29.5565\n",
      "Epoch 4/500\n",
      "2/2 [==============================] - 0s 16ms/step - loss: 15.4497 - mae: 15.4497\n",
      "Epoch 5/500\n",
      "2/2 [==============================] - 0s 16ms/step - loss: 22.3415 - mae: 22.3415\n",
      "Epoch 6/500\n",
      "2/2 [==============================] - 0s 10ms/step - loss: 11.5548 - mae: 11.5548\n",
      "Epoch 7/500\n",
      "2/2 [==============================] - 0s 10ms/step - loss: 12.6540 - mae: 12.6540\n",
      "Epoch 8/500\n",
      "2/2 [==============================] - 0s 10ms/step - loss: 11.1030 - mae: 11.1030\n",
      "Epoch 9/500\n",
      "2/2 [==============================] - 0s 10ms/step - loss: 40.1559 - mae: 40.1559\n",
      "Epoch 10/500\n",
      "2/2 [==============================] - 0s 8ms/step - loss: 27.5925 - mae: 27.5925\n",
      "Epoch 11/500\n",
      "2/2 [==============================] - 0s 10ms/step - loss: 10.2560 - mae: 10.2560\n",
      "Epoch 12/500\n",
      "2/2 [==============================] - 0s 10ms/step - loss: 25.4568 - mae: 25.4568\n",
      "Epoch 13/500\n",
      "2/2 [==============================] - 0s 10ms/step - loss: 16.8818 - mae: 16.8818\n",
      "Epoch 14/500\n",
      "2/2 [==============================] - 0s 20ms/step - loss: 25.7299 - mae: 25.7299\n",
      "Epoch 15/500\n",
      "2/2 [==============================] - 0s 10ms/step - loss: 17.5872 - mae: 17.5872\n",
      "Epoch 16/500\n",
      "2/2 [==============================] - 0s 0s/step - loss: 10.0501 - mae: 10.0501\n",
      "Epoch 17/500\n",
      "2/2 [==============================] - 0s 16ms/step - loss: 18.6027 - mae: 18.6027\n",
      "Epoch 18/500\n",
      "2/2 [==============================] - 0s 16ms/step - loss: 11.7546 - mae: 11.7546\n",
      "Epoch 19/500\n",
      "2/2 [==============================] - 0s 22ms/step - loss: 16.4307 - mae: 16.4307\n",
      "Epoch 20/500\n",
      "2/2 [==============================] - 0s 0s/step - loss: 8.2419 - mae: 8.2419\n",
      "Epoch 21/500\n",
      "2/2 [==============================] - 0s 16ms/step - loss: 14.4362 - mae: 14.4362\n",
      "Epoch 22/500\n",
      "2/2 [==============================] - 0s 16ms/step - loss: 12.8525 - mae: 12.8525\n",
      "Epoch 23/500\n",
      "2/2 [==============================] - 0s 22ms/step - loss: 15.4859 - mae: 15.4859\n",
      "Epoch 24/500\n",
      "2/2 [==============================] - 0s 16ms/step - loss: 15.2756 - mae: 15.2756\n",
      "Epoch 25/500\n",
      "2/2 [==============================] - 0s 16ms/step - loss: 14.3440 - mae: 14.3440\n",
      "Epoch 26/500\n",
      "2/2 [==============================] - 0s 16ms/step - loss: 19.3541 - mae: 19.3541\n",
      "Epoch 27/500\n",
      "2/2 [==============================] - 0s 16ms/step - loss: 11.4436 - mae: 11.4436\n",
      "Epoch 28/500\n",
      "2/2 [==============================] - 0s 16ms/step - loss: 29.0692 - mae: 29.0692\n",
      "Epoch 29/500\n",
      "2/2 [==============================] - 0s 16ms/step - loss: 9.2475 - mae: 9.2475\n",
      "Epoch 30/500\n",
      "2/2 [==============================] - 0s 0s/step - loss: 29.8131 - mae: 29.8131\n",
      "Epoch 31/500\n",
      "2/2 [==============================] - 0s 16ms/step - loss: 54.0937 - mae: 54.0937\n",
      "Epoch 32/500\n",
      "2/2 [==============================] - 0s 7ms/step - loss: 9.5616 - mae: 9.5616\n",
      "Epoch 33/500\n",
      "2/2 [==============================] - 0s 0s/step - loss: 12.1528 - mae: 12.1528\n",
      "Epoch 34/500\n",
      "2/2 [==============================] - 0s 16ms/step - loss: 23.8771 - mae: 23.8771\n",
      "Epoch 35/500\n",
      "2/2 [==============================] - 0s 16ms/step - loss: 12.6237 - mae: 12.6237\n",
      "Epoch 36/500\n",
      "2/2 [==============================] - 0s 22ms/step - loss: 21.5397 - mae: 21.5397\n",
      "Epoch 37/500\n",
      "2/2 [==============================] - 0s 16ms/step - loss: 11.3668 - mae: 11.3668\n",
      "Epoch 38/500\n",
      "2/2 [==============================] - 0s 0s/step - loss: 13.4472 - mae: 13.4472\n",
      "Epoch 39/500\n",
      "2/2 [==============================] - 0s 16ms/step - loss: 10.7803 - mae: 10.7803\n",
      "Epoch 40/500\n",
      "2/2 [==============================] - 0s 16ms/step - loss: 16.5802 - mae: 16.5802\n",
      "Epoch 41/500\n",
      "2/2 [==============================] - 0s 0s/step - loss: 10.9623 - mae: 10.9623\n",
      "Epoch 42/500\n",
      "2/2 [==============================] - 0s 16ms/step - loss: 9.2929 - mae: 9.2929\n",
      "Epoch 43/500\n",
      "2/2 [==============================] - 0s 0s/step - loss: 9.5887 - mae: 9.5887\n",
      "Epoch 44/500\n",
      "2/2 [==============================] - 0s 0s/step - loss: 27.9845 - mae: 27.9845\n",
      "Epoch 45/500\n",
      "2/2 [==============================] - 0s 16ms/step - loss: 11.2792 - mae: 11.2792\n",
      "Epoch 46/500\n",
      "2/2 [==============================] - 0s 10ms/step - loss: 14.0639 - mae: 14.0639\n",
      "Epoch 47/500\n",
      "2/2 [==============================] - 0s 10ms/step - loss: 13.5016 - mae: 13.5016\n",
      "Epoch 48/500\n",
      "2/2 [==============================] - 0s 10ms/step - loss: 17.3376 - mae: 17.3376\n",
      "Epoch 49/500\n",
      "2/2 [==============================] - 0s 8ms/step - loss: 9.5136 - mae: 9.5136\n",
      "Epoch 50/500\n",
      "2/2 [==============================] - 0s 2ms/step - loss: 13.7051 - mae: 13.7051\n",
      "Epoch 51/500\n",
      "2/2 [==============================] - 0s 18ms/step - loss: 11.5582 - mae: 11.5582\n",
      "Epoch 52/500\n",
      "2/2 [==============================] - 0s 2ms/step - loss: 30.2369 - mae: 30.2369\n",
      "Epoch 53/500\n",
      "2/2 [==============================] - 0s 10ms/step - loss: 13.7344 - mae: 13.7344\n",
      "Epoch 54/500\n",
      "2/2 [==============================] - 0s 10ms/step - loss: 26.4545 - mae: 26.4545\n",
      "Epoch 55/500\n",
      "2/2 [==============================] - 0s 10ms/step - loss: 26.0458 - mae: 26.0458\n",
      "Epoch 56/500\n",
      "2/2 [==============================] - 0s 20ms/step - loss: 11.2405 - mae: 11.2405\n",
      "Epoch 57/500\n",
      "2/2 [==============================] - 0s 10ms/step - loss: 13.2232 - mae: 13.2232\n",
      "Epoch 58/500\n",
      "2/2 [==============================] - 0s 16ms/step - loss: 9.8725 - mae: 9.8725\n",
      "Epoch 59/500\n",
      "2/2 [==============================] - 0s 0s/step - loss: 13.4216 - mae: 13.4216\n",
      "Epoch 60/500\n",
      "2/2 [==============================] - 0s 16ms/step - loss: 10.9408 - mae: 10.9408\n",
      "Epoch 61/500\n",
      "2/2 [==============================] - 0s 16ms/step - loss: 13.5712 - mae: 13.5712\n",
      "Epoch 62/500\n",
      "2/2 [==============================] - 0s 22ms/step - loss: 17.9125 - mae: 17.9125\n",
      "Epoch 63/500\n",
      "2/2 [==============================] - 0s 16ms/step - loss: 8.7408 - mae: 8.7408\n",
      "Epoch 64/500\n",
      "2/2 [==============================] - 0s 0s/step - loss: 16.1650 - mae: 16.1650\n",
      "Epoch 65/500\n",
      "2/2 [==============================] - 0s 16ms/step - loss: 10.7523 - mae: 10.7523\n",
      "Epoch 66/500\n",
      "2/2 [==============================] - 0s 16ms/step - loss: 22.2348 - mae: 22.2348\n",
      "Epoch 67/500\n",
      "2/2 [==============================] - 0s 22ms/step - loss: 10.2785 - mae: 10.2785\n",
      "Epoch 68/500\n",
      "2/2 [==============================] - 0s 16ms/step - loss: 13.4987 - mae: 13.4987\n",
      "Epoch 69/500\n",
      "2/2 [==============================] - 0s 16ms/step - loss: 11.4502 - mae: 11.4502\n",
      "Epoch 70/500\n",
      "2/2 [==============================] - 0s 0s/step - loss: 13.6386 - mae: 13.6386\n",
      "Epoch 71/500\n",
      "2/2 [==============================] - 0s 0s/step - loss: 15.6674 - mae: 15.6674\n",
      "Epoch 72/500\n",
      "2/2 [==============================] - 0s 16ms/step - loss: 11.8715 - mae: 11.8715\n",
      "Epoch 73/500\n",
      "2/2 [==============================] - 0s 0s/step - loss: 16.6660 - mae: 16.6660\n",
      "Epoch 74/500\n",
      "2/2 [==============================] - 0s 0s/step - loss: 24.2315 - mae: 24.2315\n",
      "Epoch 75/500\n",
      "2/2 [==============================] - 0s 0s/step - loss: 9.6510 - mae: 9.6510\n",
      "Epoch 76/500\n",
      "2/2 [==============================] - 0s 16ms/step - loss: 12.5081 - mae: 12.5081\n",
      "Epoch 77/500\n",
      "2/2 [==============================] - 0s 16ms/step - loss: 16.7823 - mae: 16.7823\n",
      "Epoch 78/500\n",
      "2/2 [==============================] - 0s 16ms/step - loss: 9.0912 - mae: 9.0912\n",
      "Epoch 79/500\n",
      "2/2 [==============================] - 0s 16ms/step - loss: 24.1247 - mae: 24.1247\n",
      "Epoch 80/500\n",
      "2/2 [==============================] - 0s 16ms/step - loss: 26.9370 - mae: 26.9370\n",
      "Epoch 81/500\n",
      "2/2 [==============================] - 0s 0s/step - loss: 11.7715 - mae: 11.7715\n",
      "Epoch 82/500\n",
      "2/2 [==============================] - 0s 16ms/step - loss: 11.9761 - mae: 11.9761\n",
      "Epoch 83/500\n",
      "2/2 [==============================] - 0s 16ms/step - loss: 17.3569 - mae: 17.3569\n",
      "Epoch 84/500\n",
      "2/2 [==============================] - 0s 16ms/step - loss: 6.8468 - mae: 6.8468\n",
      "Epoch 85/500\n",
      "2/2 [==============================] - 0s 16ms/step - loss: 16.0205 - mae: 16.0205\n",
      "Epoch 86/500\n",
      "2/2 [==============================] - 0s 0s/step - loss: 15.8648 - mae: 15.8648\n",
      "Epoch 87/500\n"
     ]
    },
    {
     "name": "stdout",
     "output_type": "stream",
     "text": [
      "2/2 [==============================] - 0s 16ms/step - loss: 20.3335 - mae: 20.3335\n",
      "Epoch 88/500\n",
      "2/2 [==============================] - 0s 16ms/step - loss: 34.0496 - mae: 34.0496\n",
      "Epoch 89/500\n",
      "2/2 [==============================] - 0s 16ms/step - loss: 10.6310 - mae: 10.6310\n",
      "Epoch 90/500\n",
      "2/2 [==============================] - 0s 16ms/step - loss: 23.5322 - mae: 23.5322\n",
      "Epoch 91/500\n",
      "2/2 [==============================] - 0s 16ms/step - loss: 11.1347 - mae: 11.1347\n",
      "Epoch 92/500\n",
      "2/2 [==============================] - 0s 0s/step - loss: 20.3920 - mae: 20.3920\n",
      "Epoch 93/500\n",
      "2/2 [==============================] - 0s 0s/step - loss: 6.5414 - mae: 6.5414\n",
      "Epoch 94/500\n",
      "2/2 [==============================] - 0s 0s/step - loss: 11.1685 - mae: 11.1685\n",
      "Epoch 95/500\n",
      "2/2 [==============================] - 0s 0s/step - loss: 24.6065 - mae: 24.6065\n",
      "Epoch 96/500\n",
      "2/2 [==============================] - 0s 16ms/step - loss: 10.7795 - mae: 10.7795\n",
      "Epoch 97/500\n",
      "2/2 [==============================] - 0s 16ms/step - loss: 15.5165 - mae: 15.5165\n",
      "Epoch 98/500\n",
      "2/2 [==============================] - 0s 0s/step - loss: 9.0516 - mae: 9.0516\n",
      "Epoch 99/500\n",
      "2/2 [==============================] - 0s 0s/step - loss: 10.8679 - mae: 10.8679\n",
      "Epoch 100/500\n",
      "2/2 [==============================] - 0s 0s/step - loss: 27.1439 - mae: 27.1439\n",
      "Epoch 101/500\n",
      "2/2 [==============================] - 0s 16ms/step - loss: 15.0944 - mae: 15.0944\n",
      "Epoch 102/500\n",
      "2/2 [==============================] - 0s 16ms/step - loss: 10.6498 - mae: 10.6498\n",
      "Epoch 103/500\n",
      "2/2 [==============================] - 0s 0s/step - loss: 9.1280 - mae: 9.1280\n",
      "Epoch 104/500\n",
      "2/2 [==============================] - 0s 7ms/step - loss: 23.5963 - mae: 23.5963\n",
      "Epoch 105/500\n",
      "2/2 [==============================] - 0s 0s/step - loss: 10.7539 - mae: 10.7539\n",
      "Epoch 106/500\n",
      "2/2 [==============================] - 0s 0s/step - loss: 11.2183 - mae: 11.2183\n",
      "Epoch 107/500\n",
      "2/2 [==============================] - 0s 16ms/step - loss: 21.1753 - mae: 21.1753\n",
      "Epoch 108/500\n",
      "2/2 [==============================] - 0s 16ms/step - loss: 6.3076 - mae: 6.3076\n",
      "Epoch 109/500\n",
      "2/2 [==============================] - 0s 7ms/step - loss: 10.5483 - mae: 10.5483\n",
      "Epoch 110/500\n",
      "2/2 [==============================] - 0s 0s/step - loss: 10.4995 - mae: 10.4995\n",
      "Epoch 111/500\n",
      "2/2 [==============================] - 0s 16ms/step - loss: 16.6551 - mae: 16.6551\n",
      "Epoch 112/500\n",
      "2/2 [==============================] - 0s 16ms/step - loss: 9.4893 - mae: 9.4893\n",
      "Epoch 113/500\n",
      "2/2 [==============================] - 0s 0s/step - loss: 17.5551 - mae: 17.5551\n",
      "Epoch 114/500\n",
      "2/2 [==============================] - 0s 0s/step - loss: 16.9234 - mae: 16.9234\n",
      "Epoch 115/500\n",
      "2/2 [==============================] - 0s 16ms/step - loss: 11.0276 - mae: 11.0276\n",
      "Epoch 116/500\n",
      "2/2 [==============================] - 0s 16ms/step - loss: 22.9758 - mae: 22.9758\n",
      "Epoch 117/500\n",
      "2/2 [==============================] - 0s 0s/step - loss: 9.5096 - mae: 9.5096\n",
      "Epoch 118/500\n",
      "2/2 [==============================] - 0s 16ms/step - loss: 10.5700 - mae: 10.5700\n",
      "Epoch 119/500\n",
      "2/2 [==============================] - 0s 0s/step - loss: 8.0156 - mae: 8.0156\n",
      "Epoch 120/500\n",
      "2/2 [==============================] - 0s 0s/step - loss: 29.3032 - mae: 29.3032\n",
      "Epoch 121/500\n",
      "2/2 [==============================] - 0s 16ms/step - loss: 8.0555 - mae: 8.0555\n",
      "Epoch 122/500\n",
      "2/2 [==============================] - 0s 16ms/step - loss: 27.9996 - mae: 27.9996\n",
      "Epoch 123/500\n",
      "2/2 [==============================] - 0s 16ms/step - loss: 32.5203 - mae: 32.5203\n",
      "Epoch 124/500\n",
      "2/2 [==============================] - 0s 0s/step - loss: 19.3444 - mae: 19.3444\n",
      "Epoch 125/500\n",
      "2/2 [==============================] - 0s 0s/step - loss: 9.5010 - mae: 9.5010\n",
      "Epoch 126/500\n",
      "2/2 [==============================] - 0s 16ms/step - loss: 9.5798 - mae: 9.5798\n",
      "Epoch 127/500\n",
      "2/2 [==============================] - 0s 16ms/step - loss: 12.7211 - mae: 12.7211\n",
      "Epoch 128/500\n",
      "2/2 [==============================] - 0s 0s/step - loss: 12.8098 - mae: 12.8098\n",
      "Epoch 129/500\n",
      "2/2 [==============================] - 0s 0s/step - loss: 13.9582 - mae: 13.9582\n",
      "Epoch 130/500\n",
      "2/2 [==============================] - 0s 16ms/step - loss: 10.2237 - mae: 10.2237\n",
      "Epoch 131/500\n",
      "2/2 [==============================] - 0s 16ms/step - loss: 21.7462 - mae: 21.7462\n",
      "Epoch 132/500\n",
      "2/2 [==============================] - 0s 0s/step - loss: 8.2709 - mae: 8.2709\n",
      "Epoch 133/500\n",
      "2/2 [==============================] - 0s 0s/step - loss: 9.0521 - mae: 9.0521\n",
      "Epoch 134/500\n",
      "2/2 [==============================] - 0s 0s/step - loss: 16.9383 - mae: 16.9383\n",
      "Epoch 135/500\n",
      "2/2 [==============================] - 0s 16ms/step - loss: 10.6547 - mae: 10.6547\n",
      "Epoch 136/500\n",
      "2/2 [==============================] - 0s 16ms/step - loss: 18.5570 - mae: 18.5570\n",
      "Epoch 137/500\n",
      "2/2 [==============================] - 0s 16ms/step - loss: 23.5718 - mae: 23.5718\n",
      "Epoch 138/500\n",
      "2/2 [==============================] - 0s 0s/step - loss: 9.2960 - mae: 9.2960\n",
      "Epoch 139/500\n",
      "2/2 [==============================] - 0s 0s/step - loss: 9.0192 - mae: 9.0192\n",
      "Epoch 140/500\n",
      "2/2 [==============================] - 0s 16ms/step - loss: 17.0421 - mae: 17.0421\n",
      "Epoch 141/500\n",
      "2/2 [==============================] - 0s 16ms/step - loss: 8.3070 - mae: 8.3070\n",
      "Epoch 142/500\n",
      "2/2 [==============================] - 0s 0s/step - loss: 34.1952 - mae: 34.1952\n",
      "Epoch 143/500\n",
      "2/2 [==============================] - 0s 16ms/step - loss: 23.2082 - mae: 23.2082\n",
      "Epoch 144/500\n",
      "2/2 [==============================] - 0s 16ms/step - loss: 10.4590 - mae: 10.4590\n",
      "Epoch 145/500\n",
      "2/2 [==============================] - 0s 0s/step - loss: 25.8553 - mae: 25.8553\n",
      "Epoch 146/500\n",
      "2/2 [==============================] - 0s 16ms/step - loss: 9.8746 - mae: 9.8746\n",
      "Epoch 147/500\n",
      "2/2 [==============================] - 0s 0s/step - loss: 14.9921 - mae: 14.9921\n",
      "Epoch 148/500\n",
      "2/2 [==============================] - 0s 9ms/step - loss: 17.4270 - mae: 17.4270\n",
      "Epoch 149/500\n",
      "2/2 [==============================] - 0s 20ms/step - loss: 8.7839 - mae: 8.7839\n",
      "Epoch 150/500\n",
      "2/2 [==============================] - 0s 10ms/step - loss: 7.7308 - mae: 7.7308\n",
      "Epoch 151/500\n",
      "2/2 [==============================] - 0s 10ms/step - loss: 19.9848 - mae: 19.9848\n",
      "Epoch 152/500\n",
      "2/2 [==============================] - 0s 10ms/step - loss: 10.2492 - mae: 10.2492\n",
      "Epoch 153/500\n",
      "2/2 [==============================] - 0s 10ms/step - loss: 29.4149 - mae: 29.4149\n",
      "Epoch 154/500\n",
      "2/2 [==============================] - 0s 10ms/step - loss: 10.5974 - mae: 10.5974\n",
      "Epoch 155/500\n",
      "2/2 [==============================] - 0s 10ms/step - loss: 15.4918 - mae: 15.4918\n",
      "Epoch 156/500\n",
      "2/2 [==============================] - 0s 10ms/step - loss: 17.1015 - mae: 17.1015\n",
      "Epoch 157/500\n",
      "2/2 [==============================] - 0s 2ms/step - loss: 32.5995 - mae: 32.5995\n",
      "Epoch 158/500\n",
      "2/2 [==============================] - 0s 8ms/step - loss: 10.6366 - mae: 10.6366\n",
      "Epoch 159/500\n",
      "2/2 [==============================] - 0s 18ms/step - loss: 8.8749 - mae: 8.8749\n",
      "Epoch 160/500\n",
      "2/2 [==============================] - 0s 10ms/step - loss: 21.9813 - mae: 21.9813\n",
      "Epoch 161/500\n",
      "2/2 [==============================] - 0s 10ms/step - loss: 11.6519 - mae: 11.6519\n",
      "Epoch 162/500\n",
      "2/2 [==============================] - 0s 10ms/step - loss: 21.4374 - mae: 21.4374\n",
      "Epoch 163/500\n",
      "2/2 [==============================] - 0s 10ms/step - loss: 19.1199 - mae: 19.1199\n",
      "Epoch 164/500\n",
      "2/2 [==============================] - 0s 2ms/step - loss: 10.9359 - mae: 10.9359\n",
      "Epoch 165/500\n",
      "2/2 [==============================] - 0s 10ms/step - loss: 9.6407 - mae: 9.6407\n",
      "Epoch 166/500\n",
      "2/2 [==============================] - 0s 8ms/step - loss: 21.6541 - mae: 21.6541\n",
      "Epoch 167/500\n",
      "2/2 [==============================] - 0s 10ms/step - loss: 26.1224 - mae: 26.1224\n",
      "Epoch 168/500\n",
      "2/2 [==============================] - 0s 8ms/step - loss: 9.8213 - mae: 9.8213\n",
      "Epoch 169/500\n",
      "2/2 [==============================] - 0s 12ms/step - loss: 22.4065 - mae: 22.4065\n",
      "Epoch 170/500\n",
      "2/2 [==============================] - 0s 10ms/step - loss: 10.1752 - mae: 10.1752\n",
      "Epoch 171/500\n",
      "2/2 [==============================] - 0s 8ms/step - loss: 18.1115 - mae: 18.1115\n",
      "Epoch 172/500\n"
     ]
    },
    {
     "name": "stdout",
     "output_type": "stream",
     "text": [
      "2/2 [==============================] - 0s 8ms/step - loss: 28.6799 - mae: 28.6799\n",
      "Epoch 173/500\n",
      "2/2 [==============================] - 0s 18ms/step - loss: 16.4032 - mae: 16.4032\n",
      "Epoch 174/500\n",
      "2/2 [==============================] - 0s 10ms/step - loss: 11.7318 - mae: 11.7318\n",
      "Epoch 175/500\n",
      "2/2 [==============================] - 0s 10ms/step - loss: 27.1755 - mae: 27.1755\n",
      "Epoch 176/500\n",
      "2/2 [==============================] - 0s 16ms/step - loss: 8.7379 - mae: 8.7379\n",
      "Epoch 177/500\n",
      "2/2 [==============================] - 0s 0s/step - loss: 8.7577 - mae: 8.7577\n",
      "Epoch 178/500\n",
      "2/2 [==============================] - 0s 0s/step - loss: 16.1987 - mae: 16.1987\n",
      "Epoch 179/500\n",
      "2/2 [==============================] - 0s 16ms/step - loss: 10.3964 - mae: 10.3964\n",
      "Epoch 180/500\n",
      "2/2 [==============================] - 0s 22ms/step - loss: 7.9806 - mae: 7.9806\n",
      "Epoch 181/500\n",
      "2/2 [==============================] - 0s 16ms/step - loss: 17.7842 - mae: 17.7842\n",
      "Epoch 182/500\n",
      "2/2 [==============================] - 0s 0s/step - loss: 11.1864 - mae: 11.1864\n",
      "Epoch 183/500\n",
      "2/2 [==============================] - 0s 16ms/step - loss: 12.4078 - mae: 12.4078\n",
      "Epoch 184/500\n",
      "2/2 [==============================] - 0s 16ms/step - loss: 27.4188 - mae: 27.4188\n",
      "Epoch 185/500\n",
      "2/2 [==============================] - 0s 7ms/step - loss: 7.5449 - mae: 7.5449\n",
      "Epoch 186/500\n",
      "2/2 [==============================] - 0s 16ms/step - loss: 15.9217 - mae: 15.9217\n",
      "Epoch 187/500\n",
      "2/2 [==============================] - 0s 0s/step - loss: 8.5853 - mae: 8.5853\n",
      "Epoch 188/500\n",
      "2/2 [==============================] - 0s 16ms/step - loss: 28.9527 - mae: 28.9527\n",
      "Epoch 189/500\n",
      "2/2 [==============================] - 0s 16ms/step - loss: 13.1250 - mae: 13.1250\n",
      "Epoch 190/500\n",
      "2/2 [==============================] - 0s 7ms/step - loss: 18.2612 - mae: 18.2612\n",
      "Epoch 191/500\n",
      "2/2 [==============================] - 0s 16ms/step - loss: 13.6796 - mae: 13.6796\n",
      "Epoch 192/500\n",
      "2/2 [==============================] - 0s 0s/step - loss: 13.6897 - mae: 13.6897\n",
      "Epoch 193/500\n",
      "2/2 [==============================] - 0s 16ms/step - loss: 28.5342 - mae: 28.5342\n",
      "Epoch 194/500\n",
      "2/2 [==============================] - 0s 16ms/step - loss: 7.1314 - mae: 7.1314\n",
      "Epoch 195/500\n",
      "2/2 [==============================] - 0s 7ms/step - loss: 7.0567 - mae: 7.0567\n",
      "Epoch 196/500\n",
      "2/2 [==============================] - 0s 0s/step - loss: 21.9322 - mae: 21.9322\n",
      "Epoch 197/500\n",
      "2/2 [==============================] - 0s 16ms/step - loss: 20.9996 - mae: 20.9996\n",
      "Epoch 198/500\n",
      "2/2 [==============================] - 0s 16ms/step - loss: 12.5636 - mae: 12.5636\n",
      "Epoch 199/500\n",
      "2/2 [==============================] - 0s 0s/step - loss: 18.0450 - mae: 18.0450\n",
      "Epoch 200/500\n",
      "2/2 [==============================] - 0s 0s/step - loss: 13.8760 - mae: 13.8760\n",
      "Epoch 201/500\n",
      "2/2 [==============================] - 0s 16ms/step - loss: 6.0355 - mae: 6.0355\n",
      "Epoch 202/500\n",
      "2/2 [==============================] - 0s 16ms/step - loss: 22.9141 - mae: 22.9141\n",
      "Epoch 203/500\n",
      "2/2 [==============================] - 0s 0s/step - loss: 8.9628 - mae: 8.9628\n",
      "Epoch 204/500\n",
      "2/2 [==============================] - 0s 0s/step - loss: 18.8857 - mae: 18.8857\n",
      "Epoch 205/500\n",
      "2/2 [==============================] - 0s 7ms/step - loss: 9.3769 - mae: 9.3769\n",
      "Epoch 206/500\n",
      "2/2 [==============================] - 0s 0s/step - loss: 10.4421 - mae: 10.4421\n",
      "Epoch 207/500\n",
      "2/2 [==============================] - 0s 16ms/step - loss: 21.1736 - mae: 21.1736\n",
      "Epoch 208/500\n",
      "2/2 [==============================] - 0s 0s/step - loss: 16.5197 - mae: 16.5197\n",
      "Epoch 209/500\n",
      "2/2 [==============================] - 0s 16ms/step - loss: 14.4205 - mae: 14.4205\n",
      "Epoch 210/500\n",
      "2/2 [==============================] - 0s 16ms/step - loss: 19.4531 - mae: 19.4531\n",
      "Epoch 211/500\n",
      "2/2 [==============================] - 0s 16ms/step - loss: 10.3261 - mae: 10.3261\n",
      "Epoch 212/500\n",
      "2/2 [==============================] - 0s 16ms/step - loss: 20.2606 - mae: 20.2606\n",
      "Epoch 213/500\n",
      "2/2 [==============================] - 0s 0s/step - loss: 15.0395 - mae: 15.0395\n",
      "Epoch 214/500\n",
      "2/2 [==============================] - 0s 0s/step - loss: 14.5888 - mae: 14.5888\n",
      "Epoch 215/500\n",
      "2/2 [==============================] - 0s 7ms/step - loss: 23.2973 - mae: 23.2973\n",
      "Epoch 216/500\n",
      "2/2 [==============================] - 0s 0s/step - loss: 13.3723 - mae: 13.3723\n",
      "Epoch 217/500\n",
      "2/2 [==============================] - 0s 0s/step - loss: 9.8722 - mae: 9.8722\n",
      "Epoch 218/500\n",
      "2/2 [==============================] - 0s 16ms/step - loss: 12.5460 - mae: 12.5460\n",
      "Epoch 219/500\n",
      "2/2 [==============================] - 0s 16ms/step - loss: 4.9618 - mae: 4.9618\n",
      "Epoch 220/500\n",
      "2/2 [==============================] - 0s 7ms/step - loss: 7.1271 - mae: 7.1271\n",
      "Epoch 221/500\n",
      "2/2 [==============================] - 0s 0s/step - loss: 35.4569 - mae: 35.4569\n",
      "Epoch 222/500\n",
      "2/2 [==============================] - 0s 0s/step - loss: 34.8616 - mae: 34.8616\n",
      "Epoch 223/500\n",
      "2/2 [==============================] - 0s 0s/step - loss: 7.9875 - mae: 7.9875\n",
      "Epoch 224/500\n",
      "2/2 [==============================] - 0s 16ms/step - loss: 14.7046 - mae: 14.7046\n",
      "Epoch 225/500\n",
      "2/2 [==============================] - 0s 16ms/step - loss: 16.7256 - mae: 16.7256\n",
      "Epoch 226/500\n",
      "2/2 [==============================] - 0s 0s/step - loss: 15.9382 - mae: 15.9382\n",
      "Epoch 227/500\n",
      "2/2 [==============================] - 0s 16ms/step - loss: 16.1691 - mae: 16.1691\n",
      "Epoch 228/500\n",
      "2/2 [==============================] - 0s 16ms/step - loss: 9.3263 - mae: 9.3263\n",
      "Epoch 229/500\n",
      "2/2 [==============================] - 0s 16ms/step - loss: 17.9907 - mae: 17.9907\n",
      "Epoch 230/500\n",
      "2/2 [==============================] - 0s 16ms/step - loss: 15.5697 - mae: 15.5697\n",
      "Epoch 231/500\n",
      "2/2 [==============================] - 0s 7ms/step - loss: 21.1085 - mae: 21.1085\n",
      "Epoch 232/500\n",
      "2/2 [==============================] - 0s 16ms/step - loss: 25.5032 - mae: 25.5032\n",
      "Epoch 233/500\n",
      "2/2 [==============================] - 0s 16ms/step - loss: 16.4985 - mae: 16.4985\n",
      "Epoch 234/500\n",
      "2/2 [==============================] - 0s 0s/step - loss: 7.3274 - mae: 7.3274\n",
      "Epoch 235/500\n",
      "2/2 [==============================] - 0s 0s/step - loss: 17.1502 - mae: 17.1502\n",
      "Epoch 236/500\n",
      "2/2 [==============================] - 0s 0s/step - loss: 7.1953 - mae: 7.1953\n",
      "Epoch 237/500\n",
      "2/2 [==============================] - 0s 0s/step - loss: 9.3028 - mae: 9.3028\n",
      "Epoch 238/500\n",
      "2/2 [==============================] - 0s 0s/step - loss: 8.1542 - mae: 8.1542\n",
      "Epoch 239/500\n",
      "2/2 [==============================] - 0s 16ms/step - loss: 17.2302 - mae: 17.2302\n",
      "Epoch 240/500\n",
      "2/2 [==============================] - 0s 16ms/step - loss: 8.9425 - mae: 8.9425\n",
      "Epoch 241/500\n",
      "2/2 [==============================] - 0s 0s/step - loss: 13.3040 - mae: 13.3040\n",
      "Epoch 242/500\n",
      "2/2 [==============================] - 0s 7ms/step - loss: 8.8505 - mae: 8.8505\n",
      "Epoch 243/500\n",
      "2/2 [==============================] - 0s 0s/step - loss: 19.1089 - mae: 19.1089\n",
      "Epoch 244/500\n",
      "2/2 [==============================] - 0s 16ms/step - loss: 13.9434 - mae: 13.9434\n",
      "Epoch 245/500\n",
      "2/2 [==============================] - 0s 16ms/step - loss: 14.5852 - mae: 14.5852\n",
      "Epoch 246/500\n",
      "2/2 [==============================] - 0s 16ms/step - loss: 15.7200 - mae: 15.7200\n",
      "Epoch 247/500\n",
      "2/2 [==============================] - 0s 9ms/step - loss: 17.5680 - mae: 17.5680\n",
      "Epoch 248/500\n",
      "2/2 [==============================] - 0s 10ms/step - loss: 13.1311 - mae: 13.1311\n",
      "Epoch 249/500\n",
      "2/2 [==============================] - 0s 10ms/step - loss: 14.4470 - mae: 14.4470\n",
      "Epoch 250/500\n",
      "2/2 [==============================] - 0s 10ms/step - loss: 27.8652 - mae: 27.8652\n",
      "Epoch 251/500\n",
      "2/2 [==============================] - 0s 10ms/step - loss: 7.5041 - mae: 7.5041\n",
      "Epoch 252/500\n",
      "2/2 [==============================] - 0s 8ms/step - loss: 37.9898 - mae: 37.9898\n",
      "Epoch 253/500\n",
      "2/2 [==============================] - 0s 10ms/step - loss: 22.8352 - mae: 22.8352\n",
      "Epoch 254/500\n",
      "2/2 [==============================] - 0s 10ms/step - loss: 7.4311 - mae: 7.4311\n",
      "Epoch 255/500\n",
      "2/2 [==============================] - 0s 2ms/step - loss: 25.7273 - mae: 25.7273\n",
      "Epoch 256/500\n",
      "2/2 [==============================] - 0s 2ms/step - loss: 13.6784 - mae: 13.6784\n",
      "Epoch 257/500\n"
     ]
    },
    {
     "name": "stdout",
     "output_type": "stream",
     "text": [
      "2/2 [==============================] - 0s 10ms/step - loss: 8.3228 - mae: 8.3228\n",
      "Epoch 258/500\n",
      "2/2 [==============================] - 0s 10ms/step - loss: 13.1832 - mae: 13.1832\n",
      "Epoch 259/500\n",
      "2/2 [==============================] - 0s 8ms/step - loss: 9.5154 - mae: 9.5154\n",
      "Epoch 260/500\n",
      "2/2 [==============================] - 0s 0s/step - loss: 38.4188 - mae: 38.4188\n",
      "Epoch 261/500\n",
      "2/2 [==============================] - 0s 0s/step - loss: 15.4995 - mae: 15.4995\n",
      "Epoch 262/500\n",
      "2/2 [==============================] - 0s 16ms/step - loss: 5.7792 - mae: 5.7792\n",
      "Epoch 263/500\n",
      "2/2 [==============================] - 0s 16ms/step - loss: 14.6022 - mae: 14.6022\n",
      "Epoch 264/500\n",
      "2/2 [==============================] - 0s 16ms/step - loss: 18.7598 - mae: 18.7598\n",
      "Epoch 265/500\n",
      "2/2 [==============================] - 0s 7ms/step - loss: 13.0697 - mae: 13.0697\n",
      "Epoch 266/500\n",
      "2/2 [==============================] - 0s 16ms/step - loss: 10.5407 - mae: 10.5407\n",
      "Epoch 267/500\n",
      "2/2 [==============================] - 0s 16ms/step - loss: 6.4860 - mae: 6.4860\n",
      "Epoch 268/500\n",
      "2/2 [==============================] - 0s 0s/step - loss: 23.1104 - mae: 23.1104\n",
      "Epoch 269/500\n",
      "2/2 [==============================] - 0s 0s/step - loss: 26.6662 - mae: 26.6662\n",
      "Epoch 270/500\n",
      "2/2 [==============================] - 0s 0s/step - loss: 7.5549 - mae: 7.5549\n",
      "Epoch 271/500\n",
      "2/2 [==============================] - 0s 7ms/step - loss: 12.6642 - mae: 12.6642\n",
      "Epoch 272/500\n",
      "2/2 [==============================] - 0s 0s/step - loss: 25.9380 - mae: 25.9380\n",
      "Epoch 273/500\n",
      "2/2 [==============================] - 0s 0s/step - loss: 12.8095 - mae: 12.8095\n",
      "Epoch 274/500\n",
      "2/2 [==============================] - 0s 0s/step - loss: 13.9467 - mae: 13.9467\n",
      "Epoch 275/500\n",
      "2/2 [==============================] - 0s 0s/step - loss: 29.7571 - mae: 29.7571\n",
      "Epoch 276/500\n",
      "2/2 [==============================] - 0s 16ms/step - loss: 9.5713 - mae: 9.5713\n",
      "Epoch 277/500\n",
      "2/2 [==============================] - 0s 0s/step - loss: 29.9429 - mae: 29.9429\n",
      "Epoch 278/500\n",
      "2/2 [==============================] - 0s 0s/step - loss: 10.4537 - mae: 10.4537\n",
      "Epoch 279/500\n",
      "2/2 [==============================] - 0s 16ms/step - loss: 15.9157 - mae: 15.9157\n",
      "Epoch 280/500\n",
      "2/2 [==============================] - 0s 16ms/step - loss: 20.8315 - mae: 20.8315\n",
      "Epoch 281/500\n",
      "2/2 [==============================] - 0s 16ms/step - loss: 18.6915 - mae: 18.6915\n",
      "Epoch 282/500\n",
      "2/2 [==============================] - 0s 16ms/step - loss: 7.0900 - mae: 7.0900\n",
      "Epoch 283/500\n",
      "2/2 [==============================] - 0s 0s/step - loss: 8.2111 - mae: 8.2111\n",
      "Epoch 284/500\n",
      "2/2 [==============================] - 0s 0s/step - loss: 25.2655 - mae: 25.2655\n",
      "Epoch 285/500\n",
      "2/2 [==============================] - 0s 16ms/step - loss: 13.9435 - mae: 13.9435\n",
      "Epoch 286/500\n",
      "2/2 [==============================] - 0s 16ms/step - loss: 6.9048 - mae: 6.9048\n",
      "Epoch 287/500\n",
      "2/2 [==============================] - 0s 16ms/step - loss: 24.4195 - mae: 24.4195\n",
      "Epoch 288/500\n",
      "2/2 [==============================] - 0s 16ms/step - loss: 20.4973 - mae: 20.4973\n",
      "Epoch 289/500\n",
      "2/2 [==============================] - 0s 16ms/step - loss: 11.8773 - mae: 11.8773\n",
      "Epoch 290/500\n",
      "2/2 [==============================] - 0s 16ms/step - loss: 16.4578 - mae: 16.4578\n",
      "Epoch 291/500\n",
      "2/2 [==============================] - 0s 0s/step - loss: 16.6930 - mae: 16.6930\n",
      "Epoch 292/500\n",
      "2/2 [==============================] - 0s 0s/step - loss: 8.8096 - mae: 8.8096\n",
      "Epoch 293/500\n",
      "2/2 [==============================] - 0s 0s/step - loss: 15.6673 - mae: 15.6673\n",
      "Epoch 294/500\n",
      "2/2 [==============================] - 0s 7ms/step - loss: 23.5163 - mae: 23.5163\n",
      "Epoch 295/500\n",
      "2/2 [==============================] - 0s 0s/step - loss: 16.1590 - mae: 16.1590\n",
      "Epoch 296/500\n",
      "2/2 [==============================] - 0s 16ms/step - loss: 4.9258 - mae: 4.9258\n",
      "Epoch 297/500\n",
      "2/2 [==============================] - 0s 16ms/step - loss: 11.0220 - mae: 11.0220\n",
      "Epoch 298/500\n",
      "2/2 [==============================] - 0s 0s/step - loss: 23.3365 - mae: 23.3365\n",
      "Epoch 299/500\n",
      "2/2 [==============================] - 0s 7ms/step - loss: 17.3575 - mae: 17.3575\n",
      "Epoch 300/500\n",
      "2/2 [==============================] - 0s 0s/step - loss: 6.9160 - mae: 6.9160\n",
      "Epoch 301/500\n",
      "2/2 [==============================] - 0s 0s/step - loss: 24.7419 - mae: 24.7419\n",
      "Epoch 302/500\n",
      "2/2 [==============================] - 0s 16ms/step - loss: 8.2270 - mae: 8.2270\n",
      "Epoch 303/500\n",
      "2/2 [==============================] - 0s 16ms/step - loss: 21.1598 - mae: 21.1598\n",
      "Epoch 304/500\n",
      "2/2 [==============================] - 0s 22ms/step - loss: 13.7217 - mae: 13.7217\n",
      "Epoch 305/500\n",
      "2/2 [==============================] - 0s 16ms/step - loss: 7.0871 - mae: 7.0871\n",
      "Epoch 306/500\n",
      "2/2 [==============================] - 0s 16ms/step - loss: 19.2903 - mae: 19.2903\n",
      "Epoch 307/500\n",
      "2/2 [==============================] - 0s 0s/step - loss: 8.9968 - mae: 8.9968\n",
      "Epoch 308/500\n",
      "2/2 [==============================] - 0s 0s/step - loss: 20.5965 - mae: 20.5965\n",
      "Epoch 309/500\n",
      "2/2 [==============================] - 0s 16ms/step - loss: 13.5787 - mae: 13.5787\n",
      "Epoch 310/500\n",
      "2/2 [==============================] - 0s 16ms/step - loss: 6.6772 - mae: 6.6772\n",
      "Epoch 311/500\n",
      "2/2 [==============================] - 0s 16ms/step - loss: 13.6676 - mae: 13.6676\n",
      "Epoch 312/500\n",
      "2/2 [==============================] - 0s 0s/step - loss: 30.0211 - mae: 30.0211\n",
      "Epoch 313/500\n",
      "2/2 [==============================] - 0s 16ms/step - loss: 7.5524 - mae: 7.5524\n",
      "Epoch 314/500\n",
      "2/2 [==============================] - 0s 7ms/step - loss: 9.9641 - mae: 9.9641\n",
      "Epoch 315/500\n",
      "2/2 [==============================] - 0s 16ms/step - loss: 23.8710 - mae: 23.8710\n",
      "Epoch 316/500\n",
      "2/2 [==============================] - 0s 0s/step - loss: 16.1886 - mae: 16.1886\n",
      "Epoch 317/500\n",
      "2/2 [==============================] - 0s 16ms/step - loss: 20.6900 - mae: 20.6900\n",
      "Epoch 318/500\n",
      "2/2 [==============================] - 0s 0s/step - loss: 8.7411 - mae: 8.7411\n",
      "Epoch 319/500\n",
      "2/2 [==============================] - 0s 7ms/step - loss: 15.2892 - mae: 15.2892\n",
      "Epoch 320/500\n",
      "2/2 [==============================] - 0s 16ms/step - loss: 8.3690 - mae: 8.3690\n",
      "Epoch 321/500\n",
      "2/2 [==============================] - 0s 16ms/step - loss: 14.7109 - mae: 14.7109\n",
      "Epoch 322/500\n",
      "2/2 [==============================] - 0s 16ms/step - loss: 12.8070 - mae: 12.8070\n",
      "Epoch 323/500\n",
      "2/2 [==============================] - 0s 16ms/step - loss: 19.0753 - mae: 19.0753\n",
      "Epoch 324/500\n",
      "2/2 [==============================] - 0s 16ms/step - loss: 17.0594 - mae: 17.0594\n",
      "Epoch 325/500\n",
      "2/2 [==============================] - 0s 16ms/step - loss: 9.2900 - mae: 9.2900\n",
      "Epoch 326/500\n",
      "2/2 [==============================] - 0s 16ms/step - loss: 19.9089 - mae: 19.9089\n",
      "Epoch 327/500\n",
      "2/2 [==============================] - 0s 0s/step - loss: 28.1670 - mae: 28.1670\n",
      "Epoch 328/500\n",
      "2/2 [==============================] - 0s 0s/step - loss: 11.6963 - mae: 11.6963\n",
      "Epoch 329/500\n",
      "2/2 [==============================] - 0s 0s/step - loss: 16.3714 - mae: 16.3714\n",
      "Epoch 330/500\n",
      "2/2 [==============================] - 0s 16ms/step - loss: 7.3352 - mae: 7.3352\n",
      "Epoch 331/500\n",
      "2/2 [==============================] - 0s 0s/step - loss: 22.6023 - mae: 22.6023\n",
      "Epoch 332/500\n",
      "2/2 [==============================] - 0s 0s/step - loss: 13.3764 - mae: 13.3764\n",
      "Epoch 333/500\n",
      "2/2 [==============================] - 0s 16ms/step - loss: 10.1941 - mae: 10.1941\n",
      "Epoch 334/500\n",
      "2/2 [==============================] - 0s 16ms/step - loss: 6.6431 - mae: 6.6431\n",
      "Epoch 335/500\n",
      "2/2 [==============================] - 0s 16ms/step - loss: 6.2748 - mae: 6.2748\n",
      "Epoch 336/500\n",
      "2/2 [==============================] - 0s 16ms/step - loss: 34.5666 - mae: 34.5666\n",
      "Epoch 337/500\n",
      "2/2 [==============================] - 0s 0s/step - loss: 26.9958 - mae: 26.9958\n",
      "Epoch 338/500\n",
      "2/2 [==============================] - 0s 16ms/step - loss: 14.0302 - mae: 14.0302\n",
      "Epoch 339/500\n",
      "2/2 [==============================] - 0s 16ms/step - loss: 11.5778 - mae: 11.5778\n",
      "Epoch 340/500\n",
      "2/2 [==============================] - 0s 0s/step - loss: 8.8252 - mae: 8.8252\n",
      "Epoch 341/500\n",
      "2/2 [==============================] - 0s 16ms/step - loss: 23.4458 - mae: 23.4458\n",
      "Epoch 342/500\n"
     ]
    },
    {
     "name": "stdout",
     "output_type": "stream",
     "text": [
      "2/2 [==============================] - 0s 16ms/step - loss: 13.9396 - mae: 13.9396\n",
      "Epoch 343/500\n",
      "2/2 [==============================] - 0s 16ms/step - loss: 14.8125 - mae: 14.8125\n",
      "Epoch 344/500\n",
      "2/2 [==============================] - 0s 16ms/step - loss: 13.3917 - mae: 13.3917\n",
      "Epoch 345/500\n",
      "2/2 [==============================] - 0s 0s/step - loss: 31.0150 - mae: 31.0150\n",
      "Epoch 346/500\n",
      "2/2 [==============================] - 0s 16ms/step - loss: 10.7013 - mae: 10.7013\n",
      "Epoch 347/500\n",
      "2/2 [==============================] - 0s 22ms/step - loss: 25.7142 - mae: 25.7142\n",
      "Epoch 348/500\n",
      "2/2 [==============================] - 0s 16ms/step - loss: 12.9243 - mae: 12.9243\n",
      "Epoch 349/500\n",
      "2/2 [==============================] - 0s 16ms/step - loss: 13.1544 - mae: 13.1544\n",
      "Epoch 350/500\n",
      "2/2 [==============================] - 0s 0s/step - loss: 15.4397 - mae: 15.4397\n",
      "Epoch 351/500\n",
      "2/2 [==============================] - 0s 16ms/step - loss: 32.9505 - mae: 32.9505\n",
      "Epoch 352/500\n",
      "2/2 [==============================] - 0s 22ms/step - loss: 14.1944 - mae: 14.1944\n",
      "Epoch 353/500\n",
      "2/2 [==============================] - 0s 16ms/step - loss: 15.9118 - mae: 15.9118\n",
      "Epoch 354/500\n",
      "2/2 [==============================] - 0s 16ms/step - loss: 19.0686 - mae: 19.0686\n",
      "Epoch 355/500\n",
      "2/2 [==============================] - 0s 0s/step - loss: 34.1759 - mae: 34.1759\n",
      "Epoch 356/500\n",
      "2/2 [==============================] - 0s 16ms/step - loss: 7.7111 - mae: 7.7111\n",
      "Epoch 357/500\n",
      "2/2 [==============================] - 0s 16ms/step - loss: 25.2585 - mae: 25.2585\n",
      "Epoch 358/500\n",
      "2/2 [==============================] - 0s 16ms/step - loss: 22.7191 - mae: 22.7191\n",
      "Epoch 359/500\n",
      "2/2 [==============================] - 0s 16ms/step - loss: 8.8938 - mae: 8.8938\n",
      "Epoch 360/500\n",
      "2/2 [==============================] - 0s 0s/step - loss: 21.4627 - mae: 21.4627\n",
      "Epoch 361/500\n",
      "2/2 [==============================] - 0s 0s/step - loss: 20.6292 - mae: 20.6292\n",
      "Epoch 362/500\n",
      "2/2 [==============================] - 0s 16ms/step - loss: 7.0922 - mae: 7.0922\n",
      "Epoch 363/500\n",
      "2/2 [==============================] - 0s 0s/step - loss: 25.8217 - mae: 25.8217\n",
      "Epoch 364/500\n",
      "2/2 [==============================] - 0s 0s/step - loss: 32.2428 - mae: 32.2428\n",
      "Epoch 365/500\n",
      "2/2 [==============================] - 0s 16ms/step - loss: 10.0468 - mae: 10.0468\n",
      "Epoch 366/500\n",
      "2/2 [==============================] - 0s 16ms/step - loss: 9.6908 - mae: 9.6908\n",
      "Epoch 367/500\n",
      "2/2 [==============================] - 0s 16ms/step - loss: 30.4174 - mae: 30.4174\n",
      "Epoch 368/500\n",
      "2/2 [==============================] - 0s 7ms/step - loss: 10.5101 - mae: 10.5101\n",
      "Epoch 369/500\n",
      "2/2 [==============================] - 0s 16ms/step - loss: 14.9996 - mae: 14.9996\n",
      "Epoch 370/500\n",
      "2/2 [==============================] - 0s 0s/step - loss: 14.6639 - mae: 14.6639\n",
      "Epoch 371/500\n",
      "2/2 [==============================] - 0s 16ms/step - loss: 23.3779 - mae: 23.3779\n",
      "Epoch 372/500\n",
      "2/2 [==============================] - 0s 7ms/step - loss: 13.0945 - mae: 13.0945\n",
      "Epoch 373/500\n",
      "2/2 [==============================] - 0s 16ms/step - loss: 9.2605 - mae: 9.2605\n",
      "Epoch 374/500\n",
      "2/2 [==============================] - 0s 31ms/step - loss: 9.6831 - mae: 9.6831\n",
      "Epoch 375/500\n",
      "2/2 [==============================] - 0s 0s/step - loss: 13.0165 - mae: 13.0165\n",
      "Epoch 376/500\n",
      "2/2 [==============================] - 0s 0s/step - loss: 14.8966 - mae: 14.8966\n",
      "Epoch 377/500\n",
      "2/2 [==============================] - 0s 16ms/step - loss: 14.8138 - mae: 14.8138\n",
      "Epoch 378/500\n",
      "2/2 [==============================] - 0s 16ms/step - loss: 16.2915 - mae: 16.2915\n",
      "Epoch 379/500\n",
      "2/2 [==============================] - 0s 0s/step - loss: 20.8545 - mae: 20.8545\n",
      "Epoch 380/500\n",
      "2/2 [==============================] - 0s 16ms/step - loss: 33.4619 - mae: 33.4619\n",
      "Epoch 381/500\n",
      "2/2 [==============================] - 0s 16ms/step - loss: 8.2263 - mae: 8.2263\n",
      "Epoch 382/500\n",
      "2/2 [==============================] - 0s 0s/step - loss: 13.0485 - mae: 13.0485\n",
      "Epoch 383/500\n",
      "2/2 [==============================] - 0s 0s/step - loss: 8.4340 - mae: 8.4340\n",
      "Epoch 384/500\n",
      "2/2 [==============================] - 0s 16ms/step - loss: 7.1302 - mae: 7.1302\n",
      "Epoch 385/500\n",
      "2/2 [==============================] - 0s 22ms/step - loss: 10.9647 - mae: 10.9647\n",
      "Epoch 386/500\n",
      "2/2 [==============================] - 0s 16ms/step - loss: 19.8029 - mae: 19.8029\n",
      "Epoch 387/500\n",
      "2/2 [==============================] - 0s 16ms/step - loss: 24.7753 - mae: 24.7753\n",
      "Epoch 388/500\n",
      "2/2 [==============================] - 0s 0s/step - loss: 8.7268 - mae: 8.7268\n",
      "Epoch 389/500\n",
      "2/2 [==============================] - 0s 16ms/step - loss: 5.9612 - mae: 5.9612\n",
      "Epoch 390/500\n",
      "2/2 [==============================] - 0s 7ms/step - loss: 24.3396 - mae: 24.3396\n",
      "Epoch 391/500\n",
      "2/2 [==============================] - 0s 0s/step - loss: 5.9866 - mae: 5.9866\n",
      "Epoch 392/500\n",
      "2/2 [==============================] - 0s 16ms/step - loss: 16.1124 - mae: 16.1124\n",
      "Epoch 393/500\n",
      "2/2 [==============================] - 0s 16ms/step - loss: 6.5046 - mae: 6.5046\n",
      "Epoch 394/500\n",
      "2/2 [==============================] - 0s 22ms/step - loss: 12.5385 - mae: 12.5385\n",
      "Epoch 395/500\n",
      "2/2 [==============================] - 0s 10ms/step - loss: 12.4153 - mae: 12.4153\n",
      "Epoch 396/500\n",
      "2/2 [==============================] - 0s 10ms/step - loss: 7.3626 - mae: 7.3626\n",
      "Epoch 397/500\n",
      "2/2 [==============================] - 0s 8ms/step - loss: 7.6148 - mae: 7.6148\n",
      "Epoch 398/500\n",
      "2/2 [==============================] - 0s 10ms/step - loss: 20.3298 - mae: 20.3298\n",
      "Epoch 399/500\n",
      "2/2 [==============================] - 0s 10ms/step - loss: 5.9181 - mae: 5.9181\n",
      "Epoch 400/500\n",
      "2/2 [==============================] - 0s 2ms/step - loss: 24.6210 - mae: 24.6210\n",
      "Epoch 401/500\n",
      "2/2 [==============================] - 0s 10ms/step - loss: 13.1633 - mae: 13.1633\n",
      "Epoch 402/500\n",
      "2/2 [==============================] - 0s 2ms/step - loss: 8.3752 - mae: 8.3752\n",
      "Epoch 403/500\n",
      "2/2 [==============================] - 0s 10ms/step - loss: 9.8693 - mae: 9.8693\n",
      "Epoch 404/500\n",
      "2/2 [==============================] - 0s 10ms/step - loss: 12.6212 - mae: 12.6212\n",
      "Epoch 405/500\n",
      "2/2 [==============================] - 0s 12ms/step - loss: 8.7660 - mae: 8.7660\n",
      "Epoch 406/500\n",
      "2/2 [==============================] - 0s 10ms/step - loss: 21.6071 - mae: 21.6071\n",
      "Epoch 407/500\n",
      "2/2 [==============================] - 0s 10ms/step - loss: 20.4280 - mae: 20.4280\n",
      "Epoch 408/500\n",
      "2/2 [==============================] - 0s 10ms/step - loss: 10.4063 - mae: 10.4063\n",
      "Epoch 409/500\n",
      "2/2 [==============================] - 0s 2ms/step - loss: 9.4170 - mae: 9.4170\n",
      "Epoch 410/500\n",
      "2/2 [==============================] - 0s 12ms/step - loss: 13.3707 - mae: 13.3707\n",
      "Epoch 411/500\n",
      "2/2 [==============================] - 0s 10ms/step - loss: 15.8376 - mae: 15.8376\n",
      "Epoch 412/500\n",
      "2/2 [==============================] - 0s 2ms/step - loss: 23.5236 - mae: 23.5236\n",
      "Epoch 413/500\n",
      "2/2 [==============================] - 0s 12ms/step - loss: 16.4784 - mae: 16.4784\n",
      "Epoch 414/500\n",
      "2/2 [==============================] - 0s 10ms/step - loss: 4.9251 - mae: 4.9251\n",
      "Epoch 415/500\n",
      "2/2 [==============================] - 0s 10ms/step - loss: 13.9607 - mae: 13.9607\n",
      "Epoch 416/500\n",
      "2/2 [==============================] - 0s 12ms/step - loss: 28.9378 - mae: 28.9378\n",
      "Epoch 417/500\n",
      "2/2 [==============================] - 0s 8ms/step - loss: 5.9932 - mae: 5.9932\n",
      "Epoch 418/500\n",
      "2/2 [==============================] - 0s 10ms/step - loss: 12.5317 - mae: 12.5317\n",
      "Epoch 419/500\n",
      "2/2 [==============================] - 0s 10ms/step - loss: 11.4648 - mae: 11.4648\n",
      "Epoch 420/500\n",
      "2/2 [==============================] - 0s 12ms/step - loss: 23.8163 - mae: 23.8163\n",
      "Epoch 421/500\n",
      "2/2 [==============================] - 0s 8ms/step - loss: 19.8432 - mae: 19.8432\n",
      "Epoch 422/500\n",
      "2/2 [==============================] - 0s 8ms/step - loss: 4.9299 - mae: 4.9299\n",
      "Epoch 423/500\n",
      "2/2 [==============================] - 0s 10ms/step - loss: 27.9992 - mae: 27.9992\n",
      "Epoch 424/500\n",
      "2/2 [==============================] - 0s 10ms/step - loss: 8.5387 - mae: 8.5387\n",
      "Epoch 425/500\n",
      "2/2 [==============================] - 0s 10ms/step - loss: 16.2010 - mae: 16.2010\n",
      "Epoch 426/500\n",
      "2/2 [==============================] - 0s 8ms/step - loss: 7.6279 - mae: 7.6279\n",
      "Epoch 427/500\n"
     ]
    },
    {
     "name": "stdout",
     "output_type": "stream",
     "text": [
      "2/2 [==============================] - 0s 10ms/step - loss: 11.3267 - mae: 11.3267\n",
      "Epoch 428/500\n",
      "2/2 [==============================] - 0s 10ms/step - loss: 8.9615 - mae: 8.9615\n",
      "Epoch 429/500\n",
      "2/2 [==============================] - 0s 8ms/step - loss: 25.8116 - mae: 25.8116\n",
      "Epoch 430/500\n",
      "2/2 [==============================] - 0s 20ms/step - loss: 17.5282 - mae: 17.5282\n",
      "Epoch 431/500\n",
      "2/2 [==============================] - 0s 12ms/step - loss: 10.7055 - mae: 10.7055\n",
      "Epoch 432/500\n",
      "2/2 [==============================] - 0s 10ms/step - loss: 11.5699 - mae: 11.5699\n",
      "Epoch 433/500\n",
      "2/2 [==============================] - 0s 10ms/step - loss: 11.3797 - mae: 11.3797\n",
      "Epoch 434/500\n",
      "2/2 [==============================] - 0s 2ms/step - loss: 30.3625 - mae: 30.3625\n",
      "Epoch 435/500\n",
      "2/2 [==============================] - 0s 8ms/step - loss: 10.5010 - mae: 10.5010\n",
      "Epoch 436/500\n",
      "2/2 [==============================] - 0s 8ms/step - loss: 28.8419 - mae: 28.8419\n",
      "Epoch 437/500\n",
      "2/2 [==============================] - 0s 8ms/step - loss: 8.1367 - mae: 8.1367\n",
      "Epoch 438/500\n",
      "2/2 [==============================] - 0s 0s/step - loss: 12.8386 - mae: 12.8386\n",
      "Epoch 439/500\n",
      "2/2 [==============================] - 0s 0s/step - loss: 33.9479 - mae: 33.9479\n",
      "Epoch 440/500\n",
      "2/2 [==============================] - 0s 16ms/step - loss: 15.5061 - mae: 15.5061\n",
      "Epoch 441/500\n",
      "2/2 [==============================] - 0s 16ms/step - loss: 17.8870 - mae: 17.8870\n",
      "Epoch 442/500\n",
      "2/2 [==============================] - 0s 0s/step - loss: 17.4533 - mae: 17.4533\n",
      "Epoch 443/500\n",
      "2/2 [==============================] - 0s 7ms/step - loss: 7.6842 - mae: 7.6842\n",
      "Epoch 444/500\n",
      "2/2 [==============================] - 0s 0s/step - loss: 22.8899 - mae: 22.8899\n",
      "Epoch 445/500\n",
      "2/2 [==============================] - 0s 16ms/step - loss: 12.0459 - mae: 12.0459\n",
      "Epoch 446/500\n",
      "2/2 [==============================] - 0s 16ms/step - loss: 10.5134 - mae: 10.5134\n",
      "Epoch 447/500\n",
      "2/2 [==============================] - 0s 0s/step - loss: 16.9820 - mae: 16.9820\n",
      "Epoch 448/500\n",
      "2/2 [==============================] - 0s 0s/step - loss: 11.6854 - mae: 11.6854\n",
      "Epoch 449/500\n",
      "2/2 [==============================] - 0s 16ms/step - loss: 14.8692 - mae: 14.8692\n",
      "Epoch 450/500\n",
      "2/2 [==============================] - 0s 0s/step - loss: 17.6207 - mae: 17.6207\n",
      "Epoch 451/500\n",
      "2/2 [==============================] - 0s 16ms/step - loss: 14.6499 - mae: 14.6499\n",
      "Epoch 452/500\n",
      "2/2 [==============================] - 0s 16ms/step - loss: 31.3268 - mae: 31.3268\n",
      "Epoch 453/500\n",
      "2/2 [==============================] - 0s 2ms/step - loss: 10.6004 - mae: 10.6004\n",
      "Epoch 454/500\n",
      "2/2 [==============================] - 0s 10ms/step - loss: 26.9332 - mae: 26.9332\n",
      "Epoch 455/500\n",
      "2/2 [==============================] - 0s 10ms/step - loss: 12.1029 - mae: 12.1029\n",
      "Epoch 456/500\n",
      "2/2 [==============================] - 0s 10ms/step - loss: 15.3966 - mae: 15.3966\n",
      "Epoch 457/500\n",
      "2/2 [==============================] - 0s 10ms/step - loss: 19.1492 - mae: 19.1492\n",
      "Epoch 458/500\n",
      "2/2 [==============================] - 0s 16ms/step - loss: 23.2856 - mae: 23.2856\n",
      "Epoch 459/500\n",
      "2/2 [==============================] - 0s 16ms/step - loss: 16.6452 - mae: 16.6452\n",
      "Epoch 460/500\n",
      "2/2 [==============================] - 0s 0s/step - loss: 3.3901 - mae: 3.3901\n",
      "Epoch 461/500\n",
      "2/2 [==============================] - 0s 0s/step - loss: 12.8772 - mae: 12.8772\n",
      "Epoch 462/500\n",
      "2/2 [==============================] - 0s 22ms/step - loss: 12.2119 - mae: 12.2119\n",
      "Epoch 463/500\n",
      "2/2 [==============================] - 0s 16ms/step - loss: 27.2849 - mae: 27.2849\n",
      "Epoch 464/500\n",
      "2/2 [==============================] - 0s 0s/step - loss: 11.4694 - mae: 11.4694\n",
      "Epoch 465/500\n",
      "2/2 [==============================] - 0s 16ms/step - loss: 7.2904 - mae: 7.2904\n",
      "Epoch 466/500\n",
      "2/2 [==============================] - 0s 0s/step - loss: 11.9880 - mae: 11.9880\n",
      "Epoch 467/500\n",
      "2/2 [==============================] - 0s 0s/step - loss: 5.8873 - mae: 5.8873\n",
      "Epoch 468/500\n",
      "2/2 [==============================] - 0s 0s/step - loss: 13.2859 - mae: 13.2859\n",
      "Epoch 469/500\n",
      "2/2 [==============================] - 0s 16ms/step - loss: 13.2190 - mae: 13.2190\n",
      "Epoch 470/500\n",
      "2/2 [==============================] - 0s 0s/step - loss: 6.6659 - mae: 6.6659\n",
      "Epoch 471/500\n",
      "2/2 [==============================] - 0s 0s/step - loss: 22.2344 - mae: 22.2344\n",
      "Epoch 472/500\n",
      "2/2 [==============================] - 0s 0s/step - loss: 13.4981 - mae: 13.4981\n",
      "Epoch 473/500\n",
      "2/2 [==============================] - 0s 0s/step - loss: 15.4297 - mae: 15.4297\n",
      "Epoch 474/500\n",
      "2/2 [==============================] - 0s 16ms/step - loss: 11.8964 - mae: 11.8964\n",
      "Epoch 475/500\n",
      "2/2 [==============================] - 0s 0s/step - loss: 16.5414 - mae: 16.5414\n",
      "Epoch 476/500\n",
      "2/2 [==============================] - 0s 16ms/step - loss: 13.9429 - mae: 13.9429\n",
      "Epoch 477/500\n",
      "2/2 [==============================] - 0s 10ms/step - loss: 30.7740 - mae: 30.7740\n",
      "Epoch 478/500\n",
      "2/2 [==============================] - 0s 18ms/step - loss: 8.8000 - mae: 8.8000\n",
      "Epoch 479/500\n",
      "2/2 [==============================] - 0s 12ms/step - loss: 10.8860 - mae: 10.8860\n",
      "Epoch 480/500\n",
      "2/2 [==============================] - 0s 8ms/step - loss: 18.0537 - mae: 18.0537\n",
      "Epoch 481/500\n",
      "2/2 [==============================] - 0s 0s/step - loss: 15.9283 - mae: 15.9283\n",
      "Epoch 482/500\n",
      "2/2 [==============================] - 0s 16ms/step - loss: 21.5424 - mae: 21.5424\n",
      "Epoch 483/500\n",
      "2/2 [==============================] - 0s 16ms/step - loss: 24.8517 - mae: 24.8517\n",
      "Epoch 484/500\n",
      "2/2 [==============================] - 0s 16ms/step - loss: 23.4330 - mae: 23.4330\n",
      "Epoch 485/500\n",
      "2/2 [==============================] - 0s 0s/step - loss: 5.7196 - mae: 5.7196\n",
      "Epoch 486/500\n",
      "2/2 [==============================] - 0s 16ms/step - loss: 19.3581 - mae: 19.3581\n",
      "Epoch 487/500\n",
      "2/2 [==============================] - 0s 0s/step - loss: 13.9917 - mae: 13.9917\n",
      "Epoch 488/500\n",
      "2/2 [==============================] - 0s 16ms/step - loss: 30.5045 - mae: 30.5045\n",
      "Epoch 489/500\n",
      "2/2 [==============================] - 0s 0s/step - loss: 11.7866 - mae: 11.7866\n",
      "Epoch 490/500\n",
      "2/2 [==============================] - 0s 0s/step - loss: 12.4841 - mae: 12.4841\n",
      "Epoch 491/500\n",
      "2/2 [==============================] - 0s 16ms/step - loss: 23.6792 - mae: 23.6792\n",
      "Epoch 492/500\n",
      "2/2 [==============================] - 0s 0s/step - loss: 20.3795 - mae: 20.3795\n",
      "Epoch 493/500\n",
      "2/2 [==============================] - 0s 16ms/step - loss: 5.0005 - mae: 5.0005\n",
      "Epoch 494/500\n",
      "2/2 [==============================] - 0s 16ms/step - loss: 12.6710 - mae: 12.6710\n",
      "Epoch 495/500\n",
      "2/2 [==============================] - 0s 0s/step - loss: 13.4473 - mae: 13.4473\n",
      "Epoch 496/500\n",
      "2/2 [==============================] - 0s 0s/step - loss: 12.7233 - mae: 12.7233\n",
      "Epoch 497/500\n",
      "2/2 [==============================] - 0s 16ms/step - loss: 17.7150 - mae: 17.7150\n",
      "Epoch 498/500\n",
      "2/2 [==============================] - 0s 16ms/step - loss: 23.3653 - mae: 23.3653\n",
      "Epoch 499/500\n",
      "2/2 [==============================] - 0s 10ms/step - loss: 9.1161 - mae: 9.1161\n",
      "Epoch 500/500\n",
      "2/2 [==============================] - 0s 10ms/step - loss: 14.3976 - mae: 14.3976\n"
     ]
    },
    {
     "data": {
      "text/plain": [
       "<keras.src.callbacks.History at 0x277b8b71a00>"
      ]
     },
     "execution_count": 310,
     "metadata": {},
     "output_type": "execute_result"
    }
   ],
   "source": [
    "# Set the random seed\n",
    "tf.random.set_seed(42)\n",
    "\n",
    "# 1. Create a model\n",
    "model_3 = tf.keras.Sequential([\n",
    "    tf.keras.layers.Dense(50, input_shape=[1]),\n",
    "    tf.keras.layers.Dense(1)\n",
    "])\n",
    "\n",
    "# 2. Compile model\n",
    "model_3.compile(loss=tf.keras.losses.mae,\n",
    "               optimizer=tf.keras.optimizers.SGD(),\n",
    "               metrics = [\"mae\"])\n",
    "\n",
    "# 3. Fit model\n",
    "model_3.fit(X_train,y_train,epochs=500)"
   ]
  },
  {
   "cell_type": "code",
   "execution_count": 311,
   "id": "e33eac1c",
   "metadata": {},
   "outputs": [
    {
     "name": "stdout",
     "output_type": "stream",
     "text": [
      "1/1 [==============================] - 0s 116ms/step\n"
     ]
    },
    {
     "data": {
      "image/png": "[encoded data removed]",
      "text/plain": [
       "<Figure size 1000x700 with 1 Axes>"
      ]
     },
     "metadata": {},
     "output_type": "display_data"
    }
   ],
   "source": [
    "# Predict\n",
    "y_preds_3 = model_3.predict(X_test)\n",
    "plot_predictions(predictions=y_preds_3)"
   ]
  },
  {
   "cell_type": "code",
   "execution_count": 312,
   "id": "6831986e",
   "metadata": {},
   "outputs": [
    {
     "data": {
      "text/plain": [
       "(<tf.Tensor: shape=(), dtype=float32, numpy=67.9719>,\n",
       " <tf.Tensor: shape=(), dtype=float32, numpy=4704.609>)"
      ]
     },
     "execution_count": 312,
     "metadata": {},
     "output_type": "execute_result"
    }
   ],
   "source": [
    "mae_3 = mae(y_test,y_preds_3)\n",
    "mse_3 = mse(y_test,y_preds_3)\n",
    "mae_3, mse_3"
   ]
  },
  {
   "cell_type": "markdown",
   "id": "b64f9911",
   "metadata": {},
   "source": [
    "&#x1F511; **Note:** You want to start with small experiments (small models) and make sure they work and then increase their scale when necessary."
   ]
  },
  {
   "cell_type": "markdown",
   "id": "07bb0546",
   "metadata": {},
   "source": [
    "## Comparing the results of our experiments\n",
    "We've run a few experiments, let's compare the results."
   ]
  },
  {
   "cell_type": "code",
   "execution_count": 320,
   "id": "7f466c93",
   "metadata": {},
   "outputs": [],
   "source": [
    "# Let's compare our model's results using a pandas DataFrame\n",
    "import pandas as pd\n",
    "model_results = pd.DataFrame({'mse': [mse_1.numpy(),mse_2.numpy(),mse_3.numpy()], 'mae':[mae_1.numpy(),mae_2.numpy(),mae_3.numpy()]},index=['model_1','model_2','model_3'])"
   ]
  },
  {
   "cell_type": "code",
   "execution_count": 321,
   "id": "7f673e39",
   "metadata": {},
   "outputs": [
    {
     "data": {
      "text/html": [
       "<div>\n",
       "<style scoped>\n",
       "    .dataframe tbody tr th:only-of-type {\n",
       "        vertical-align: middle;\n",
       "    }\n",
       "\n",
       "    .dataframe tbody tr th {\n",
       "        vertical-align: top;\n",
       "    }\n",
       "\n",
       "    .dataframe thead th {\n",
       "        text-align: right;\n",
       "    }\n",
       "</style>\n",
       "<table border=\"1\" class=\"dataframe\">\n",
       "  <thead>\n",
       "    <tr style=\"text-align: right;\">\n",
       "      <th></th>\n",
       "      <th>mse</th>\n",
       "      <th>mae</th>\n",
       "    </tr>\n",
       "  </thead>\n",
       "  <tbody>\n",
       "    <tr>\n",
       "      <th>model_1</th>\n",
       "      <td>951.891602</td>\n",
       "      <td>30.682880</td>\n",
       "    </tr>\n",
       "    <tr>\n",
       "      <th>model_2</th>\n",
       "      <td>20.576300</td>\n",
       "      <td>4.145810</td>\n",
       "    </tr>\n",
       "    <tr>\n",
       "      <th>model_3</th>\n",
       "      <td>4704.608887</td>\n",
       "      <td>67.971901</td>\n",
       "    </tr>\n",
       "  </tbody>\n",
       "</table>\n",
       "</div>"
      ],
      "text/plain": [
       "                 mse        mae\n",
       "model_1   951.891602  30.682880\n",
       "model_2    20.576300   4.145810\n",
       "model_3  4704.608887  67.971901"
      ]
     },
     "execution_count": 321,
     "metadata": {},
     "output_type": "execute_result"
    }
   ],
   "source": [
    "model_results"
   ]
  },
  {
   "cell_type": "markdown",
   "id": "7c75e3bf",
   "metadata": {},
   "source": [
    "## Looks like model_2 performed the best..."
   ]
  },
  {
   "cell_type": "code",
   "execution_count": 322,
   "id": "1d713bee",
   "metadata": {},
   "outputs": [
    {
     "name": "stdout",
     "output_type": "stream",
     "text": [
      "Model: \"sequential_50\"\n",
      "_________________________________________________________________\n",
      " Layer (type)                Output Shape              Param #   \n",
      "=================================================================\n",
      " Input_layer (Dense)         (None, 50)                100       \n",
      "                                                                 \n",
      " Output_layer (Dense)        (None, 1)                 51        \n",
      "                                                                 \n",
      "=================================================================\n",
      "Total params: 151 (604.00 Byte)\n",
      "Trainable params: 151 (604.00 Byte)\n",
      "Non-trainable params: 0 (0.00 Byte)\n",
      "_________________________________________________________________\n"
     ]
    }
   ],
   "source": [
    "model_2.summary()"
   ]
  },
  {
   "cell_type": "markdown",
   "id": "18720a6c",
   "metadata": {},
   "source": [
    "> &#x1F511; **Note:** One of your main goals should be to minimize the time between your experiments. The more experiments you do, the more things you'll figure out which don't work and in turn, get closer to figuring out what does work. Remember the learning practitioner's motto: expriment, experiment, experment..."
   ]
  },
  {
   "cell_type": "markdown",
   "id": "12426948",
   "metadata": {},
   "source": [
    "## Tracking your experiments\n",
    "One really good habit in ML modelling is to track the results of your experiments.\n",
    "\n",
    "And when doing so, it can be tedious if you're running lots of experiments.\n",
    "\n",
    "Luckily, there are tools to help us!\n",
    "\n",
    "&#x1F4D6; **Resource:** As you build more models, you6'll want to look into using:\n",
    "\n",
    "* TensorBoard - a component of the TensorFlow library to help track modelling experiments (we'll see this one later).\n",
    "* Weights & Biases - a tool for tracking all of kinds of ML experiments (plugs straight into TensorBoard).                                                                                          "
   ]
  },
  {
   "cell_type": "markdown",
   "id": "39ab60d0",
   "metadata": {},
   "source": [
    "## Saving our models\n",
    "\n",
    "Saving our models allows us to use them outside of Google Colab (or wherever they were trained) such as in a web application or a mobile app.\n",
    "\n",
    "There are two main formats we can save our model's too:\n",
    "\n",
    "1. The SavedModel format\n",
    "2. The HDF5 format"
   ]
  },
  {
   "cell_type": "code",
   "execution_count": 324,
   "id": "8310126b",
   "metadata": {},
   "outputs": [
    {
     "name": "stdout",
     "output_type": "stream",
     "text": [
      "INFO:tensorflow:Assets written to: best_model_SavedModel_format\\assets\n"
     ]
    },
    {
     "name": "stderr",
     "output_type": "stream",
     "text": [
      "INFO:tensorflow:Assets written to: best_model_SavedModel_format\\assets\n"
     ]
    }
   ],
   "source": [
    "# Save model\n",
    "model_2.save(\"best_model_SavedModel_format\")"
   ]
  },
  {
   "cell_type": "code",
   "execution_count": 325,
   "id": "319a45f0",
   "metadata": {},
   "outputs": [
    {
     "name": "stderr",
     "output_type": "stream",
     "text": [
      "C:\\Users\\JERRI\\AppData\\Roaming\\Python\\Python39\\site-packages\\keras\\src\\engine\\training.py:3000: UserWarning: You are saving your model as an HDF5 file via `model.save()`. This file format is considered legacy. We recommend using instead the native Keras format, e.g. `model.save('my_model.keras')`.\n",
      "  saving_api.save_model(\n"
     ]
    }
   ],
   "source": [
    "# Save model using the HDF5 format\n",
    "model_2.save(\"best_model_SavedModel_format.h5\")"
   ]
  },
  {
   "cell_type": "markdown",
   "id": "a49182b8",
   "metadata": {},
   "source": [
    "## Loading in a saved model"
   ]
  },
  {
   "cell_type": "code",
   "execution_count": 326,
   "id": "305a4661",
   "metadata": {},
   "outputs": [
    {
     "name": "stdout",
     "output_type": "stream",
     "text": [
      "Model: \"sequential_50\"\n",
      "_________________________________________________________________\n",
      " Layer (type)                Output Shape              Param #   \n",
      "=================================================================\n",
      " Input_layer (Dense)         (None, 50)                100       \n",
      "                                                                 \n",
      " Output_layer (Dense)        (None, 1)                 51        \n",
      "                                                                 \n",
      "=================================================================\n",
      "Total params: 151 (604.00 Byte)\n",
      "Trainable params: 151 (604.00 Byte)\n",
      "Non-trainable params: 0 (0.00 Byte)\n",
      "_________________________________________________________________\n"
     ]
    }
   ],
   "source": [
    "# Load in the SavedModel format\n",
    "loaded_SavedModel_format = tf.keras.models.load_model(r'C:\\Users\\JERRI\\Downloads\\Desktop\\tf\\best_model_SavedModel_format')\n",
    "loaded_SavedModel_format.summary()"
   ]
  },
  {
   "cell_type": "code",
   "execution_count": 327,
   "id": "81a57361",
   "metadata": {},
   "outputs": [
    {
     "name": "stdout",
     "output_type": "stream",
     "text": [
      "Model: \"sequential_50\"\n",
      "_________________________________________________________________\n",
      " Layer (type)                Output Shape              Param #   \n",
      "=================================================================\n",
      " Input_layer (Dense)         (None, 50)                100       \n",
      "                                                                 \n",
      " Output_layer (Dense)        (None, 1)                 51        \n",
      "                                                                 \n",
      "=================================================================\n",
      "Total params: 151 (604.00 Byte)\n",
      "Trainable params: 151 (604.00 Byte)\n",
      "Non-trainable params: 0 (0.00 Byte)\n",
      "_________________________________________________________________\n"
     ]
    }
   ],
   "source": [
    "model_2.summary()"
   ]
  },
  {
   "cell_type": "code",
   "execution_count": 328,
   "id": "eab2b870",
   "metadata": {},
   "outputs": [
    {
     "name": "stdout",
     "output_type": "stream",
     "text": [
      "1/1 [==============================] - 1s 1s/step\n",
      "1/1 [==============================] - 0s 464ms/step\n"
     ]
    },
    {
     "data": {
      "text/plain": [
       "array([[ True],\n",
       "       [ True],\n",
       "       [ True],\n",
       "       [ True],\n",
       "       [ True],\n",
       "       [ True],\n",
       "       [ True],\n",
       "       [ True],\n",
       "       [ True],\n",
       "       [ True]])"
      ]
     },
     "execution_count": 328,
     "metadata": {},
     "output_type": "execute_result"
    }
   ],
   "source": [
    "# Compare model_2 predictions with SavedModel format model predictions\n",
    "model_2_preds = model_2.predict(X_test)\n",
    "loaded_SavedModel_format_preds = loaded_SavedModel_format.predict(X_test)\n",
    "model_2_preds==loaded_SavedModel_format_preds"
   ]
  },
  {
   "cell_type": "code",
   "execution_count": 329,
   "id": "6a69f59a",
   "metadata": {},
   "outputs": [
    {
     "data": {
      "text/plain": [
       "(array([[ 71.261826],\n",
       "        [ 75.90271 ],\n",
       "        [ 80.543594],\n",
       "        [ 85.18449 ],\n",
       "        [ 89.82536 ],\n",
       "        [ 94.46625 ],\n",
       "        [ 99.10714 ],\n",
       "        [103.748024],\n",
       "        [108.38891 ],\n",
       "        [113.0298  ]], dtype=float32),\n",
       " array([[ 71.261826],\n",
       "        [ 75.90271 ],\n",
       "        [ 80.543594],\n",
       "        [ 85.18449 ],\n",
       "        [ 89.82536 ],\n",
       "        [ 94.46625 ],\n",
       "        [ 99.10714 ],\n",
       "        [103.748024],\n",
       "        [108.38891 ],\n",
       "        [113.0298  ]], dtype=float32))"
      ]
     },
     "execution_count": 329,
     "metadata": {},
     "output_type": "execute_result"
    }
   ],
   "source": [
    "model_2_preds, loaded_SavedModel_format_preds"
   ]
  },
  {
   "cell_type": "code",
   "execution_count": 330,
   "id": "904c20ae",
   "metadata": {},
   "outputs": [
    {
     "name": "stdout",
     "output_type": "stream",
     "text": [
      "Model: \"sequential_50\"\n",
      "_________________________________________________________________\n",
      " Layer (type)                Output Shape              Param #   \n",
      "=================================================================\n",
      " Input_layer (Dense)         (None, 50)                100       \n",
      "                                                                 \n",
      " Output_layer (Dense)        (None, 1)                 51        \n",
      "                                                                 \n",
      "=================================================================\n",
      "Total params: 151 (604.00 Byte)\n",
      "Trainable params: 151 (604.00 Byte)\n",
      "Non-trainable params: 0 (0.00 Byte)\n",
      "_________________________________________________________________\n"
     ]
    }
   ],
   "source": [
    "# Load in a model using the .h5 format\n",
    "\n",
    "loaded_h5_model =tf.keras.models.load_model(r'C:\\Users\\JERRI\\Downloads\\Desktop\\tf\\best_model_SavedModel_format.h5')\n",
    "loaded_h5_model.summary()"
   ]
  },
  {
   "cell_type": "code",
   "execution_count": 331,
   "id": "f3f4225b",
   "metadata": {},
   "outputs": [
    {
     "name": "stdout",
     "output_type": "stream",
     "text": [
      "1/1 [==============================] - 0s 448ms/step\n",
      "1/1 [==============================] - 1s 586ms/step\n"
     ]
    },
    {
     "data": {
      "text/plain": [
       "array([[ True],\n",
       "       [ True],\n",
       "       [ True],\n",
       "       [ True],\n",
       "       [ True],\n",
       "       [ True],\n",
       "       [ True],\n",
       "       [ True],\n",
       "       [ True],\n",
       "       [ True]])"
      ]
     },
     "execution_count": 331,
     "metadata": {},
     "output_type": "execute_result"
    }
   ],
   "source": [
    "# Check to see if loaded .h5 model predictions match model_2\n",
    "model_2_preds = model_2.predict(X_test)\n",
    "loaded_h5_model_preds = loaded_h5_model.predict(X_test)\n",
    "model_2_preds==loaded_h5_model_preds"
   ]
  },
  {
   "cell_type": "markdown",
   "id": "d8ba1381",
   "metadata": {},
   "source": [
    "## Download a model (or any other file) from Google Colab\n",
    "\n",
    "If you want to download your files from Google Colab:\n",
    "    \n",
    "    1. You can go to the \"files\" tab and righ click on the file you're after and click 'download'.\n",
    "    2. Use code (see the cell below).\n",
    "    3. Save it to Google Drive by connecting and copying it there (see 2nd code cell below)"
   ]
  },
  {
   "cell_type": "raw",
   "id": "dda194e1",
   "metadata": {},
   "source": [
    "# Download a file from Google Colab\n",
    "from google.colab import files\n",
    "#files.download(filename)"
   ]
  },
  {
   "cell_type": "raw",
   "id": "9fb7f001",
   "metadata": {},
   "source": [
    "# Save a file from Google Colab to Google Drive (requires mounting Google Drive)\n",
    "!cp filename filepath\n"
   ]
  },
  {
   "cell_type": "raw",
   "id": "0c36d9ff",
   "metadata": {},
   "source": [
    "!ls targetfolder"
   ]
  },
  {
   "cell_type": "markdown",
   "id": "847895af",
   "metadata": {},
   "source": [
    "## A larger Example"
   ]
  },
  {
   "cell_type": "code",
   "execution_count": null,
   "id": "6b31c81f",
   "metadata": {},
   "outputs": [],
   "source": []
  }
 ],
 "metadata": {
  "kernelspec": {
   "display_name": "Python 3 (ipykernel)",
   "language": "python",
   "name": "python3"
  },
  "language_info": {
   "codemirror_mode": {
    "name": "ipython",
    "version": 3
   },
   "file_extension": ".py",
   "mimetype": "text/x-python",
   "name": "python",
   "nbconvert_exporter": "python",
   "pygments_lexer": "ipython3",
   "version": "3.9.13"
  }
 },
 "nbformat": 4,
 "nbformat_minor": 5
}
